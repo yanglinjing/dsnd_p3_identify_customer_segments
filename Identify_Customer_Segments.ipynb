{
  "nbformat": 4,
  "nbformat_minor": 0,
  "metadata": {
    "colab": {
      "name": "Identify_Customer_Segments.ipynb",
      "version": "0.3.2",
      "provenance": [],
      "collapsed_sections": [
        "_DuRxjwLvFJ2",
        "lYmap_u0vFJ4",
        "B5KbUNCYvFKA",
        "-yp_n4XBvFKL",
        "5HYBCBa7vFKM",
        "YSvswnc8vFKW",
        "XthNNYnAvFKZ",
        "Bm4hxdIuvFKh",
        "nCIjStHVvFKk",
        "1aSkdeJQvFKp",
        "EQ1EVk-AvFKq",
        "pWeuVSPrvFK2",
        "2T2O6gVQvFK3",
        "n1fe8HslvFLB",
        "ceGmXFhFvFLC",
        "hI44GlRavFLK",
        "A-fJAXn8vFLL",
        "2lLNEd_jvFLQ",
        "rlKlTILzvFLb"
      ]
    },
    "kernelspec": {
      "display_name": "Python 3",
      "language": "python",
      "name": "python3"
    }
  },
  "cells": [
    {
      "metadata": {
        "id": "afnCeS4XvFJa",
        "colab_type": "text"
      },
      "cell_type": "markdown",
      "source": [
        "# Project: Identify Customer Segments\n",
        "\n",
        "\n"
      ]
    },
    {
      "metadata": {
        "id": "hMO_EujCgi3J",
        "colab_type": "text"
      },
      "cell_type": "markdown",
      "source": [
        "## Introduction\n",
        "The real-life data in this project concerns a company that performs mail-order sales in Germany, provided by AZ Direct and Arvato Finance Solution.\n",
        "\n",
        "The goal of this project is to identify facets of the population that are most likely to be purchasers of their products for a mailout campaign. Unsupervised learning techniques are used to organize the general population into clusters for checking which of them comprise the main user base for the company. \n",
        "\n",
        "There are a few steps of data cleaning before the machine learning techniques have been applied.\n",
        "\n",
        "### Data\n",
        "\n",
        "The main data for this project consist of two files:\n",
        "\n",
        "- `Udacity_AZDIAS_Subset.csv`: demographics data for the general population of\n",
        "      Germany; 891211 persons (rows) x 85 features (columns)\n",
        "- `Udacity_CUSTOMERS_Subset.csv`: demographics data for customers of a mail-order\n",
        "      company; 191652 persons (rows) x 85 features (columns)\n",
        "\n",
        "The **columns** in the *general* demographics file and *customers* data file are the\n",
        "**same**. \n",
        "\n",
        "Each row of the demographics files represents a single person, but also includes information outside of individuals, including information about their **household**, **building**, and **neighborhood**. \n",
        "\n",
        "### Features\n",
        "There are another two documents explaining features:\n",
        "\n",
        "- `AZDIAS_Feature_Summary.csv`: Summary of  demographics data \n",
        "       features; 85 features (rows) x 4 columns\n",
        "\n",
        "- `Data_Dictionary.md`: Detailed information file about the \n",
        "       features\n",
        "\n",
        "#### Latent Features\n",
        "\n",
        " 1. Person-level features\n",
        " 2. Household-level features\n",
        " 3. Building-level features\n",
        " 4. RR4 micro-cell features\n",
        " 5. RR3 micro-cell features\n",
        " 6. Postcode-level features\n",
        " 7. RR1 neighborhood features\n",
        " 8. PLZ8 macro-cell features\n",
        " 9. Community-level features"
      ]
    },
    {
      "metadata": {
        "id": "Tg_Ni66YhcFw",
        "colab_type": "code",
        "colab": {}
      },
      "cell_type": "code",
      "source": [
        "# All the documents are stored on Google Drive.\n",
        "# It requires authorisation before use them.\n",
        "# This chunk of code is about authorisation.\n",
        "\n",
        "# Mounting Google Drive locally\n",
        "# https://colab.research.google.com/notebooks/io.ipynb#scrollTo=u22w3BFiOveA\n",
        "\n",
        "from google.colab import drive\n",
        "drive.mount('/content/gdrive')"
      ],
      "execution_count": 0,
      "outputs": []
    },
    {
      "metadata": {
        "id": "jvFF8YvLhh0B",
        "colab_type": "code",
        "colab": {
          "base_uri": "https://localhost:8080/",
          "height": 34
        },
        "outputId": "7168e368-d310-4711-fe51-afbfbb2f2094"
      },
      "cell_type": "code",
      "source": [
        "!pwd"
      ],
      "execution_count": 6,
      "outputs": [
        {
          "output_type": "stream",
          "text": [
            "/content/gdrive/My Drive/Colab Notebooks/dsnd_p1_charity\n"
          ],
          "name": "stdout"
        }
      ]
    },
    {
      "metadata": {
        "id": "Wi6oOWYLhknx",
        "colab_type": "code",
        "colab": {
          "base_uri": "https://localhost:8080/",
          "height": 34
        },
        "outputId": "36a38cc3-6fcd-4995-bf90-556351c56bb0"
      },
      "cell_type": "code",
      "source": [
        "# CPU!!! --gdrive\n",
        "#google colab - change path to google drive\n",
        "\n",
        "import os \n",
        "os.chdir('gdrive/My Drive/Colab Notebooks/dsnd_p3_identify_customer_segments')\n",
        "!pwd"
      ],
      "execution_count": 11,
      "outputs": [
        {
          "output_type": "stream",
          "text": [
            "/content/gdrive/My Drive/Colab Notebooks/dsnd_p3_identify_customer_segments\n"
          ],
          "name": "stdout"
        }
      ]
    },
    {
      "metadata": {
        "id": "lz674iZPkEP1",
        "colab_type": "code",
        "colab": {
          "base_uri": "https://localhost:8080/",
          "height": 67
        },
        "outputId": "dc0218b4-8796-47a6-8491-5b7cad902119"
      },
      "cell_type": "code",
      "source": [
        "!ls data"
      ],
      "execution_count": 215,
      "outputs": [
        {
          "output_type": "stream",
          "text": [
            "AZDIAS_Feature_Summary.csv\t Data_Dictionary.md\n",
            "azdias_updated_missing_data.csv  Udacity_AZDIAS_Subset.csv\n",
            "data_dictionary.ipynb\t\t Udacity_CUSTOMERS_Subset.csv\n"
          ],
          "name": "stdout"
        }
      ]
    },
    {
      "metadata": {
        "id": "oyBmVfEzvFJc",
        "colab_type": "code",
        "colab": {}
      },
      "cell_type": "code",
      "source": [
        "# import libraries here; add more as necessary\n",
        "import numpy as np\n",
        "import pandas as pd\n",
        "\n",
        "import matplotlib.pyplot as plt\n",
        "import seaborn as sns\n",
        "\n",
        "from random import shuffle\n",
        "\n",
        "# magic word for producing visualizations in notebook\n",
        "%matplotlib inline"
      ],
      "execution_count": 0,
      "outputs": []
    },
    {
      "metadata": {
        "id": "PMIfsGM689Rj",
        "colab_type": "code",
        "colab": {}
      },
      "cell_type": "code",
      "source": [
        "my_color = ['#42bff4', '#f9ace9']"
      ],
      "execution_count": 0,
      "outputs": []
    },
    {
      "metadata": {
        "id": "LEE6PpX7vFJg",
        "colab_type": "text"
      },
      "cell_type": "markdown",
      "source": [
        "## Step 0: Load the Data\n",
        "\n",
        "You will use this information to **cluster** the general population into groups with similar demographic properties. Then, you will see how the people in the customers dataset **fit** into those created clusters. \n",
        "\n",
        "The hope here is that certain clusters are*** over-represented*** in the customers data, as compared to the general population; those over-represented clusters will be assumed to be part of the core userbase. This information can then be used for further applications, such as targeting for a marketing campaign.\n",
        "\n"
      ]
    },
    {
      "metadata": {
        "id": "ppS1mCGBi5ZU",
        "colab_type": "text"
      },
      "cell_type": "markdown",
      "source": [
        "To start off with, load in the demographics data for the general population into a pandas DataFrame, and do the same for the feature attributes summary.\n",
        "\n",
        "> **Tip**:  Note for all of the `.csv` data files in this project: they're semicolon (`;`) delimited, so you'll need an additional argument in your [`read_csv()`](https://pandas.pydata.org/pandas-docs/stable/generated/pandas.read_csv.html) call to read in the data properly. Also, considering the size of the main dataset, it may take some time for it to load completely.\n",
        "\n",
        "\n",
        "> **Tip**: Add additional cells to keep everything in reasonably-sized chunks! Keyboard shortcut `esc --> a` (press escape to enter command mode, then press the 'A' key) adds a new cell before the active cell, and `esc --> b` adds a new cell after the active cell. If you need to convert an active cell to a markdown cell, use `esc --> m` and to convert to a code cell, use `esc --> y`. \n"
      ]
    },
    {
      "metadata": {
        "id": "O0FVZrpw9XkX",
        "colab_type": "text"
      },
      "cell_type": "markdown",
      "source": [
        "#### General Demographics Data"
      ]
    },
    {
      "metadata": {
        "id": "fkRtEh8IvFJh",
        "colab_type": "code",
        "colab": {}
      },
      "cell_type": "code",
      "source": [
        "# Load in the general demographics data.\n",
        "azdias = pd.read_csv('data/Udacity_AZDIAS_Subset.csv', sep = ';')"
      ],
      "execution_count": 0,
      "outputs": []
    },
    {
      "metadata": {
        "id": "4lyXGg_cvFJk",
        "colab_type": "code",
        "colab": {
          "base_uri": "https://localhost:8080/",
          "height": 126
        },
        "outputId": "963ecb08-bf4d-485b-b5ff-30407a826f0f"
      },
      "cell_type": "code",
      "source": [
        "# Check the structure of the data after it's loaded (e.g. print the number of\n",
        "# rows and columns, print the first few rows).\n",
        "\n",
        "azdias.sample(1)"
      ],
      "execution_count": 219,
      "outputs": [
        {
          "output_type": "execute_result",
          "data": {
            "text/html": [
              "<div>\n",
              "<style scoped>\n",
              "    .dataframe tbody tr th:only-of-type {\n",
              "        vertical-align: middle;\n",
              "    }\n",
              "\n",
              "    .dataframe tbody tr th {\n",
              "        vertical-align: top;\n",
              "    }\n",
              "\n",
              "    .dataframe thead th {\n",
              "        text-align: right;\n",
              "    }\n",
              "</style>\n",
              "<table border=\"1\" class=\"dataframe\">\n",
              "  <thead>\n",
              "    <tr style=\"text-align: right;\">\n",
              "      <th></th>\n",
              "      <th>AGER_TYP</th>\n",
              "      <th>ALTERSKATEGORIE_GROB</th>\n",
              "      <th>ANREDE_KZ</th>\n",
              "      <th>CJT_GESAMTTYP</th>\n",
              "      <th>FINANZ_MINIMALIST</th>\n",
              "      <th>FINANZ_SPARER</th>\n",
              "      <th>FINANZ_VORSORGER</th>\n",
              "      <th>FINANZ_ANLEGER</th>\n",
              "      <th>FINANZ_UNAUFFAELLIGER</th>\n",
              "      <th>FINANZ_HAUSBAUER</th>\n",
              "      <th>...</th>\n",
              "      <th>PLZ8_ANTG1</th>\n",
              "      <th>PLZ8_ANTG2</th>\n",
              "      <th>PLZ8_ANTG3</th>\n",
              "      <th>PLZ8_ANTG4</th>\n",
              "      <th>PLZ8_BAUMAX</th>\n",
              "      <th>PLZ8_HHZ</th>\n",
              "      <th>PLZ8_GBZ</th>\n",
              "      <th>ARBEIT</th>\n",
              "      <th>ORTSGR_KLS9</th>\n",
              "      <th>RELAT_AB</th>\n",
              "    </tr>\n",
              "  </thead>\n",
              "  <tbody>\n",
              "    <tr>\n",
              "      <th>747199</th>\n",
              "      <td>-1</td>\n",
              "      <td>1</td>\n",
              "      <td>2</td>\n",
              "      <td>4.0</td>\n",
              "      <td>1</td>\n",
              "      <td>5</td>\n",
              "      <td>2</td>\n",
              "      <td>4</td>\n",
              "      <td>4</td>\n",
              "      <td>4</td>\n",
              "      <td>...</td>\n",
              "      <td>2.0</td>\n",
              "      <td>4.0</td>\n",
              "      <td>2.0</td>\n",
              "      <td>1.0</td>\n",
              "      <td>2.0</td>\n",
              "      <td>4.0</td>\n",
              "      <td>3.0</td>\n",
              "      <td>2.0</td>\n",
              "      <td>7.0</td>\n",
              "      <td>3.0</td>\n",
              "    </tr>\n",
              "  </tbody>\n",
              "</table>\n",
              "<p>1 rows × 85 columns</p>\n",
              "</div>"
            ],
            "text/plain": [
              "        AGER_TYP  ALTERSKATEGORIE_GROB  ANREDE_KZ  CJT_GESAMTTYP  \\\n",
              "747199        -1                     1          2            4.0   \n",
              "\n",
              "        FINANZ_MINIMALIST  FINANZ_SPARER  FINANZ_VORSORGER  FINANZ_ANLEGER  \\\n",
              "747199                  1              5                 2               4   \n",
              "\n",
              "        FINANZ_UNAUFFAELLIGER  FINANZ_HAUSBAUER    ...     PLZ8_ANTG1  \\\n",
              "747199                      4                 4    ...            2.0   \n",
              "\n",
              "        PLZ8_ANTG2  PLZ8_ANTG3  PLZ8_ANTG4  PLZ8_BAUMAX  PLZ8_HHZ  PLZ8_GBZ  \\\n",
              "747199         4.0         2.0         1.0          2.0       4.0       3.0   \n",
              "\n",
              "        ARBEIT  ORTSGR_KLS9  RELAT_AB  \n",
              "747199     2.0          7.0       3.0  \n",
              "\n",
              "[1 rows x 85 columns]"
            ]
          },
          "metadata": {
            "tags": []
          },
          "execution_count": 219
        }
      ]
    },
    {
      "metadata": {
        "id": "0sEik4lfmws-",
        "colab_type": "code",
        "colab": {
          "base_uri": "https://localhost:8080/",
          "height": 34
        },
        "outputId": "c45c64b0-6055-4b20-9c3f-3e77795165a3"
      },
      "cell_type": "code",
      "source": [
        "azdias.shape"
      ],
      "execution_count": 220,
      "outputs": [
        {
          "output_type": "execute_result",
          "data": {
            "text/plain": [
              "(891221, 85)"
            ]
          },
          "metadata": {
            "tags": []
          },
          "execution_count": 220
        }
      ]
    },
    {
      "metadata": {
        "id": "54zs0KyWUtO2",
        "colab_type": "code",
        "colab": {}
      },
      "cell_type": "code",
      "source": [
        "azdias.info()"
      ],
      "execution_count": 0,
      "outputs": []
    },
    {
      "metadata": {
        "id": "UFuutbVf9dPh",
        "colab_type": "text"
      },
      "cell_type": "markdown",
      "source": [
        "#### Feature Summary File"
      ]
    },
    {
      "metadata": {
        "id": "lpw8YCEQ9O6s",
        "colab_type": "code",
        "colab": {}
      },
      "cell_type": "code",
      "source": [
        "# Load in the feature summary file.\n",
        "feat_info = pd.read_csv('data/AZDIAS_Feature_Summary.csv', sep = ';')\n",
        "feat_info.set_index('attribute', inplace=True)"
      ],
      "execution_count": 0,
      "outputs": []
    },
    {
      "metadata": {
        "id": "LGa8te2-m8aG",
        "colab_type": "code",
        "colab": {
          "base_uri": "https://localhost:8080/",
          "height": 225
        },
        "outputId": "872fd6af-9a74-40ff-d638-80371ddcf1ab"
      },
      "cell_type": "code",
      "source": [
        "feat_info.sample(5)"
      ],
      "execution_count": 306,
      "outputs": [
        {
          "output_type": "execute_result",
          "data": {
            "text/html": [
              "<div>\n",
              "<style scoped>\n",
              "    .dataframe tbody tr th:only-of-type {\n",
              "        vertical-align: middle;\n",
              "    }\n",
              "\n",
              "    .dataframe tbody tr th {\n",
              "        vertical-align: top;\n",
              "    }\n",
              "\n",
              "    .dataframe thead th {\n",
              "        text-align: right;\n",
              "    }\n",
              "</style>\n",
              "<table border=\"1\" class=\"dataframe\">\n",
              "  <thead>\n",
              "    <tr style=\"text-align: right;\">\n",
              "      <th></th>\n",
              "      <th>information_level</th>\n",
              "      <th>type</th>\n",
              "      <th>missing_or_unknown</th>\n",
              "    </tr>\n",
              "    <tr>\n",
              "      <th>attribute</th>\n",
              "      <th></th>\n",
              "      <th></th>\n",
              "      <th></th>\n",
              "    </tr>\n",
              "  </thead>\n",
              "  <tbody>\n",
              "    <tr>\n",
              "      <th>GEBAEUDETYP</th>\n",
              "      <td>building</td>\n",
              "      <td>categorical</td>\n",
              "      <td>[-1,0]</td>\n",
              "    </tr>\n",
              "    <tr>\n",
              "      <th>FINANZ_UNAUFFAELLIGER</th>\n",
              "      <td>person</td>\n",
              "      <td>ordinal</td>\n",
              "      <td>[-1]</td>\n",
              "    </tr>\n",
              "    <tr>\n",
              "      <th>PLZ8_GBZ</th>\n",
              "      <td>macrocell_plz8</td>\n",
              "      <td>ordinal</td>\n",
              "      <td>[-1]</td>\n",
              "    </tr>\n",
              "    <tr>\n",
              "      <th>SEMIO_PFLICHT</th>\n",
              "      <td>person</td>\n",
              "      <td>ordinal</td>\n",
              "      <td>[-1,9]</td>\n",
              "    </tr>\n",
              "    <tr>\n",
              "      <th>CAMEO_INTL_2015</th>\n",
              "      <td>microcell_rr4</td>\n",
              "      <td>mixed</td>\n",
              "      <td>[-1,XX]</td>\n",
              "    </tr>\n",
              "  </tbody>\n",
              "</table>\n",
              "</div>"
            ],
            "text/plain": [
              "                      information_level         type missing_or_unknown\n",
              "attribute                                                              \n",
              "GEBAEUDETYP                    building  categorical             [-1,0]\n",
              "FINANZ_UNAUFFAELLIGER            person      ordinal               [-1]\n",
              "PLZ8_GBZ                 macrocell_plz8      ordinal               [-1]\n",
              "SEMIO_PFLICHT                    person      ordinal             [-1,9]\n",
              "CAMEO_INTL_2015           microcell_rr4        mixed            [-1,XX]"
            ]
          },
          "metadata": {
            "tags": []
          },
          "execution_count": 306
        }
      ]
    },
    {
      "metadata": {
        "id": "wyuqs7lZvFJn",
        "colab_type": "text"
      },
      "cell_type": "markdown",
      "source": [
        "## Step 1: Preprocessing\n",
        "\n",
        "### Step 1.1: Assess Missing Data\n",
        "\n",
        "First of all, you should **assess** the demographics data in terms of missing data. \n",
        "\n"
      ]
    },
    {
      "metadata": {
        "id": "3vF6UW6Og6Vn",
        "colab_type": "text"
      },
      "cell_type": "markdown",
      "source": [
        "#### Step 1.1.1: Convert Missing Value Codes to NaNs\n",
        "The **fourth** column of the **feature summary** (loaded in above as `feat_info`) documents the codes from the data dictionary that indicate*** missing or unknown data***. While the file encodes this as a list (e.g. `[-1,0]`), this will get read in as a **string** object. You'll need to do a little bit of parsing to make use of it to identify and clean the data. Convert data that matches a 'missing' or 'unknown' value code into a numpy NaN value. You might want to see how much data takes on a 'missing' or 'unknown' code, and how much data is naturally missing, as a point of interest.\n",
        "\n",
        "**As one more reminder, you are encouraged to add additional cells to break up your analysis into manageable chunks.**"
      ]
    },
    {
      "metadata": {
        "id": "bz2ycby359U0",
        "colab_type": "code",
        "colab": {}
      },
      "cell_type": "code",
      "source": [
        "# Identify missing or unknown data values and convert them to NaNs.\n",
        "# In 'feat_info', the column 'missing_or_unknown' (type: object) shows missing values (e.g. -1, 0)\n",
        "for col in azdias.columns:\n",
        "  print(col)\n",
        "  if azdias[col].dtype == 'float64':\n",
        "    azdias[col] = azdias[col].map(lambda x: np.nan if '{:.0f}'.format(x) in feat_info.loc[col].missing_or_unknown else x)  \n",
        "  else:\n",
        "    azdias[col] = azdias[col].map(lambda x: np.nan if str(x) in feat_info.loc[col].missing_or_unknown else x)\n",
        "    \n",
        "# This code cell is retrived from \n",
        "# https://github.com/atahmasb/Identify-Customer-Segments-with-Arvato/blob/master/Identify_Customer_Segments.ipynb"
      ],
      "execution_count": 0,
      "outputs": []
    },
    {
      "metadata": {
        "id": "ldC5_wqi-o9o",
        "colab_type": "code",
        "colab": {}
      },
      "cell_type": "code",
      "source": [
        "#Save the result into a new df as this step takes a long time to run  \n",
        "\n",
        "#azdias.to_csv('data/azdias_updated_missing_data.csv', sep=';', index = False)"
      ],
      "execution_count": 0,
      "outputs": []
    },
    {
      "metadata": {
        "id": "9_jQvzkh690m",
        "colab_type": "code",
        "colab": {}
      },
      "cell_type": "code",
      "source": [
        "df_new = pd.read_csv('data/azdias_updated_missing_data.csv', sep=';')"
      ],
      "execution_count": 0,
      "outputs": []
    },
    {
      "metadata": {
        "id": "n8Y4kd67eEqS",
        "colab_type": "code",
        "colab": {
          "base_uri": "https://localhost:8080/",
          "height": 34
        },
        "outputId": "dc3ba070-3c63-4d5c-a071-a75f24680087"
      },
      "cell_type": "code",
      "source": [
        "df_new.shape"
      ],
      "execution_count": 313,
      "outputs": [
        {
          "output_type": "execute_result",
          "data": {
            "text/plain": [
              "(891221, 85)"
            ]
          },
          "metadata": {
            "tags": []
          },
          "execution_count": 313
        }
      ]
    },
    {
      "metadata": {
        "id": "tVVc3_vsAsAX",
        "colab_type": "code",
        "colab": {
          "base_uri": "https://localhost:8080/",
          "height": 244
        },
        "outputId": "158a064d-8781-458e-97f4-c9b1cd36ad60"
      },
      "cell_type": "code",
      "source": [
        "df_new.head(5)"
      ],
      "execution_count": 277,
      "outputs": [
        {
          "output_type": "execute_result",
          "data": {
            "text/html": [
              "<div>\n",
              "<style scoped>\n",
              "    .dataframe tbody tr th:only-of-type {\n",
              "        vertical-align: middle;\n",
              "    }\n",
              "\n",
              "    .dataframe tbody tr th {\n",
              "        vertical-align: top;\n",
              "    }\n",
              "\n",
              "    .dataframe thead th {\n",
              "        text-align: right;\n",
              "    }\n",
              "</style>\n",
              "<table border=\"1\" class=\"dataframe\">\n",
              "  <thead>\n",
              "    <tr style=\"text-align: right;\">\n",
              "      <th></th>\n",
              "      <th>AGER_TYP</th>\n",
              "      <th>ALTERSKATEGORIE_GROB</th>\n",
              "      <th>ANREDE_KZ</th>\n",
              "      <th>CJT_GESAMTTYP</th>\n",
              "      <th>FINANZ_MINIMALIST</th>\n",
              "      <th>FINANZ_SPARER</th>\n",
              "      <th>FINANZ_VORSORGER</th>\n",
              "      <th>FINANZ_ANLEGER</th>\n",
              "      <th>FINANZ_UNAUFFAELLIGER</th>\n",
              "      <th>FINANZ_HAUSBAUER</th>\n",
              "      <th>...</th>\n",
              "      <th>PLZ8_ANTG1</th>\n",
              "      <th>PLZ8_ANTG2</th>\n",
              "      <th>PLZ8_ANTG3</th>\n",
              "      <th>PLZ8_ANTG4</th>\n",
              "      <th>PLZ8_BAUMAX</th>\n",
              "      <th>PLZ8_HHZ</th>\n",
              "      <th>PLZ8_GBZ</th>\n",
              "      <th>ARBEIT</th>\n",
              "      <th>ORTSGR_KLS9</th>\n",
              "      <th>RELAT_AB</th>\n",
              "    </tr>\n",
              "  </thead>\n",
              "  <tbody>\n",
              "    <tr>\n",
              "      <th>0</th>\n",
              "      <td>NaN</td>\n",
              "      <td>2.0</td>\n",
              "      <td>NaN</td>\n",
              "      <td>2.0</td>\n",
              "      <td>3.0</td>\n",
              "      <td>4.0</td>\n",
              "      <td>3.0</td>\n",
              "      <td>5.0</td>\n",
              "      <td>5.0</td>\n",
              "      <td>3.0</td>\n",
              "      <td>...</td>\n",
              "      <td>NaN</td>\n",
              "      <td>NaN</td>\n",
              "      <td>NaN</td>\n",
              "      <td>NaN</td>\n",
              "      <td>NaN</td>\n",
              "      <td>NaN</td>\n",
              "      <td>NaN</td>\n",
              "      <td>NaN</td>\n",
              "      <td>NaN</td>\n",
              "      <td>NaN</td>\n",
              "    </tr>\n",
              "    <tr>\n",
              "      <th>1</th>\n",
              "      <td>NaN</td>\n",
              "      <td>NaN</td>\n",
              "      <td>2.0</td>\n",
              "      <td>5.0</td>\n",
              "      <td>NaN</td>\n",
              "      <td>5.0</td>\n",
              "      <td>2.0</td>\n",
              "      <td>5.0</td>\n",
              "      <td>4.0</td>\n",
              "      <td>5.0</td>\n",
              "      <td>...</td>\n",
              "      <td>2.0</td>\n",
              "      <td>3.0</td>\n",
              "      <td>2.0</td>\n",
              "      <td>NaN</td>\n",
              "      <td>NaN</td>\n",
              "      <td>5.0</td>\n",
              "      <td>4.0</td>\n",
              "      <td>3.0</td>\n",
              "      <td>5.0</td>\n",
              "      <td>4.0</td>\n",
              "    </tr>\n",
              "    <tr>\n",
              "      <th>2</th>\n",
              "      <td>NaN</td>\n",
              "      <td>3.0</td>\n",
              "      <td>2.0</td>\n",
              "      <td>3.0</td>\n",
              "      <td>NaN</td>\n",
              "      <td>4.0</td>\n",
              "      <td>NaN</td>\n",
              "      <td>2.0</td>\n",
              "      <td>3.0</td>\n",
              "      <td>5.0</td>\n",
              "      <td>...</td>\n",
              "      <td>3.0</td>\n",
              "      <td>3.0</td>\n",
              "      <td>NaN</td>\n",
              "      <td>0.0</td>\n",
              "      <td>NaN</td>\n",
              "      <td>4.0</td>\n",
              "      <td>4.0</td>\n",
              "      <td>3.0</td>\n",
              "      <td>5.0</td>\n",
              "      <td>2.0</td>\n",
              "    </tr>\n",
              "    <tr>\n",
              "      <th>3</th>\n",
              "      <td>2.0</td>\n",
              "      <td>4.0</td>\n",
              "      <td>2.0</td>\n",
              "      <td>2.0</td>\n",
              "      <td>4.0</td>\n",
              "      <td>2.0</td>\n",
              "      <td>5.0</td>\n",
              "      <td>2.0</td>\n",
              "      <td>NaN</td>\n",
              "      <td>2.0</td>\n",
              "      <td>...</td>\n",
              "      <td>2.0</td>\n",
              "      <td>2.0</td>\n",
              "      <td>2.0</td>\n",
              "      <td>0.0</td>\n",
              "      <td>NaN</td>\n",
              "      <td>3.0</td>\n",
              "      <td>4.0</td>\n",
              "      <td>2.0</td>\n",
              "      <td>3.0</td>\n",
              "      <td>3.0</td>\n",
              "    </tr>\n",
              "    <tr>\n",
              "      <th>4</th>\n",
              "      <td>NaN</td>\n",
              "      <td>3.0</td>\n",
              "      <td>NaN</td>\n",
              "      <td>5.0</td>\n",
              "      <td>4.0</td>\n",
              "      <td>3.0</td>\n",
              "      <td>4.0</td>\n",
              "      <td>NaN</td>\n",
              "      <td>3.0</td>\n",
              "      <td>2.0</td>\n",
              "      <td>...</td>\n",
              "      <td>2.0</td>\n",
              "      <td>4.0</td>\n",
              "      <td>2.0</td>\n",
              "      <td>NaN</td>\n",
              "      <td>2.0</td>\n",
              "      <td>3.0</td>\n",
              "      <td>3.0</td>\n",
              "      <td>4.0</td>\n",
              "      <td>6.0</td>\n",
              "      <td>5.0</td>\n",
              "    </tr>\n",
              "  </tbody>\n",
              "</table>\n",
              "<p>5 rows × 85 columns</p>\n",
              "</div>"
            ],
            "text/plain": [
              "   AGER_TYP  ALTERSKATEGORIE_GROB  ANREDE_KZ  CJT_GESAMTTYP  \\\n",
              "0       NaN                   2.0        NaN            2.0   \n",
              "1       NaN                   NaN        2.0            5.0   \n",
              "2       NaN                   3.0        2.0            3.0   \n",
              "3       2.0                   4.0        2.0            2.0   \n",
              "4       NaN                   3.0        NaN            5.0   \n",
              "\n",
              "   FINANZ_MINIMALIST  FINANZ_SPARER  FINANZ_VORSORGER  FINANZ_ANLEGER  \\\n",
              "0                3.0            4.0               3.0             5.0   \n",
              "1                NaN            5.0               2.0             5.0   \n",
              "2                NaN            4.0               NaN             2.0   \n",
              "3                4.0            2.0               5.0             2.0   \n",
              "4                4.0            3.0               4.0             NaN   \n",
              "\n",
              "   FINANZ_UNAUFFAELLIGER  FINANZ_HAUSBAUER    ...     PLZ8_ANTG1  PLZ8_ANTG2  \\\n",
              "0                    5.0               3.0    ...            NaN         NaN   \n",
              "1                    4.0               5.0    ...            2.0         3.0   \n",
              "2                    3.0               5.0    ...            3.0         3.0   \n",
              "3                    NaN               2.0    ...            2.0         2.0   \n",
              "4                    3.0               2.0    ...            2.0         4.0   \n",
              "\n",
              "   PLZ8_ANTG3  PLZ8_ANTG4  PLZ8_BAUMAX  PLZ8_HHZ  PLZ8_GBZ  ARBEIT  \\\n",
              "0         NaN         NaN          NaN       NaN       NaN     NaN   \n",
              "1         2.0         NaN          NaN       5.0       4.0     3.0   \n",
              "2         NaN         0.0          NaN       4.0       4.0     3.0   \n",
              "3         2.0         0.0          NaN       3.0       4.0     2.0   \n",
              "4         2.0         NaN          2.0       3.0       3.0     4.0   \n",
              "\n",
              "   ORTSGR_KLS9  RELAT_AB  \n",
              "0          NaN       NaN  \n",
              "1          5.0       4.0  \n",
              "2          5.0       2.0  \n",
              "3          3.0       3.0  \n",
              "4          6.0       5.0  \n",
              "\n",
              "[5 rows x 85 columns]"
            ]
          },
          "metadata": {
            "tags": []
          },
          "execution_count": 277
        }
      ]
    },
    {
      "metadata": {
        "id": "n727HkVpvFJr",
        "colab_type": "text"
      },
      "cell_type": "markdown",
      "source": [
        "#### Step 1.1.2: Assess Missing Data in Each Column\n",
        "\n",
        "How much missing data is present in each column? There are a few columns that are outliers in terms of the proportion of values that are missing. You will want to use matplotlib's [`hist()`](https://matplotlib.org/api/_as_gen/matplotlib.pyplot.hist.html) function to visualize the distribution of missing value counts to find these columns. Identify and document these columns. While some of these columns might have justifications for keeping or re-encoding the data, for this project you should just remove them from the dataframe. (Feel free to make remarks about these outlier columns in the discussion, however!)\n",
        "\n",
        "For the remaining features, are there any patterns in which columns have, or share, missing data?"
      ]
    },
    {
      "metadata": {
        "id": "bqeFGB6YvFJs",
        "colab_type": "code",
        "colab": {}
      },
      "cell_type": "code",
      "source": [
        "# Calculate the percentage of missing values of each column\n",
        "missing = df_new.isnull().sum()\n",
        "missing = missing[missing > 0] / df.shape[0] *100\n",
        "missing.sort_values(inplace = True)\n",
        "\n",
        "# columns have more than 20% missing values\n",
        "missing_20 = missing[missing >20]"
      ],
      "execution_count": 0,
      "outputs": []
    },
    {
      "metadata": {
        "id": "ZDudUKbChSm3",
        "colab_type": "code",
        "colab": {
          "base_uri": "https://localhost:8080/",
          "height": 50
        },
        "outputId": "9aba163d-ba23-464e-bf97-cfdbd4402a83"
      },
      "cell_type": "code",
      "source": [
        "print(f\"{len(missing)} out of {df_new.shape[1]} columns contain missing values, from {round(missing[0], 2)}% to {round(missing[-1], 2)}%.\")\n",
        "print(f'{len(missing_20)} columns have more than 20% missing values.')\n"
      ],
      "execution_count": 316,
      "outputs": [
        {
          "output_type": "stream",
          "text": [
            "84 out of 85 columns contain missing values, from 0.7% to 128.1%.\n",
            "38 columns have more than 20% missing values.\n"
          ],
          "name": "stdout"
        }
      ]
    },
    {
      "metadata": {
        "id": "4Gf60TJVvFJv",
        "colab_type": "code",
        "colab": {
          "base_uri": "https://localhost:8080/",
          "height": 1426
        },
        "outputId": "46faa5a9-ec07-4fd9-9ad2-a75a8523f04c"
      },
      "cell_type": "code",
      "source": [
        "#Visualizing the naturally missing data\n",
        "missing.plot.barh(figsize = (10, 25), fontsize = 12, color= my_color[0])\n",
        "plt.title('Percentage of Missing Values in Columns', size = 14)\n",
        "plt.show()"
      ],
      "execution_count": 317,
      "outputs": [
        {
          "output_type": "display_data",
          "data": {
            "image/png": "[encoded data removed]",
            "text/plain": [
              "<Figure size 720x1800 with 1 Axes>"
            ]
          },
          "metadata": {
            "tags": []
          }
        }
      ]
    },
    {
      "metadata": {
        "id": "98Xdn1T6vFJy",
        "colab_type": "code",
        "colab": {}
      },
      "cell_type": "code",
      "source": [
        "# Remove the outlier columns from the dataset / feature summary. \n",
        "\n",
        "# Drop columns that contain 20% missing values\n",
        "for col in missing_20.index:\n",
        "  \n",
        "  # Dataset\n",
        "  df_new.drop(col, axis = 1, inplace = True)\n",
        "  \n",
        "  # Feature Summary\n",
        "  feat_info.drop([col], inplace = True)\n",
        "  "
      ],
      "execution_count": 0,
      "outputs": []
    },
    {
      "metadata": {
        "id": "ds4iBwAbfmFK",
        "colab_type": "code",
        "colab": {
          "base_uri": "https://localhost:8080/",
          "height": 34
        },
        "outputId": "6db1907d-a8d3-4910-d390-50985920595a"
      },
      "cell_type": "code",
      "source": [
        "df_new.shape"
      ],
      "execution_count": 319,
      "outputs": [
        {
          "output_type": "execute_result",
          "data": {
            "text/plain": [
              "(891221, 47)"
            ]
          },
          "metadata": {
            "tags": []
          },
          "execution_count": 319
        }
      ]
    },
    {
      "metadata": {
        "id": "zg8DqXvyKrPd",
        "colab_type": "code",
        "colab": {
          "base_uri": "https://localhost:8080/",
          "height": 34
        },
        "outputId": "5a9cd7b3-e006-4473-9615-732be421e797"
      },
      "cell_type": "code",
      "source": [
        "feat_info.shape"
      ],
      "execution_count": 320,
      "outputs": [
        {
          "output_type": "execute_result",
          "data": {
            "text/plain": [
              "(47, 3)"
            ]
          },
          "metadata": {
            "tags": []
          },
          "execution_count": 320
        }
      ]
    },
    {
      "metadata": {
        "id": "d0tnwubo8d5u",
        "colab_type": "code",
        "colab": {
          "base_uri": "https://localhost:8080/",
          "height": 185
        },
        "outputId": "27a7bf75-6b9e-42c5-fe90-a5082ebefe2d"
      },
      "cell_type": "code",
      "source": [
        "# missing_20.index"
      ],
      "execution_count": 321,
      "outputs": [
        {
          "output_type": "execute_result",
          "data": {
            "text/plain": [
              "Index(['FINANZ_MINIMALIST', 'FINANZ_HAUSBAUER', 'INNENSTADT',\n",
              "       'ALTERSKATEGORIE_GROB', 'ARBEIT', 'PLZ8_GBZ', 'PLZ8_ANTG2', 'EWDICHTE',\n",
              "       'FINANZTYP', 'FINANZ_ANLEGER', 'REGIOTYP', 'KBA05_ANTG4',\n",
              "       'FINANZ_UNAUFFAELLIGER', 'KBA05_ANTG3', 'W_KEIT_KIND_HH', 'RELAT_AB',\n",
              "       'KBA05_GBZ', 'BALLRAUM', 'FINANZ_SPARER', 'KKK', 'HEALTH_TYP',\n",
              "       'KBA05_ANTG1', 'KBA05_ANTG2', 'PLZ8_ANTG1', 'ALTER_HH', 'PLZ8_ANTG3',\n",
              "       'SHOPPER_TYP', 'GEBURTSJAHR', 'PLZ8_ANTG4', 'ANREDE_KZ', 'VERS_TYP',\n",
              "       'GEBAEUDETYP', 'PLZ8_BAUMAX', 'KK_KUNDENTYP', 'KBA05_BAUMAX',\n",
              "       'AGER_TYP', 'NATIONALITAET_KZ', 'TITEL_KZ'],\n",
              "      dtype='object')"
            ]
          },
          "metadata": {
            "tags": []
          },
          "execution_count": 321
        }
      ]
    },
    {
      "metadata": {
        "id": "_DuRxjwLvFJ2",
        "colab_type": "text"
      },
      "cell_type": "markdown",
      "source": [
        "#### Discussion 1.1.2: Assess Missing Data in Each Column\n",
        "\n",
        "84 out of 85 columns contain missing values, ranging from 0.54% to 88.91%. From the bar chart, it can be seen that the missing values of most columns are less than 16.35%, and the 12 columns at the top are outliers. Thus, they are removed from our dataset.\n",
        "\n",
        "The columns removed from the dataset includes:\n",
        "\n",
        "'FINANZ_MINIMALIST', 'FINANZ_HAUSBAUER', 'INNENSTADT',\n",
        "       'ALTERSKATEGORIE_GROB', 'ARBEIT', 'PLZ8_GBZ', 'PLZ8_ANTG2', 'EWDICHTE',\n",
        "       'FINANZTYP', 'FINANZ_ANLEGER', 'REGIOTYP', 'KBA05_ANTG4',\n",
        "       'FINANZ_UNAUFFAELLIGER', 'KBA05_ANTG3', 'W_KEIT_KIND_HH', 'RELAT_AB',\n",
        "       'KBA05_GBZ', 'BALLRAUM', 'FINANZ_SPARER', 'KKK', 'HEALTH_TYP',\n",
        "       'KBA05_ANTG1', 'KBA05_ANTG2', 'PLZ8_ANTG1', 'ALTER_HH', 'PLZ8_ANTG3',\n",
        "       'SHOPPER_TYP', 'GEBURTSJAHR', 'PLZ8_ANTG4', 'ANREDE_KZ', 'VERS_TYP',\n",
        "       'GEBAEUDETYP', 'PLZ8_BAUMAX', 'KK_KUNDENTYP', 'KBA05_BAUMAX',\n",
        "       'AGER_TYP', 'NATIONALITAET_KZ', 'TITEL_KZ'"
      ]
    },
    {
      "metadata": {
        "id": "lYmap_u0vFJ4",
        "colab_type": "text"
      },
      "cell_type": "markdown",
      "source": [
        "#### Step 1.1.3: Assess Missing Data in Each Row\n",
        "\n",
        "Now, you'll perform a similar assessment for the rows of the dataset. How much data is missing in each row? As with the columns, you should see some groups of points that have a very different numbers of missing values. \n",
        "\n",
        "Divide the data into two subsets: \n",
        "- one for data points that are **above** some threshold for missing values, and \n",
        "- a second subset for points **below** that threshold.\n",
        "\n",
        "In order to know what to do with the outlier rows, we should see if the distribution of data values on columns that are not missing data (or are missing very little data) are **similar** or different* **bold text** between the two groups*. Select at least **five** of these columns and compare the distribution of values.\n",
        "- You can use seaborn's [`countplot()`](https://seaborn.pydata.org/generated/seaborn.countplot.html) function to create a bar chart of code frequencies and matplotlib's [`subplot()`](https://matplotlib.org/api/_as_gen/matplotlib.pyplot.subplot.html) function to put bar charts for the two subplots side by side.\n",
        "- To reduce repeated code, you might want to write a function that can perform this comparison, taking as one of its arguments a column to be compared.\n",
        "\n",
        "Depending on what you observe in your comparison, this will have implications on how you approach your conclusions later in the analysis. If the distributions of non-missing features look similar between the data with many missing values and the data with few or no missing values, then we could argue that simply dropping those points from the analysis won't present a major issue. On the other hand, if the data with many missing values looks very different from the data with few or no missing values, then we should make a note on those data as special. We'll revisit these data later on. **Either way, you should continue your analysis for now using just the subset of the data with few or no missing values.**"
      ]
    },
    {
      "metadata": {
        "id": "TkjIuBwyvFJ5",
        "colab_type": "code",
        "colab": {}
      },
      "cell_type": "code",
      "source": [
        "# How much data is missing in each row of the dataset?\n",
        "missing_r = df_new.isnull().sum(axis=1)\n"
      ],
      "execution_count": 0,
      "outputs": []
    },
    {
      "metadata": {
        "id": "T0YDUNpzPeRP",
        "colab_type": "code",
        "colab": {
          "base_uri": "https://localhost:8080/",
          "height": 512
        },
        "outputId": "70bae6ed-8e4a-46f7-f0e9-49fd84498769"
      },
      "cell_type": "code",
      "source": [
        "# Visualise\n",
        "missing_r[missing_r > 0].plot(kind='hist', bins=40, figsize=(10,8), color=my_color[0])\n",
        "plt.title('Missing Value in Rows')\n",
        "plt.ylabel('Counts')\n",
        "plt.xlabel('Number of Missing Values')\n",
        "plt.show()"
      ],
      "execution_count": 323,
      "outputs": [
        {
          "output_type": "display_data",
          "data": {
            "image/png": "[encoded data removed]",
            "text/plain": [
              "<Figure size 720x576 with 1 Axes>"
            ]
          },
          "metadata": {
            "tags": []
          }
        }
      ]
    },
    {
      "metadata": {
        "id": "zkbGVdtnvFJ7",
        "colab_type": "code",
        "colab": {}
      },
      "cell_type": "code",
      "source": [
        "# Divide the data into two subsets: 5 missing values\n",
        "\n",
        "df = df_new[missing_r <= 5]\n",
        "\n",
        "df_more_missing = df_new[missing_r > 5]\n"
      ],
      "execution_count": 0,
      "outputs": []
    },
    {
      "metadata": {
        "id": "xztKE99MU63l",
        "colab_type": "code",
        "colab": {}
      },
      "cell_type": "code",
      "source": [
        "def plot_comparison(df1, df2, n):\n",
        "  \n",
        "  cols = df1.columns.tolist()\n",
        "  \n",
        "  # Randomly reorder column names\n",
        "  shuffle(cols) # shuffle works in place, and returns None\n",
        "  \n",
        "  for i in range(1, n+1):\n",
        "    plt.figure(i, figsize=(12, 4))\n",
        "    \n",
        "    #subplot(nrows, ncols, index)\n",
        "    plt.subplot(1, 2, 1)\n",
        "    sns.countplot(x = df1[cols[i]], color = my_color[0], edgecolor='.9')\n",
        "    plt.title(cols[i] + \"(Data Kept)\")\n",
        "\n",
        "    plt.subplot(1, 2, 2)\n",
        "    sns.countplot(x = df1[cols[i]], color = my_color[1], edgecolor='.9')\n",
        "    plt.title(cols[i] + \"(Data Rejected)\")\n",
        "    \n",
        "    plt.subplots_adjust(wspace = 0.5)\n"
      ],
      "execution_count": 0,
      "outputs": []
    },
    {
      "metadata": {
        "id": "4AaTTDo7YqnW",
        "colab_type": "code",
        "colab": {
          "base_uri": "https://localhost:8080/",
          "height": 1434
        },
        "outputId": "689b71c3-10d1-4aa4-f24d-f66ceec8c204"
      },
      "cell_type": "code",
      "source": [
        "plot_comparison(df, df_more_missing, 5)"
      ],
      "execution_count": 326,
      "outputs": [
        {
          "output_type": "stream",
          "text": [
            "/usr/local/lib/python3.6/dist-packages/seaborn/categorical.py:1428: FutureWarning: remove_na is deprecated and is a private function. Do not use.\n",
            "  stat_data = remove_na(group_data)\n"
          ],
          "name": "stderr"
        },
        {
          "output_type": "display_data",
          "data": {
            "image/png": "[encoded data removed]",
            "text/plain": [
              "<Figure size 864x288 with 2 Axes>"
            ]
          },
          "metadata": {
            "tags": []
          }
        },
        {
          "output_type": "display_data",
          "data": {
            "image/png": "[encoded data removed]",
            "text/plain": [
              "<Figure size 864x288 with 2 Axes>"
            ]
          },
          "metadata": {
            "tags": []
          }
        },
        {
          "output_type": "display_data",
          "data": {
            "image/png": "[encoded data removed]",
            "text/plain": [
              "<Figure size 864x288 with 2 Axes>"
            ]
          },
          "metadata": {
            "tags": []
          }
        },
        {
          "output_type": "display_data",
          "data": {
            "image/png": "[encoded data removed]",
            "text/plain": [
              "<Figure size 864x288 with 2 Axes>"
            ]
          },
          "metadata": {
            "tags": []
          }
        },
        {
          "output_type": "display_data",
          "data": {
            "image/png": "[encoded data removed]",
            "text/plain": [
              "<Figure size 864x288 with 2 Axes>"
            ]
          },
          "metadata": {
            "tags": []
          }
        }
      ]
    },
    {
      "metadata": {
        "id": "B5KbUNCYvFKA",
        "colab_type": "text"
      },
      "cell_type": "markdown",
      "source": [
        "#### Discussion 1.1.3: Assess Missing Data in Each Row\n",
        "\n",
        "The data with lots of missing values  in rows are very similar to the data with few or no missing values."
      ]
    },
    {
      "metadata": {
        "id": "g6ad1MGNvFKB",
        "colab_type": "text"
      },
      "cell_type": "markdown",
      "source": [
        "### Step 1.2: Select and Re-Encode Features\n",
        "\n",
        "Since the unsupervised learning techniques to be used will only work on data that is encoded **numerically**, you need to make a few encoding changes or additional assumptions to be able to make progress. \n",
        "\n",
        "In addition, while almost all of the values in the dataset are encoded using numbers, not all of them represent numeric values. Check the **third** column of the feature summary (`feat_info`) for a summary of types of measurement.\n",
        "- For **numeric** and **interval** data, these features can be kept without changes.\n",
        "- Most of the variables in the dataset are **ordinal** in nature. While ordinal values may technically be non-linear in spacing, make the simplifying assumption that the ordinal variables can be treated as being interval in nature (that is, kept without any changes).\n",
        "- Special handling may be necessary for the remaining two variable types: **categorical**, and '**mixed**'.\n",
        "\n",
        "In the first two parts of this sub-step, you will perform an investigation of the categorical and mixed-type features and make a decision on each of them, whether you will keep, drop, or re-encode each. Then, in the last part, you will create a new data frame with only the selected and engineered columns.\n"
      ]
    },
    {
      "metadata": {
        "id": "27Uh6jY2vFKC",
        "colab_type": "code",
        "colab": {
          "base_uri": "https://localhost:8080/",
          "height": 101
        },
        "outputId": "53e657d4-24fd-4cba-f4fc-24ab16028706"
      },
      "cell_type": "code",
      "source": [
        "# How many features are there of each data type?\n",
        "feat_info['type'].value_counts()\n"
      ],
      "execution_count": 327,
      "outputs": [
        {
          "output_type": "execute_result",
          "data": {
            "text/plain": [
              "ordinal        24\n",
              "categorical    12\n",
              "numeric         6\n",
              "mixed           5\n",
              "Name: type, dtype: int64"
            ]
          },
          "metadata": {
            "tags": []
          },
          "execution_count": 327
        }
      ]
    },
    {
      "metadata": {
        "id": "FPnXZT9EvFKF",
        "colab_type": "text"
      },
      "cell_type": "markdown",
      "source": [
        "#### Step 1.2.1: Re-Encode Categorical Features\n",
        "\n",
        "For **categorical** data, you would ordinarily need to encode the levels as **dummy** variables. Depending on the number of categories, perform one of the following:\n",
        "- For binary (**two-level**) categoricals that take numeric values, you can keep them without needing to do anything.\n",
        "- There is one binary variable that takes on** non-numeric** values. For this one, you need to **re-encode** the values as numbers or create a dummy variable.\n",
        "- For **multi-level** categoricals (three or more values), you can choose to encode the values using multiple **dummy** variables (e.g. via [OneHotEncoder](http://scikit-learn.org/stable/modules/generated/sklearn.preprocessing.OneHotEncoder.html)), or (to keep things straightforward) just drop them from the analysis. \n",
        "\n",
        "As always, document your choices in the Discussion section."
      ]
    },
    {
      "metadata": {
        "id": "WYYjFGlZS7Km",
        "colab_type": "text"
      },
      "cell_type": "markdown",
      "source": [
        "##### Step 1.2.1.1\n",
        "\n",
        "Assess categorical variables: which are binary, which are multi-level, and which one needs to be re-encoded?"
      ]
    },
    {
      "metadata": {
        "id": "ZgXzC1f9vFKG",
        "colab_type": "code",
        "colab": {}
      },
      "cell_type": "code",
      "source": [
        "# Put Categorical Features into a list\n",
        "feat_cate = feat_info.query('type == \"categorical\"').index.tolist()"
      ],
      "execution_count": 0,
      "outputs": []
    },
    {
      "metadata": {
        "id": "_5fNIIAVMuK4",
        "colab_type": "code",
        "colab": {}
      },
      "cell_type": "code",
      "source": [
        "# build a df to show levels & types\n",
        "feat_cate_df = pd.DataFrame(index = feat_cate, columns = ['levels', 'type'])\n",
        "\n",
        "for feature in feat_cate:\n",
        "  \n",
        "  # number of levels\n",
        "  levels = df[feature].value_counts().shape[0]\n",
        "  \n",
        "  # types\n",
        "  feat_type = df[feature].dtypes\n",
        "  \n",
        "  # fill the df\n",
        "  feat_cate_df.loc[feature] = [levels, feat_type]"
      ],
      "execution_count": 0,
      "outputs": []
    },
    {
      "metadata": {
        "id": "lR2dnpcaOCVY",
        "colab_type": "code",
        "colab": {
          "base_uri": "https://localhost:8080/",
          "height": 402
        },
        "outputId": "a55dc89e-3cc0-4fa4-8c0e-aef3cf52f06c"
      },
      "cell_type": "code",
      "source": [
        "feat_cate_df.sort_values('levels')"
      ],
      "execution_count": 330,
      "outputs": [
        {
          "output_type": "execute_result",
          "data": {
            "text/html": [
              "<div>\n",
              "<style scoped>\n",
              "    .dataframe tbody tr th:only-of-type {\n",
              "        vertical-align: middle;\n",
              "    }\n",
              "\n",
              "    .dataframe tbody tr th {\n",
              "        vertical-align: top;\n",
              "    }\n",
              "\n",
              "    .dataframe thead th {\n",
              "        text-align: right;\n",
              "    }\n",
              "</style>\n",
              "<table border=\"1\" class=\"dataframe\">\n",
              "  <thead>\n",
              "    <tr style=\"text-align: right;\">\n",
              "      <th></th>\n",
              "      <th>levels</th>\n",
              "      <th>type</th>\n",
              "    </tr>\n",
              "  </thead>\n",
              "  <tbody>\n",
              "    <tr>\n",
              "      <th>SOHO_KZ</th>\n",
              "      <td>1</td>\n",
              "      <td>float64</td>\n",
              "    </tr>\n",
              "    <tr>\n",
              "      <th>GREEN_AVANTGARDE</th>\n",
              "      <td>2</td>\n",
              "      <td>int64</td>\n",
              "    </tr>\n",
              "    <tr>\n",
              "      <th>OST_WEST_KZ</th>\n",
              "      <td>2</td>\n",
              "      <td>object</td>\n",
              "    </tr>\n",
              "    <tr>\n",
              "      <th>LP_FAMILIE_GROB</th>\n",
              "      <td>5</td>\n",
              "      <td>float64</td>\n",
              "    </tr>\n",
              "    <tr>\n",
              "      <th>LP_STATUS_GROB</th>\n",
              "      <td>5</td>\n",
              "      <td>float64</td>\n",
              "    </tr>\n",
              "    <tr>\n",
              "      <th>ZABEOTYP</th>\n",
              "      <td>5</td>\n",
              "      <td>float64</td>\n",
              "    </tr>\n",
              "    <tr>\n",
              "      <th>CJT_GESAMTTYP</th>\n",
              "      <td>6</td>\n",
              "      <td>float64</td>\n",
              "    </tr>\n",
              "    <tr>\n",
              "      <th>CAMEO_DEUG_2015</th>\n",
              "      <td>8</td>\n",
              "      <td>float64</td>\n",
              "    </tr>\n",
              "    <tr>\n",
              "      <th>LP_STATUS_FEIN</th>\n",
              "      <td>10</td>\n",
              "      <td>float64</td>\n",
              "    </tr>\n",
              "    <tr>\n",
              "      <th>LP_FAMILIE_FEIN</th>\n",
              "      <td>11</td>\n",
              "      <td>float64</td>\n",
              "    </tr>\n",
              "    <tr>\n",
              "      <th>GFK_URLAUBERTYP</th>\n",
              "      <td>12</td>\n",
              "      <td>float64</td>\n",
              "    </tr>\n",
              "    <tr>\n",
              "      <th>CAMEO_DEU_2015</th>\n",
              "      <td>44</td>\n",
              "      <td>object</td>\n",
              "    </tr>\n",
              "  </tbody>\n",
              "</table>\n",
              "</div>"
            ],
            "text/plain": [
              "                 levels     type\n",
              "SOHO_KZ               1  float64\n",
              "GREEN_AVANTGARDE      2    int64\n",
              "OST_WEST_KZ           2   object\n",
              "LP_FAMILIE_GROB       5  float64\n",
              "LP_STATUS_GROB        5  float64\n",
              "ZABEOTYP              5  float64\n",
              "CJT_GESAMTTYP         6  float64\n",
              "CAMEO_DEUG_2015       8  float64\n",
              "LP_STATUS_FEIN       10  float64\n",
              "LP_FAMILIE_FEIN      11  float64\n",
              "GFK_URLAUBERTYP      12  float64\n",
              "CAMEO_DEU_2015       44   object"
            ]
          },
          "metadata": {
            "tags": []
          },
          "execution_count": 330
        }
      ]
    },
    {
      "metadata": {
        "id": "UbhZCknNTKXC",
        "colab_type": "text"
      },
      "cell_type": "markdown",
      "source": [
        "##### Step 1.2.1.2\n",
        "Re-encode categorical variable(s) to be kept in the analysis."
      ]
    },
    {
      "metadata": {
        "id": "ZdWV5IoTvzij",
        "colab_type": "text"
      },
      "cell_type": "markdown",
      "source": [
        "**Re-Encode Non-Numeric Binary Variable**\n",
        "\n",
        "3.6. `OST_WEST_KZ` -- \n",
        "Building location via former East / West Germany (GDR / FRG)\n",
        "\n",
        "- O: East (GDR)\n",
        "- W: West (FRG)"
      ]
    },
    {
      "metadata": {
        "id": "iuYMjKEiS07U",
        "colab_type": "code",
        "colab": {}
      },
      "cell_type": "code",
      "source": [
        "# Re-encode 'OST_WEST_KZ': 2-level obj\n",
        "# O: East (GDR)\n",
        "# W: West (FRG)\n",
        "\n",
        "df['OST_WEST_KZ'] = df['OST_WEST_KZ'].map({'O': 0, 'W': 1})"
      ],
      "execution_count": 0,
      "outputs": []
    },
    {
      "metadata": {
        "id": "KagQyLol_fMi",
        "colab_type": "code",
        "colab": {
          "base_uri": "https://localhost:8080/",
          "height": 67
        },
        "outputId": "0a245c0d-dea2-4e62-da09-3755047d778b"
      },
      "cell_type": "code",
      "source": [
        "df['OST_WEST_KZ'].value_counts()"
      ],
      "execution_count": 336,
      "outputs": [
        {
          "output_type": "execute_result",
          "data": {
            "text/plain": [
              "1    594816\n",
              "0    159246\n",
              "Name: OST_WEST_KZ, dtype: int64"
            ]
          },
          "metadata": {
            "tags": []
          },
          "execution_count": 336
        }
      ]
    },
    {
      "metadata": {
        "id": "LWQ8HkCKvna4",
        "colab_type": "text"
      },
      "cell_type": "markdown",
      "source": [
        "**One-Hot-Encoding**\n",
        "\n",
        "1.14. `LP_FAMILIE_GROB` --\n",
        "Family type, rough scale\n",
        "\n",
        "- 1: single (maps to 1 in fine scale)\n",
        "- 2: couple (maps to 2 in fine scale)\n",
        "- 3: single parent (maps to 3-5 in fine scale)\n",
        "- 4: family (maps to 6-8 in fine scale)\n",
        "- 5: multiperson household (maps to 9-11 in fine scale)\n",
        "\n",
        "1.16. `LP_STATUS_GROB` -- Social status, rough scale\n",
        "\n",
        "- 1: low-income earners (maps to 1-2 in fine scale)\n",
        "- 2: average earners (maps to 3-5 in fine scale)\n",
        "- 3: independents (maps to 6-7 in fine scale)\n",
        "- 4: houseowners (maps to 8-9 in fine scale)\n",
        "- 5: top earners (maps to 10 in fine scale)\n",
        "\n",
        "1.4. `CJT_GESAMTTYP` -- \n",
        "Customer-Journey-Typology: preferred information and buying channels for consumer\n",
        "\n",
        "- 1: Advertising- and Consumptionminimalist\n",
        "- 2: Advertising- and Consumptiontraditionalist\n",
        "- 3: advertisinginterested Store-shopper\n",
        "- 4: advertisinginterested Online-shopper\n",
        "- 5: Advertising- and Cross-Channel-Enthusiast\n",
        "- 6: Advertising-Enthusiast with restricted Cross-Channel-Behaviour\n",
        "\n",
        "4.1.` CAMEO_DEUG_2015`\n",
        "German CAMEO: Wealth / Life Stage Typology, rough scale\n",
        "\n",
        "- 1: upper class\n",
        "- 2: upper middleclass\n",
        "- 3: established middleclass\n",
        "- 4: consumption-oriented middleclass\n",
        "- 5: active middleclass\n",
        "- 6: low-consumption middleclass\n",
        "- 7: lower middleclass\n",
        "- 8: working class\n",
        "- 9: urban working class\n"
      ]
    },
    {
      "metadata": {
        "id": "3gJyY1oOzZ5o",
        "colab_type": "code",
        "colab": {}
      },
      "cell_type": "code",
      "source": [
        "df = pd.get_dummies(data = df, columns=['LP_FAMILIE_GROB', 'LP_STATUS_GROB', 'CJT_GESAMTTYP', 'CAMEO_DEUG_2015'])"
      ],
      "execution_count": 0,
      "outputs": []
    },
    {
      "metadata": {
        "id": "vDIIKBKh_orB",
        "colab_type": "code",
        "colab": {
          "base_uri": "https://localhost:8080/",
          "height": 34
        },
        "outputId": "934a81b3-2080-469f-bd79-fe032713faaa"
      },
      "cell_type": "code",
      "source": [
        "df.shape"
      ],
      "execution_count": 345,
      "outputs": [
        {
          "output_type": "execute_result",
          "data": {
            "text/plain": [
              "(754062, 67)"
            ]
          },
          "metadata": {
            "tags": []
          },
          "execution_count": 345
        }
      ]
    },
    {
      "metadata": {
        "id": "ToyQNoPfFZAJ",
        "colab_type": "code",
        "colab": {}
      },
      "cell_type": "code",
      "source": [
        "#df.info()"
      ],
      "execution_count": 0,
      "outputs": []
    },
    {
      "metadata": {
        "id": "-0IuGNrNthg8",
        "colab_type": "text"
      },
      "cell_type": "markdown",
      "source": [
        "**Drop Columns: **\n",
        "\n",
        "The columns contains information that is  less important or similar to others are removed: \n",
        "\n",
        "- ZABEOTYP -- Energy consumption typology \n",
        "- GFK_URLAUBERTYP -- Vacation habits\n",
        "- LP_FAMILIE_FEIN -- Family type, fine scale (Similar as 1.14 LP_FAMILIE_GROB)\n",
        "- CAMEO_DEU_2015 -- Wealth / Life  (44 levels are too much)\n",
        "- SOHO_KZ (only have 1 category)"
      ]
    },
    {
      "metadata": {
        "id": "Bqcv8D12x66L",
        "colab_type": "code",
        "colab": {}
      },
      "cell_type": "code",
      "source": [
        "df.drop(columns = ['ZABEOTYP', 'GFK_URLAUBERTYP', 'LP_FAMILIE_FEIN', 'CAMEO_DEU_2015', 'SOHO_KZ'], inplace = True)"
      ],
      "execution_count": 0,
      "outputs": []
    },
    {
      "metadata": {
        "id": "ExejhwnNIRHO",
        "colab_type": "code",
        "colab": {}
      },
      "cell_type": "code",
      "source": [
        "df.to_csv('data/azdias_new.csv', sep=';', index = False)"
      ],
      "execution_count": 0,
      "outputs": []
    },
    {
      "metadata": {
        "id": "-yp_n4XBvFKL",
        "colab_type": "text"
      },
      "cell_type": "markdown",
      "source": [
        "#### Discussion 1.2.1: Re-Encode Categorical Features\n",
        "\n",
        "The non-numeric binary variable, `OST_WEST_KZ`,  has been re-encoded by 0 and 1.\n",
        "\n",
        "`LP_FAMILIE_GROB`,  `CJT_GESAMTTYP`,  `LP_STATUS_GROB` and ` CAMEO_DEUG_2015` have been directly put into dummy variables.\n",
        "\n",
        "The following columns are removed as the information they contains is  less important or similar to others: \n",
        "\n",
        "- `ZABEOTYP`\n",
        "- `GFK_URLAUBERTYP`\n",
        "- `LP_FAMILIE_FEIN`\n",
        "- `CAMEO_DEU_2015`\n",
        "- `SOHO_KZ`"
      ]
    },
    {
      "metadata": {
        "id": "5HYBCBa7vFKM",
        "colab_type": "text"
      },
      "cell_type": "markdown",
      "source": [
        "#### Step 1.2.2: Engineer Mixed-Type Features\n",
        "\n",
        "There are a handful of features that are marked as \"mixed\" in the feature summary that require special treatment in order to be included in the analysis. There are two in particular that deserve attention; the handling of the rest are up to your own choices:\n",
        "- \"PRAEGENDE_JUGENDJAHRE\" combines information on three dimensions: generation by decade, movement (mainstream vs. avantgarde), and nation (east vs. west). While there aren't enough levels to disentangle east from west, you should create two new variables to capture the other two dimensions: an interval-type variable for decade, and a binary variable for movement.\n",
        "- \"CAMEO_INTL_2015\" combines information on two axes: wealth and life stage. Break up the two-digit codes by their 'tens'-place and 'ones'-place digits into two new ordinal variables (which, for the purposes of this project, is equivalent to just treating them as their raw numeric values).\n",
        "- If you decide to keep or engineer new features around the other mixed-type features, make sure you note your steps in the Discussion section.\n",
        "\n",
        "Be sure to check `Data_Dictionary.md` for the details needed to finish these tasks."
      ]
    },
    {
      "metadata": {
        "id": "yHwV99UavFKO",
        "colab_type": "code",
        "colab": {}
      },
      "cell_type": "code",
      "source": [
        "# Investigate \"PRAEGENDE_JUGENDJAHRE\" and engineer two new variables.\n",
        "\n"
      ],
      "execution_count": 0,
      "outputs": []
    },
    {
      "metadata": {
        "id": "dzrMCvVPvFKQ",
        "colab_type": "code",
        "colab": {}
      },
      "cell_type": "code",
      "source": [
        "# Investigate \"CAMEO_INTL_2015\" and engineer two new variables.\n",
        "\n"
      ],
      "execution_count": 0,
      "outputs": []
    },
    {
      "metadata": {
        "id": "YSvswnc8vFKW",
        "colab_type": "text"
      },
      "cell_type": "markdown",
      "source": [
        "#### Discussion 1.2.2: Engineer Mixed-Type Features\n",
        "\n",
        "(Double-click this cell and replace this text with your own text, reporting your findings and decisions regarding mixed-value features. Which ones did you keep, which did you drop, and what engineering steps did you perform?)"
      ]
    },
    {
      "metadata": {
        "id": "XthNNYnAvFKZ",
        "colab_type": "text"
      },
      "cell_type": "markdown",
      "source": [
        "#### Step 1.2.3: Complete Feature Selection\n",
        "\n",
        "In order to finish this step up, you need to make sure that your data frame now only has the columns that you want to keep. To summarize, the dataframe should consist of the following:\n",
        "- All numeric, interval, and ordinal type columns from the original dataset.\n",
        "- Binary categorical features (all numerically-encoded).\n",
        "- Engineered features from other multi-level categorical features and mixed features.\n",
        "\n",
        "Make sure that for any new columns that you have engineered, that you've excluded the original columns from the final dataset. Otherwise, their values will interfere with the analysis later on the project. For example, you should not keep \"PRAEGENDE_JUGENDJAHRE\", since its values won't be useful for the algorithm: only the values derived from it in the engineered features you created should be retained. As a reminder, your data should only be from **the subset with few or no missing values**."
      ]
    },
    {
      "metadata": {
        "id": "r1ric0t0vFKa",
        "colab_type": "code",
        "colab": {}
      },
      "cell_type": "code",
      "source": [
        "# If there are other re-engineering tasks you need to perform, make sure you\n",
        "# take care of them here. (Dealing with missing data will come in step 2.1.)\n",
        "\n"
      ],
      "execution_count": 0,
      "outputs": []
    },
    {
      "metadata": {
        "id": "uztmngjPvFKe",
        "colab_type": "code",
        "colab": {}
      },
      "cell_type": "code",
      "source": [
        "# Do whatever you need to in order to ensure that the dataframe only contains\n",
        "# the columns that should be passed to the algorithm functions.\n",
        "\n"
      ],
      "execution_count": 0,
      "outputs": []
    },
    {
      "metadata": {
        "id": "Bm4hxdIuvFKh",
        "colab_type": "text"
      },
      "cell_type": "markdown",
      "source": [
        "### Step 1.3: Create a Cleaning Function\n",
        "\n",
        "Even though you've finished cleaning up the general population demographics data, it's important to look ahead to the future and realize that you'll need to perform the same cleaning steps on the customer demographics data. In this substep, complete the function below to execute the main feature selection, encoding, and re-engineering steps you performed above. Then, when it comes to looking at the customer data in Step 3, you can just run this function on that DataFrame to get the trimmed dataset in a single step."
      ]
    },
    {
      "metadata": {
        "id": "rsM_yYzjvFKh",
        "colab_type": "code",
        "colab": {}
      },
      "cell_type": "code",
      "source": [
        "def clean_data(df):\n",
        "    \"\"\"\n",
        "    Perform feature trimming, re-encoding, and engineering for demographics\n",
        "    data\n",
        "    \n",
        "    INPUT: Demographics DataFrame\n",
        "    OUTPUT: Trimmed and cleaned demographics DataFrame\n",
        "    \"\"\"\n",
        "    \n",
        "    # Put in code here to execute all main cleaning steps:\n",
        "    # convert missing value codes into NaNs, ...\n",
        "    \n",
        "    \n",
        "    # remove selected columns and rows, ...\n",
        "\n",
        "    \n",
        "    # select, re-encode, and engineer column values.\n",
        "\n",
        "    \n",
        "    # Return the cleaned dataframe.\n",
        "    \n",
        "    "
      ],
      "execution_count": 0,
      "outputs": []
    },
    {
      "metadata": {
        "id": "nCIjStHVvFKk",
        "colab_type": "text"
      },
      "cell_type": "markdown",
      "source": [
        "## Step 2: Feature Transformation\n",
        "\n",
        "### Step 2.1: Apply Feature Scaling\n",
        "\n",
        "Before we apply dimensionality reduction techniques to the data, we need to perform feature scaling so that the principal component vectors are not influenced by the natural differences in scale for features. Starting from this part of the project, you'll want to keep an eye on the [API reference page for sklearn](http://scikit-learn.org/stable/modules/classes.html) to help you navigate to all of the classes and functions that you'll need. In this substep, you'll need to check the following:\n",
        "\n",
        "- sklearn requires that data not have missing values in order for its estimators to work properly. So, before applying the scaler to your data, make sure that you've cleaned the DataFrame of the remaining missing values. This can be as simple as just removing all data points with missing data, or applying an [Imputer](http://scikit-learn.org/stable/modules/generated/sklearn.preprocessing.Imputer.html) to replace all missing values. You might also try a more complicated procedure where you temporarily remove missing values in order to compute the scaling parameters before re-introducing those missing values and applying imputation. Think about how much missing data you have and what possible effects each approach might have on your analysis, and justify your decision in the discussion section below.\n",
        "- For the actual scaling function, a [StandardScaler](http://scikit-learn.org/stable/modules/generated/sklearn.preprocessing.StandardScaler.html) instance is suggested, scaling each feature to mean 0 and standard deviation 1.\n",
        "- For these classes, you can make use of the `.fit_transform()` method to both fit a procedure to the data as well as apply the transformation to the data at the same time. Don't forget to keep the fit sklearn objects handy, since you'll be applying them to the customer demographics data towards the end of the project."
      ]
    },
    {
      "metadata": {
        "id": "1aNdSxu2vFKl",
        "colab_type": "code",
        "colab": {}
      },
      "cell_type": "code",
      "source": [
        "# If you've not yet cleaned the dataset of all NaN values, then investigate and\n",
        "# do that now.\n",
        "\n"
      ],
      "execution_count": 0,
      "outputs": []
    },
    {
      "metadata": {
        "id": "3_LeBEx8vFKn",
        "colab_type": "code",
        "colab": {}
      },
      "cell_type": "code",
      "source": [
        "# Apply feature scaling to the general population demographics data.\n",
        "\n"
      ],
      "execution_count": 0,
      "outputs": []
    },
    {
      "metadata": {
        "id": "1aSkdeJQvFKp",
        "colab_type": "text"
      },
      "cell_type": "markdown",
      "source": [
        "### Discussion 2.1: Apply Feature Scaling\n",
        "\n",
        "(Double-click this cell and replace this text with your own text, reporting your decisions regarding feature scaling.)"
      ]
    },
    {
      "metadata": {
        "id": "EQ1EVk-AvFKq",
        "colab_type": "text"
      },
      "cell_type": "markdown",
      "source": [
        "### Step 2.2: Perform Dimensionality Reduction\n",
        "\n",
        "On your scaled data, you are now ready to apply dimensionality reduction techniques.\n",
        "\n",
        "- Use sklearn's [PCA](http://scikit-learn.org/stable/modules/generated/sklearn.decomposition.PCA.html) class to apply principal component analysis on the data, thus finding the vectors of maximal variance in the data. To start, you should not set any parameters (so all components are computed) or set a number of components that is at least half the number of features (so there's enough features to see the general trend in variability).\n",
        "- Check out the ratio of variance explained by each principal component as well as the cumulative variance explained. Try plotting the cumulative or sequential values using matplotlib's [`plot()`](https://matplotlib.org/api/_as_gen/matplotlib.pyplot.plot.html) function. Based on what you find, select a value for the number of transformed features you'll retain for the clustering part of the project.\n",
        "- Once you've made a choice for the number of components to keep, make sure you re-fit a PCA instance to perform the decided-on transformation."
      ]
    },
    {
      "metadata": {
        "id": "9V5hsE4vvFKr",
        "colab_type": "code",
        "colab": {}
      },
      "cell_type": "code",
      "source": [
        "# Apply PCA to the data.\n",
        "\n"
      ],
      "execution_count": 0,
      "outputs": []
    },
    {
      "metadata": {
        "id": "ArYIT8HEvFKu",
        "colab_type": "code",
        "colab": {}
      },
      "cell_type": "code",
      "source": [
        "# Investigate the variance accounted for by each principal component.\n",
        "\n"
      ],
      "execution_count": 0,
      "outputs": []
    },
    {
      "metadata": {
        "id": "N9rDI37qvFKx",
        "colab_type": "code",
        "colab": {}
      },
      "cell_type": "code",
      "source": [
        "# Re-apply PCA to the data while selecting for number of components to retain.\n",
        "\n"
      ],
      "execution_count": 0,
      "outputs": []
    },
    {
      "metadata": {
        "id": "pWeuVSPrvFK2",
        "colab_type": "text"
      },
      "cell_type": "markdown",
      "source": [
        "### Discussion 2.2: Perform Dimensionality Reduction\n",
        "\n",
        "(Double-click this cell and replace this text with your own text, reporting your findings and decisions regarding dimensionality reduction. How many principal components / transformed features are you retaining for the next step of the analysis?)"
      ]
    },
    {
      "metadata": {
        "id": "2T2O6gVQvFK3",
        "colab_type": "text"
      },
      "cell_type": "markdown",
      "source": [
        "### Step 2.3: Interpret Principal Components\n",
        "\n",
        "Now that we have our transformed principal components, it's a nice idea to check out the weight of each variable on the first few components to see if they can be interpreted in some fashion.\n",
        "\n",
        "As a reminder, each principal component is a unit vector that points in the direction of highest variance (after accounting for the variance captured by earlier principal components). The further a weight is from zero, the more the principal component is in the direction of the corresponding feature. If two features have large weights of the same sign (both positive or both negative), then increases in one tend expect to be associated with increases in the other. To contrast, features with different signs can be expected to show a negative correlation: increases in one variable should result in a decrease in the other.\n",
        "\n",
        "- To investigate the features, you should map each weight to their corresponding feature name, then sort the features according to weight. The most interesting features for each principal component, then, will be those at the beginning and end of the sorted list. Use the data dictionary document to help you understand these most prominent features, their relationships, and what a positive or negative value on the principal component might indicate.\n",
        "- You should investigate and interpret feature associations from the first three principal components in this substep. To help facilitate this, you should write a function that you can call at any time to print the sorted list of feature weights, for the *i*-th principal component. This might come in handy in the next step of the project, when you interpret the tendencies of the discovered clusters."
      ]
    },
    {
      "metadata": {
        "id": "xP2tYxfUvFK4",
        "colab_type": "code",
        "colab": {}
      },
      "cell_type": "code",
      "source": [
        "# Map weights for the first principal component to corresponding feature names\n",
        "# and then print the linked values, sorted by weight.\n",
        "# HINT: Try defining a function here or in a new cell that you can reuse in the\n",
        "# other cells.\n",
        "\n"
      ],
      "execution_count": 0,
      "outputs": []
    },
    {
      "metadata": {
        "id": "oHYxwFPkvFK6",
        "colab_type": "code",
        "colab": {}
      },
      "cell_type": "code",
      "source": [
        "# Map weights for the second principal component to corresponding feature names\n",
        "# and then print the linked values, sorted by weight.\n",
        "\n"
      ],
      "execution_count": 0,
      "outputs": []
    },
    {
      "metadata": {
        "id": "e45OmylAvFK-",
        "colab_type": "code",
        "colab": {}
      },
      "cell_type": "code",
      "source": [
        "# Map weights for the third principal component to corresponding feature names\n",
        "# and then print the linked values, sorted by weight.\n",
        "\n"
      ],
      "execution_count": 0,
      "outputs": []
    },
    {
      "metadata": {
        "id": "n1fe8HslvFLB",
        "colab_type": "text"
      },
      "cell_type": "markdown",
      "source": [
        "### Discussion 2.3: Interpret Principal Components\n",
        "\n",
        "(Double-click this cell and replace this text with your own text, reporting your observations from detailed investigation of the first few principal components generated. Can we interpret positive and negative values from them in a meaningful way?)"
      ]
    },
    {
      "metadata": {
        "id": "ceGmXFhFvFLC",
        "colab_type": "text"
      },
      "cell_type": "markdown",
      "source": [
        "## Step 3: Clustering\n",
        "\n",
        "### Step 3.1: Apply Clustering to General Population\n",
        "\n",
        "You've assessed and cleaned the demographics data, then scaled and transformed them. Now, it's time to see how the data clusters in the principal components space. In this substep, you will apply k-means clustering to the dataset and use the average within-cluster distances from each point to their assigned cluster's centroid to decide on a number of clusters to keep.\n",
        "\n",
        "- Use sklearn's [KMeans](http://scikit-learn.org/stable/modules/generated/sklearn.cluster.KMeans.html#sklearn.cluster.KMeans) class to perform k-means clustering on the PCA-transformed data.\n",
        "- Then, compute the average difference from each point to its assigned cluster's center. **Hint**: The KMeans object's `.score()` method might be useful here, but note that in sklearn, scores tend to be defined so that larger is better. Try applying it to a small, toy dataset, or use an internet search to help your understanding.\n",
        "- Perform the above two steps for a number of different cluster counts. You can then see how the average distance decreases with an increasing number of clusters. However, each additional cluster provides a smaller net benefit. Use this fact to select a final number of clusters in which to group the data. **Warning**: because of the large size of the dataset, it can take a long time for the algorithm to resolve. The more clusters to fit, the longer the algorithm will take. You should test for cluster counts through at least 10 clusters to get the full picture, but you shouldn't need to test for a number of clusters above about 30.\n",
        "- Once you've selected a final number of clusters to use, re-fit a KMeans instance to perform the clustering operation. Make sure that you also obtain the cluster assignments for the general demographics data, since you'll be using them in the final Step 3.3."
      ]
    },
    {
      "metadata": {
        "id": "8lL2-KjXvFLE",
        "colab_type": "code",
        "colab": {}
      },
      "cell_type": "code",
      "source": [
        "# Over a number of different cluster counts...\n",
        "\n",
        "\n",
        "    # run k-means clustering on the data and...\n",
        "    \n",
        "    \n",
        "    # compute the average within-cluster distances.\n",
        "    \n",
        "    "
      ],
      "execution_count": 0,
      "outputs": []
    },
    {
      "metadata": {
        "id": "Zb0xHuHtvFLG",
        "colab_type": "code",
        "colab": {}
      },
      "cell_type": "code",
      "source": [
        "# Investigate the change in within-cluster distance across number of clusters.\n",
        "# HINT: Use matplotlib's plot function to visualize this relationship.\n",
        "\n"
      ],
      "execution_count": 0,
      "outputs": []
    },
    {
      "metadata": {
        "id": "cboH8CEjvFLI",
        "colab_type": "code",
        "colab": {}
      },
      "cell_type": "code",
      "source": [
        "# Re-fit the k-means model with the selected number of clusters and obtain\n",
        "# cluster predictions for the general population demographics data.\n",
        "\n"
      ],
      "execution_count": 0,
      "outputs": []
    },
    {
      "metadata": {
        "id": "hI44GlRavFLK",
        "colab_type": "text"
      },
      "cell_type": "markdown",
      "source": [
        "### Discussion 3.1: Apply Clustering to General Population\n",
        "\n",
        "(Double-click this cell and replace this text with your own text, reporting your findings and decisions regarding clustering. Into how many clusters have you decided to segment the population?)"
      ]
    },
    {
      "metadata": {
        "id": "A-fJAXn8vFLL",
        "colab_type": "text"
      },
      "cell_type": "markdown",
      "source": [
        "### Step 3.2: Apply All Steps to the Customer Data\n",
        "\n",
        "Now that you have clusters and cluster centers for the general population, it's time to see how the customer data maps on to those clusters. Take care to not confuse this for re-fitting all of the models to the customer data. Instead, you're going to use the fits from the general population to clean, transform, and cluster the customer data. In the last step of the project, you will interpret how the general population fits apply to the customer data.\n",
        "\n",
        "- Don't forget when loading in the customers data, that it is semicolon (`;`) delimited.\n",
        "- Apply the same feature wrangling, selection, and engineering steps to the customer demographics using the `clean_data()` function you created earlier. (You can assume that the customer demographics data has similar meaning behind missing data patterns as the general demographics data.)\n",
        "- Use the sklearn objects from the general demographics data, and apply their transformations to the customers data. That is, you should not be using a `.fit()` or `.fit_transform()` method to re-fit the old objects, nor should you be creating new sklearn objects! Carry the data through the feature scaling, PCA, and clustering steps, obtaining cluster assignments for all of the data in the customer demographics data."
      ]
    },
    {
      "metadata": {
        "id": "-nAp_v2evFLM",
        "colab_type": "code",
        "colab": {}
      },
      "cell_type": "code",
      "source": [
        "# Load in the customer demographics data.\n",
        "customers = "
      ],
      "execution_count": 0,
      "outputs": []
    },
    {
      "metadata": {
        "id": "sP5DM-NevFLO",
        "colab_type": "code",
        "colab": {}
      },
      "cell_type": "code",
      "source": [
        "# Apply preprocessing, feature transformation, and clustering from the general\n",
        "# demographics onto the customer data, obtaining cluster predictions for the\n",
        "# customer demographics data.\n",
        "\n"
      ],
      "execution_count": 0,
      "outputs": []
    },
    {
      "metadata": {
        "id": "2lLNEd_jvFLQ",
        "colab_type": "text"
      },
      "cell_type": "markdown",
      "source": [
        "### Step 3.3: Compare Customer Data to Demographics Data\n",
        "\n",
        "At this point, you have clustered data based on demographics of the general population of Germany, and seen how the customer data for a mail-order sales company maps onto those demographic clusters. In this final substep, you will compare the two cluster distributions to see where the strongest customer base for the company is.\n",
        "\n",
        "Consider the proportion of persons in each cluster for the general population, and the proportions for the customers. If we think the company's customer base to be universal, then the cluster assignment proportions should be fairly similar between the two. If there are only particular segments of the population that are interested in the company's products, then we should see a mismatch from one to the other. If there is a higher proportion of persons in a cluster for the customer data compared to the general population (e.g. 5% of persons are assigned to a cluster for the general population, but 15% of the customer data is closest to that cluster's centroid) then that suggests the people in that cluster to be a target audience for the company. On the other hand, the proportion of the data in a cluster being larger in the general population than the customer data (e.g. only 2% of customers closest to a population centroid that captures 6% of the data) suggests that group of persons to be outside of the target demographics.\n",
        "\n",
        "Take a look at the following points in this step:\n",
        "\n",
        "- Compute the proportion of data points in each cluster for the general population and the customer data. Visualizations will be useful here: both for the individual dataset proportions, but also to visualize the ratios in cluster representation between groups. Seaborn's [`countplot()`](https://seaborn.pydata.org/generated/seaborn.countplot.html) or [`barplot()`](https://seaborn.pydata.org/generated/seaborn.barplot.html) function could be handy.\n",
        "  - Recall the analysis you performed in step 1.1.3 of the project, where you separated out certain data points from the dataset if they had more than a specified threshold of missing values. If you found that this group was qualitatively different from the main bulk of the data, you should treat this as an additional data cluster in this analysis. Make sure that you account for the number of data points in this subset, for both the general population and customer datasets, when making your computations!\n",
        "- Which cluster or clusters are overrepresented in the customer dataset compared to the general population? Select at least one such cluster and infer what kind of people might be represented by that cluster. Use the principal component interpretations from step 2.3 or look at additional components to help you make this inference. Alternatively, you can use the `.inverse_transform()` method of the PCA and StandardScaler objects to transform centroids back to the original data space and interpret the retrieved values directly.\n",
        "- Perform a similar investigation for the underrepresented clusters. Which cluster or clusters are underrepresented in the customer dataset compared to the general population, and what kinds of people are typified by these clusters?"
      ]
    },
    {
      "metadata": {
        "id": "CEH4uD8pvFLQ",
        "colab_type": "code",
        "colab": {}
      },
      "cell_type": "code",
      "source": [
        "# Compare the proportion of data in each cluster for the customer data to the\n",
        "# proportion of data in each cluster for the general population.\n",
        "\n"
      ],
      "execution_count": 0,
      "outputs": []
    },
    {
      "metadata": {
        "id": "3He0hvLGvFLV",
        "colab_type": "code",
        "colab": {}
      },
      "cell_type": "code",
      "source": [
        "# What kinds of people are part of a cluster that is overrepresented in the\n",
        "# customer data compared to the general population?\n",
        "\n"
      ],
      "execution_count": 0,
      "outputs": []
    },
    {
      "metadata": {
        "id": "Hw4Yin7BvFLY",
        "colab_type": "code",
        "colab": {}
      },
      "cell_type": "code",
      "source": [
        "# What kinds of people are part of a cluster that is underrepresented in the\n",
        "# customer data compared to the general population?\n",
        "\n"
      ],
      "execution_count": 0,
      "outputs": []
    },
    {
      "metadata": {
        "id": "rlKlTILzvFLb",
        "colab_type": "text"
      },
      "cell_type": "markdown",
      "source": [
        "### Discussion 3.3: Compare Customer Data to Demographics Data\n",
        "\n",
        "(Double-click this cell and replace this text with your own text, reporting findings and conclusions from the clustering analysis. Can we describe segments of the population that are relatively popular with the mail-order company, or relatively unpopular with the company?)"
      ]
    },
    {
      "metadata": {
        "id": "Wape6ECMvFLc",
        "colab_type": "text"
      },
      "cell_type": "markdown",
      "source": [
        "> Congratulations on making it this far in the project! Before you finish, make sure to check through the entire notebook from top to bottom to make sure that your analysis follows a logical flow and all of your findings are documented in **Discussion** cells. Once you've checked over all of your work, you should export the notebook as an HTML document to submit for evaluation. You can do this from the menu, navigating to **File -> Download as -> HTML (.html)**. You will submit both that document and this notebook for your project submission."
      ]
    },
    {
      "metadata": {
        "id": "ImUTQxn1vFLd",
        "colab_type": "code",
        "colab": {}
      },
      "cell_type": "code",
      "source": [
        ""
      ],
      "execution_count": 0,
      "outputs": []
    }
  ]
}