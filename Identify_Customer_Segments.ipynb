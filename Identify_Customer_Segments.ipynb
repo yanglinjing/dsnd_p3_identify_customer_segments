{
  "nbformat": 4,
  "nbformat_minor": 0,
  "metadata": {
    "colab": {
      "name": "Identify_Customer_Segments.ipynb",
      "version": "0.3.2",
      "provenance": [],
      "collapsed_sections": [
        "O0FVZrpw9XkX",
        "UFuutbVf9dPh",
        "_DuRxjwLvFJ2",
        "B5KbUNCYvFKA",
        "-yp_n4XBvFKL",
        "YSvswnc8vFKW",
        "1aSkdeJQvFKp",
        "pWeuVSPrvFK2",
        "2T2O6gVQvFK3",
        "n1fe8HslvFLB",
        "hI44GlRavFLK"
      ],
      "include_colab_link": true
    },
    "kernelspec": {
      "display_name": "Python 3",
      "language": "python",
      "name": "python3"
    }
  },
  "cells": [
    {
      "cell_type": "markdown",
      "metadata": {
        "id": "view-in-github",
        "colab_type": "text"
      },
      "source": [
        "<a href=\"https://colab.research.google.com/github/yanglinjing/dsnd_p3_identify_customer_segments/blob/master/Identify_Customer_Segments.ipynb\" target=\"_parent\"><img src=\"https://colab.research.google.com/assets/colab-badge.svg\" alt=\"Open In Colab\"/></a>"
      ]
    },
    {
      "metadata": {
        "id": "afnCeS4XvFJa",
        "colab_type": "text"
      },
      "cell_type": "markdown",
      "source": [
        "# Project: Identify Customer Segments\n",
        "\n",
        "\n"
      ]
    },
    {
      "metadata": {
        "id": "hMO_EujCgi3J",
        "colab_type": "text"
      },
      "cell_type": "markdown",
      "source": [
        "## Introduction\n",
        "The real-life data in this project concerns a company that performs mail-order sales in Germany, provided by AZ Direct and Arvato Finance Solution.\n",
        "\n",
        "The goal of this project is to identify facets of the population that are most likely to be purchasers of their products for a mailout campaign. Unsupervised learning techniques are used to organize the general population into clusters for checking which of them comprise the main user base for the company. \n",
        "\n",
        "There are a few steps of data cleaning before the machine learning techniques have been applied.\n",
        "\n",
        "### Data\n",
        "\n",
        "The main data for this project consist of two files:\n",
        "\n",
        "- `Udacity_AZDIAS_Subset.csv`: demographics data for the general population of\n",
        "      Germany; 891211 persons (rows) x 85 features (columns)\n",
        "- `Udacity_CUSTOMERS_Subset.csv`: demographics data for customers of a mail-order\n",
        "      company; 191652 persons (rows) x 85 features (columns)\n",
        "\n",
        "The **columns** in the *general* demographics file and *customers* data file are the\n",
        "**same**. \n",
        "\n",
        "Each row of the demographics files represents a single person, but also includes information outside of individuals, including information about their **household**, **building**, and **neighborhood**. \n",
        "\n",
        "### Features\n",
        "There are another two documents explaining features:\n",
        "\n",
        "- `AZDIAS_Feature_Summary.csv`: Summary of  demographics data \n",
        "       features; 85 features (rows) x 4 columns\n",
        "\n",
        "- `Data_Dictionary.md`: Detailed information file about the \n",
        "       features\n",
        "\n",
        "#### Latent Features\n",
        "\n",
        " 1. Person-level features\n",
        " 2. Household-level features\n",
        " 3. Building-level features\n",
        " 4. RR4 micro-cell features\n",
        " 5. RR3 micro-cell features\n",
        " 6. Postcode-level features\n",
        " 7. RR1 neighborhood features\n",
        " 8. PLZ8 macro-cell features\n",
        " 9. Community-level features"
      ]
    },
    {
      "metadata": {
        "id": "Tg_Ni66YhcFw",
        "colab_type": "code",
        "outputId": "f5d587a9-d23e-4135-a458-db93036ebca4",
        "colab": {
          "base_uri": "https://localhost:8080/",
          "height": 34
        }
      },
      "cell_type": "code",
      "source": [
        "# All the documents are stored on Google Drive.\n",
        "# It requires authorisation before use them.\n",
        "# This chunk of code is about authorisation.\n",
        "\n",
        "# Mounting Google Drive locally\n",
        "# https://colab.research.google.com/notebooks/io.ipynb#scrollTo=u22w3BFiOveA\n",
        "\n",
        "from google.colab import drive\n",
        "drive.mount('/content/gdrive')"
      ],
      "execution_count": 10,
      "outputs": [
        {
          "output_type": "stream",
          "text": [
            "Drive already mounted at /content/gdrive; to attempt to forcibly remount, call drive.mount(\"/content/gdrive\", force_remount=True).\n"
          ],
          "name": "stdout"
        }
      ]
    },
    {
      "metadata": {
        "id": "jvFF8YvLhh0B",
        "colab_type": "code",
        "outputId": "f9e8746a-4fc4-4d47-eeb4-cd6139c85842",
        "colab": {
          "base_uri": "https://localhost:8080/",
          "height": 34
        }
      },
      "cell_type": "code",
      "source": [
        "!pwd"
      ],
      "execution_count": 11,
      "outputs": [
        {
          "output_type": "stream",
          "text": [
            "/content\n"
          ],
          "name": "stdout"
        }
      ]
    },
    {
      "metadata": {
        "id": "Wi6oOWYLhknx",
        "colab_type": "code",
        "outputId": "ada90fef-3820-4f8a-fac7-34923db04ec1",
        "colab": {
          "base_uri": "https://localhost:8080/",
          "height": 34
        }
      },
      "cell_type": "code",
      "source": [
        "# CPU!!! --gdrive\n",
        "#google colab - change path to google drive\n",
        "\n",
        "import os \n",
        "os.chdir('gdrive/My Drive/Colab Notebooks/dsnd_p3_identify_customer_segments')\n",
        "!pwd"
      ],
      "execution_count": 12,
      "outputs": [
        {
          "output_type": "stream",
          "text": [
            "/content/gdrive/My Drive/Colab Notebooks/dsnd_p3_identify_customer_segments\n"
          ],
          "name": "stdout"
        }
      ]
    },
    {
      "metadata": {
        "id": "lz674iZPkEP1",
        "colab_type": "code",
        "outputId": "74ef56fe-305f-4620-84e4-3eea15ff08bb",
        "colab": {
          "base_uri": "https://localhost:8080/",
          "height": 67
        }
      },
      "cell_type": "code",
      "source": [
        "!ls data"
      ],
      "execution_count": 145,
      "outputs": [
        {
          "output_type": "stream",
          "text": [
            "AZDIAS_Feature_Summary.csv  Udacity_AZDIAS_Subset.csv\n",
            "data_dictionary.ipynb\t    Udacity_CUSTOMERS_Subset.csv\n",
            "Data_Dictionary.md\n"
          ],
          "name": "stdout"
        }
      ]
    },
    {
      "metadata": {
        "id": "oyBmVfEzvFJc",
        "colab_type": "code",
        "colab": {}
      },
      "cell_type": "code",
      "source": [
        "# import libraries here; add more as necessary\n",
        "import numpy as np\n",
        "import pandas as pd\n",
        "\n",
        "import matplotlib.pyplot as plt\n",
        "import seaborn as sns\n",
        "\n",
        "from random import shuffle\n",
        "from sklearn.preprocessing import Imputer, StandardScaler\n",
        "from sklearn.decomposition import PCA\n",
        "from sklearn.cluster import KMeans\n",
        "\n",
        "# magic word for producing visualizations in notebook\n",
        "%matplotlib inline"
      ],
      "execution_count": 0,
      "outputs": []
    },
    {
      "metadata": {
        "id": "PMIfsGM689Rj",
        "colab_type": "code",
        "colab": {}
      },
      "cell_type": "code",
      "source": [
        "my_color = ['#42bff4', '#f9ace9']"
      ],
      "execution_count": 0,
      "outputs": []
    },
    {
      "metadata": {
        "id": "LEE6PpX7vFJg",
        "colab_type": "text"
      },
      "cell_type": "markdown",
      "source": [
        "## Step 0: Load the Data\n",
        "\n",
        "You will use this information to **cluster** the general population into groups with similar demographic properties. Then, you will see how the people in the customers dataset **fit** into those created clusters. \n",
        "\n",
        "The hope here is that certain clusters are*** over-represented*** in the customers data, as compared to the general population; those over-represented clusters will be assumed to be part of the core userbase. This information can then be used for further applications, such as targeting for a marketing campaign.\n",
        "\n"
      ]
    },
    {
      "metadata": {
        "id": "ppS1mCGBi5ZU",
        "colab_type": "text"
      },
      "cell_type": "markdown",
      "source": [
        "To start off with, load in the demographics data for the general population into a pandas DataFrame, and do the same for the feature attributes summary.\n",
        "\n",
        "> **Tip**:  Note for all of the `.csv` data files in this project: they're semicolon (`;`) delimited, so you'll need an additional argument in your [`read_csv()`](https://pandas.pydata.org/pandas-docs/stable/generated/pandas.read_csv.html) call to read in the data properly. Also, considering the size of the main dataset, it may take some time for it to load completely.\n",
        "\n",
        "\n",
        "> **Tip**: Add additional cells to keep everything in reasonably-sized chunks! Keyboard shortcut `esc --> a` (press escape to enter command mode, then press the 'A' key) adds a new cell before the active cell, and `esc --> b` adds a new cell after the active cell. If you need to convert an active cell to a markdown cell, use `esc --> m` and to convert to a code cell, use `esc --> y`. \n"
      ]
    },
    {
      "metadata": {
        "id": "O0FVZrpw9XkX",
        "colab_type": "text"
      },
      "cell_type": "markdown",
      "source": [
        "#### General Demographics Data"
      ]
    },
    {
      "metadata": {
        "id": "fkRtEh8IvFJh",
        "colab_type": "code",
        "colab": {}
      },
      "cell_type": "code",
      "source": [
        "# Load in the general demographics data.\n",
        "azdias = pd.read_csv('data/Udacity_AZDIAS_Subset.csv', sep = ';')"
      ],
      "execution_count": 0,
      "outputs": []
    },
    {
      "metadata": {
        "id": "4lyXGg_cvFJk",
        "colab_type": "code",
        "outputId": "007957bd-6208-4cc9-899f-9096e668ac9f",
        "colab": {
          "base_uri": "https://localhost:8080/",
          "height": 193
        }
      },
      "cell_type": "code",
      "source": [
        "# Check the structure of the data after it's loaded (e.g. print the number of\n",
        "# rows and columns, print the first few rows).\n",
        "\n",
        "azdias.sample(1)"
      ],
      "execution_count": 149,
      "outputs": [
        {
          "output_type": "execute_result",
          "data": {
            "text/html": [
              "<div>\n",
              "<style scoped>\n",
              "    .dataframe tbody tr th:only-of-type {\n",
              "        vertical-align: middle;\n",
              "    }\n",
              "\n",
              "    .dataframe tbody tr th {\n",
              "        vertical-align: top;\n",
              "    }\n",
              "\n",
              "    .dataframe thead th {\n",
              "        text-align: right;\n",
              "    }\n",
              "</style>\n",
              "<table border=\"1\" class=\"dataframe\">\n",
              "  <thead>\n",
              "    <tr style=\"text-align: right;\">\n",
              "      <th></th>\n",
              "      <th>AGER_TYP</th>\n",
              "      <th>ALTERSKATEGORIE_GROB</th>\n",
              "      <th>ANREDE_KZ</th>\n",
              "      <th>CJT_GESAMTTYP</th>\n",
              "      <th>FINANZ_MINIMALIST</th>\n",
              "      <th>FINANZ_SPARER</th>\n",
              "      <th>FINANZ_VORSORGER</th>\n",
              "      <th>FINANZ_ANLEGER</th>\n",
              "      <th>FINANZ_UNAUFFAELLIGER</th>\n",
              "      <th>FINANZ_HAUSBAUER</th>\n",
              "      <th>...</th>\n",
              "      <th>PLZ8_ANTG1</th>\n",
              "      <th>PLZ8_ANTG2</th>\n",
              "      <th>PLZ8_ANTG3</th>\n",
              "      <th>PLZ8_ANTG4</th>\n",
              "      <th>PLZ8_BAUMAX</th>\n",
              "      <th>PLZ8_HHZ</th>\n",
              "      <th>PLZ8_GBZ</th>\n",
              "      <th>ARBEIT</th>\n",
              "      <th>ORTSGR_KLS9</th>\n",
              "      <th>RELAT_AB</th>\n",
              "    </tr>\n",
              "  </thead>\n",
              "  <tbody>\n",
              "    <tr>\n",
              "      <th>356998</th>\n",
              "      <td>-1</td>\n",
              "      <td>2</td>\n",
              "      <td>1</td>\n",
              "      <td>4.0</td>\n",
              "      <td>3</td>\n",
              "      <td>3</td>\n",
              "      <td>3</td>\n",
              "      <td>2</td>\n",
              "      <td>2</td>\n",
              "      <td>2</td>\n",
              "      <td>...</td>\n",
              "      <td>1.0</td>\n",
              "      <td>3.0</td>\n",
              "      <td>3.0</td>\n",
              "      <td>2.0</td>\n",
              "      <td>4.0</td>\n",
              "      <td>3.0</td>\n",
              "      <td>2.0</td>\n",
              "      <td>5.0</td>\n",
              "      <td>7.0</td>\n",
              "      <td>5.0</td>\n",
              "    </tr>\n",
              "  </tbody>\n",
              "</table>\n",
              "<p>1 rows × 85 columns</p>\n",
              "</div>"
            ],
            "text/plain": [
              "        AGER_TYP  ALTERSKATEGORIE_GROB  ANREDE_KZ  CJT_GESAMTTYP  \\\n",
              "356998        -1                     2          1            4.0   \n",
              "\n",
              "        FINANZ_MINIMALIST  FINANZ_SPARER  FINANZ_VORSORGER  FINANZ_ANLEGER  \\\n",
              "356998                  3              3                 3               2   \n",
              "\n",
              "        FINANZ_UNAUFFAELLIGER  FINANZ_HAUSBAUER    ...     PLZ8_ANTG1  \\\n",
              "356998                      2                 2    ...            1.0   \n",
              "\n",
              "        PLZ8_ANTG2  PLZ8_ANTG3  PLZ8_ANTG4  PLZ8_BAUMAX  PLZ8_HHZ  PLZ8_GBZ  \\\n",
              "356998         3.0         3.0         2.0          4.0       3.0       2.0   \n",
              "\n",
              "        ARBEIT  ORTSGR_KLS9  RELAT_AB  \n",
              "356998     5.0          7.0       5.0  \n",
              "\n",
              "[1 rows x 85 columns]"
            ]
          },
          "metadata": {
            "tags": []
          },
          "execution_count": 149
        }
      ]
    },
    {
      "metadata": {
        "id": "0sEik4lfmws-",
        "colab_type": "code",
        "outputId": "0e10e86f-92f9-42bd-8f72-9b6f009fd078",
        "colab": {
          "base_uri": "https://localhost:8080/",
          "height": 54
        }
      },
      "cell_type": "code",
      "source": [
        "azdias.shape"
      ],
      "execution_count": 150,
      "outputs": [
        {
          "output_type": "execute_result",
          "data": {
            "text/plain": [
              "(891221, 85)"
            ]
          },
          "metadata": {
            "tags": []
          },
          "execution_count": 150
        }
      ]
    },
    {
      "metadata": {
        "id": "54zs0KyWUtO2",
        "colab_type": "code",
        "colab": {
          "base_uri": "https://localhost:8080/",
          "height": 1549
        },
        "outputId": "1e0c073c-4eb1-4a4a-b3d7-a8dd9938fd8b"
      },
      "cell_type": "code",
      "source": [
        "azdias.info()"
      ],
      "execution_count": 151,
      "outputs": [
        {
          "output_type": "stream",
          "text": [
            "<class 'pandas.core.frame.DataFrame'>\n",
            "RangeIndex: 891221 entries, 0 to 891220\n",
            "Data columns (total 85 columns):\n",
            "AGER_TYP                 891221 non-null int64\n",
            "ALTERSKATEGORIE_GROB     891221 non-null int64\n",
            "ANREDE_KZ                891221 non-null int64\n",
            "CJT_GESAMTTYP            886367 non-null float64\n",
            "FINANZ_MINIMALIST        891221 non-null int64\n",
            "FINANZ_SPARER            891221 non-null int64\n",
            "FINANZ_VORSORGER         891221 non-null int64\n",
            "FINANZ_ANLEGER           891221 non-null int64\n",
            "FINANZ_UNAUFFAELLIGER    891221 non-null int64\n",
            "FINANZ_HAUSBAUER         891221 non-null int64\n",
            "FINANZTYP                891221 non-null int64\n",
            "GEBURTSJAHR              891221 non-null int64\n",
            "GFK_URLAUBERTYP          886367 non-null float64\n",
            "GREEN_AVANTGARDE         891221 non-null int64\n",
            "HEALTH_TYP               891221 non-null int64\n",
            "LP_LEBENSPHASE_FEIN      886367 non-null float64\n",
            "LP_LEBENSPHASE_GROB      886367 non-null float64\n",
            "LP_FAMILIE_FEIN          886367 non-null float64\n",
            "LP_FAMILIE_GROB          886367 non-null float64\n",
            "LP_STATUS_FEIN           886367 non-null float64\n",
            "LP_STATUS_GROB           886367 non-null float64\n",
            "NATIONALITAET_KZ         891221 non-null int64\n",
            "PRAEGENDE_JUGENDJAHRE    891221 non-null int64\n",
            "RETOURTYP_BK_S           886367 non-null float64\n",
            "SEMIO_SOZ                891221 non-null int64\n",
            "SEMIO_FAM                891221 non-null int64\n",
            "SEMIO_REL                891221 non-null int64\n",
            "SEMIO_MAT                891221 non-null int64\n",
            "SEMIO_VERT               891221 non-null int64\n",
            "SEMIO_LUST               891221 non-null int64\n",
            "SEMIO_ERL                891221 non-null int64\n",
            "SEMIO_KULT               891221 non-null int64\n",
            "SEMIO_RAT                891221 non-null int64\n",
            "SEMIO_KRIT               891221 non-null int64\n",
            "SEMIO_DOM                891221 non-null int64\n",
            "SEMIO_KAEM               891221 non-null int64\n",
            "SEMIO_PFLICHT            891221 non-null int64\n",
            "SEMIO_TRADV              891221 non-null int64\n",
            "SHOPPER_TYP              891221 non-null int64\n",
            "SOHO_KZ                  817722 non-null float64\n",
            "TITEL_KZ                 817722 non-null float64\n",
            "VERS_TYP                 891221 non-null int64\n",
            "ZABEOTYP                 891221 non-null int64\n",
            "ALTER_HH                 817722 non-null float64\n",
            "ANZ_PERSONEN             817722 non-null float64\n",
            "ANZ_TITEL                817722 non-null float64\n",
            "HH_EINKOMMEN_SCORE       872873 non-null float64\n",
            "KK_KUNDENTYP             306609 non-null float64\n",
            "W_KEIT_KIND_HH           783619 non-null float64\n",
            "WOHNDAUER_2008           817722 non-null float64\n",
            "ANZ_HAUSHALTE_AKTIV      798073 non-null float64\n",
            "ANZ_HH_TITEL             794213 non-null float64\n",
            "GEBAEUDETYP              798073 non-null float64\n",
            "KONSUMNAEHE              817252 non-null float64\n",
            "MIN_GEBAEUDEJAHR         798073 non-null float64\n",
            "OST_WEST_KZ              798073 non-null object\n",
            "WOHNLAGE                 798073 non-null float64\n",
            "CAMEO_DEUG_2015          792242 non-null object\n",
            "CAMEO_DEU_2015           792242 non-null object\n",
            "CAMEO_INTL_2015          792242 non-null object\n",
            "KBA05_ANTG1              757897 non-null float64\n",
            "KBA05_ANTG2              757897 non-null float64\n",
            "KBA05_ANTG3              757897 non-null float64\n",
            "KBA05_ANTG4              757897 non-null float64\n",
            "KBA05_BAUMAX             757897 non-null float64\n",
            "KBA05_GBZ                757897 non-null float64\n",
            "BALLRAUM                 797481 non-null float64\n",
            "EWDICHTE                 797481 non-null float64\n",
            "INNENSTADT               797481 non-null float64\n",
            "GEBAEUDETYP_RASTER       798066 non-null float64\n",
            "KKK                      770025 non-null float64\n",
            "MOBI_REGIO               757897 non-null float64\n",
            "ONLINE_AFFINITAET        886367 non-null float64\n",
            "REGIOTYP                 770025 non-null float64\n",
            "KBA13_ANZAHL_PKW         785421 non-null float64\n",
            "PLZ8_ANTG1               774706 non-null float64\n",
            "PLZ8_ANTG2               774706 non-null float64\n",
            "PLZ8_ANTG3               774706 non-null float64\n",
            "PLZ8_ANTG4               774706 non-null float64\n",
            "PLZ8_BAUMAX              774706 non-null float64\n",
            "PLZ8_HHZ                 774706 non-null float64\n",
            "PLZ8_GBZ                 774706 non-null float64\n",
            "ARBEIT                   794005 non-null float64\n",
            "ORTSGR_KLS9              794005 non-null float64\n",
            "RELAT_AB                 794005 non-null float64\n",
            "dtypes: float64(49), int64(32), object(4)\n",
            "memory usage: 578.0+ MB\n"
          ],
          "name": "stdout"
        }
      ]
    },
    {
      "metadata": {
        "id": "UFuutbVf9dPh",
        "colab_type": "text"
      },
      "cell_type": "markdown",
      "source": [
        "#### Feature Summary File"
      ]
    },
    {
      "metadata": {
        "id": "lpw8YCEQ9O6s",
        "colab_type": "code",
        "colab": {}
      },
      "cell_type": "code",
      "source": [
        "# Load in the feature summary file.\n",
        "feat_info = pd.read_csv('data/AZDIAS_Feature_Summary.csv', sep = ';')\n",
        "feat_info.set_index('attribute', inplace=True)"
      ],
      "execution_count": 0,
      "outputs": []
    },
    {
      "metadata": {
        "id": "wyuqs7lZvFJn",
        "colab_type": "text"
      },
      "cell_type": "markdown",
      "source": [
        "## Step 1: Preprocessing\n",
        "\n",
        "### Step 1.1: Assess Missing Data\n",
        "\n",
        "First of all, you should **assess** the demographics data in terms of missing data. \n",
        "\n"
      ]
    },
    {
      "metadata": {
        "id": "3vF6UW6Og6Vn",
        "colab_type": "text"
      },
      "cell_type": "markdown",
      "source": [
        "#### Step 1.1.1: Convert Missing Value Codes to NaNs\n",
        "The **fourth** column of the **feature summary** (loaded in above as `feat_info`) documents the codes from the data dictionary that indicate*** missing or unknown data***. While the file encodes this as a list (e.g. `[-1,0]`), this will get read in as a **string** object. You'll need to do a little bit of parsing to make use of it to identify and clean the data. Convert data that matches a 'missing' or 'unknown' value code into a numpy NaN value. You might want to see how much data takes on a 'missing' or 'unknown' code, and how much data is naturally missing, as a point of interest.\n",
        "\n",
        "**As one more reminder, you are encouraged to add additional cells to break up your analysis into manageable chunks.**"
      ]
    },
    {
      "metadata": {
        "id": "LKGtXZzgUgF3",
        "colab_type": "code",
        "colab": {}
      },
      "cell_type": "code",
      "source": [
        "# turn missing_or_unknown to list \n",
        "feat_info['missing_or_unknown'] = feat_info['missing_or_unknown'].apply(lambda x: x[1:-1].split(','))"
      ],
      "execution_count": 0,
      "outputs": []
    },
    {
      "metadata": {
        "id": "CN_MkhUdUUXH",
        "colab_type": "code",
        "colab": {}
      },
      "cell_type": "code",
      "source": [
        "# Identify missing or unknown data values and convert them to NaNs.\n",
        "# In 'feat_info', the column 'missing_or_unknown' (type: object) shows missing values (e.g. -1, XX)\n",
        "\n",
        "for attrib, missing_values in zip(feat_info.index, feat_info['missing_or_unknown']):\n",
        "    if missing_values[0] != '':\n",
        "        for value in missing_values:\n",
        "            if value.isnumeric() or value.lstrip('-').isnumeric():\n",
        "                value = int(value)\n",
        "            azdias.loc[azdias[attrib] == value, attrib] = np.nan\n",
        "\n",
        "#lstrip() -- Returns a copy of the string with leading characters removed\n",
        "#isnumeric() -- checks whether the string consists of only numeric characters"
      ],
      "execution_count": 0,
      "outputs": []
    },
    {
      "metadata": {
        "id": "EEGcT-TAWphK",
        "colab_type": "code",
        "colab": {}
      },
      "cell_type": "code",
      "source": [
        "df_new = azdias.copy()"
      ],
      "execution_count": 0,
      "outputs": []
    },
    {
      "metadata": {
        "id": "n727HkVpvFJr",
        "colab_type": "text"
      },
      "cell_type": "markdown",
      "source": [
        "#### Step 1.1.2: Assess Missing Data in Each Column\n",
        "\n",
        "How much missing data is present in each column? There are a few columns that are outliers in terms of the proportion of values that are missing. You will want to use matplotlib's [`hist()`](https://matplotlib.org/api/_as_gen/matplotlib.pyplot.hist.html) function to visualize the distribution of missing value counts to find these columns. Identify and document these columns. While some of these columns might have justifications for keeping or re-encoding the data, for this project you should just remove them from the dataframe. (Feel free to make remarks about these outlier columns in the discussion, however!)\n",
        "\n",
        "For the remaining features, are there any patterns in which columns have, or share, missing data?"
      ]
    },
    {
      "metadata": {
        "id": "bqeFGB6YvFJs",
        "colab_type": "code",
        "colab": {}
      },
      "cell_type": "code",
      "source": [
        "# Calculate the percentage of missing values of each column\n",
        "missing = df_new.isnull().sum()\n",
        "missing = missing[missing > 0] / df_new.shape[0] *100\n",
        "missing.sort_values(inplace = True)\n",
        "\n",
        "# columns have more than 20% missing values\n",
        "missing_20 = missing[missing >20]"
      ],
      "execution_count": 0,
      "outputs": []
    },
    {
      "metadata": {
        "id": "ZDudUKbChSm3",
        "colab_type": "code",
        "outputId": "bcbbb263-0d28-4c00-af0b-730b72d463c9",
        "colab": {
          "base_uri": "https://localhost:8080/",
          "height": 50
        }
      },
      "cell_type": "code",
      "source": [
        "print(f\"{len(missing)} out of {df_new.shape[1]} columns contain missing values, from {round(missing[0], 2)}% to {round(missing[-1], 2)}%.\")\n",
        "print(f'{len(missing_20)} columns have more than 20% missing values.')\n"
      ],
      "execution_count": 157,
      "outputs": [
        {
          "output_type": "stream",
          "text": [
            "61 out of 85 columns contain missing values, from 0.32% to 99.76%.\n",
            "6 columns have more than 20% missing values.\n"
          ],
          "name": "stdout"
        }
      ]
    },
    {
      "metadata": {
        "id": "4Gf60TJVvFJv",
        "colab_type": "code",
        "outputId": "46148d2b-4a1c-453c-f9b4-3010b9b1477d",
        "colab": {
          "base_uri": "https://localhost:8080/",
          "height": 1426
        }
      },
      "cell_type": "code",
      "source": [
        "#Visualizing the naturally missing data\n",
        "missing.plot.barh(figsize = (10, 25), fontsize = 12, color= my_color[0])\n",
        "plt.title('Percentage of Missing Values in Columns', size = 14)\n",
        "plt.show()"
      ],
      "execution_count": 158,
      "outputs": [
        {
          "output_type": "display_data",
          "data": {
            "image/png": "[encoded data removed]",
            "text/plain": [
              "<Figure size 720x1800 with 1 Axes>"
            ]
          },
          "metadata": {
            "tags": []
          }
        }
      ]
    },
    {
      "metadata": {
        "id": "98Xdn1T6vFJy",
        "colab_type": "code",
        "colab": {}
      },
      "cell_type": "code",
      "source": [
        "# Remove the outlier columns from the dataset / feature summary. \n",
        "\n",
        "# Drop columns that contain 20% missing values\n",
        "for col in missing_20.index:\n",
        "  \n",
        "  # Dataset\n",
        "  df_new.drop(col, axis = 1, inplace = True)\n",
        "  \n",
        "  # Feature Summary\n",
        "  feat_info.drop([col], inplace = True)\n",
        "  "
      ],
      "execution_count": 0,
      "outputs": []
    },
    {
      "metadata": {
        "id": "ds4iBwAbfmFK",
        "colab_type": "code",
        "outputId": "98f783e4-204a-44bf-eca7-ac3397842a04",
        "colab": {
          "base_uri": "https://localhost:8080/",
          "height": 34
        }
      },
      "cell_type": "code",
      "source": [
        "df_new.shape, feat_info.shape"
      ],
      "execution_count": 160,
      "outputs": [
        {
          "output_type": "execute_result",
          "data": {
            "text/plain": [
              "((891221, 79), (79, 3))"
            ]
          },
          "metadata": {
            "tags": []
          },
          "execution_count": 160
        }
      ]
    },
    {
      "metadata": {
        "id": "d0tnwubo8d5u",
        "colab_type": "code",
        "outputId": "559273e1-010a-4e1b-fa41-6cb4f43273f8",
        "colab": {
          "base_uri": "https://localhost:8080/",
          "height": 67
        }
      },
      "cell_type": "code",
      "source": [
        "missing_20.index"
      ],
      "execution_count": 161,
      "outputs": [
        {
          "output_type": "execute_result",
          "data": {
            "text/plain": [
              "Index(['ALTER_HH', 'GEBURTSJAHR', 'KBA05_BAUMAX', 'KK_KUNDENTYP', 'AGER_TYP',\n",
              "       'TITEL_KZ'],\n",
              "      dtype='object')"
            ]
          },
          "metadata": {
            "tags": []
          },
          "execution_count": 161
        }
      ]
    },
    {
      "metadata": {
        "id": "_DuRxjwLvFJ2",
        "colab_type": "text"
      },
      "cell_type": "markdown",
      "source": [
        "#### Discussion 1.1.2: Assess Missing Data in Each Column\n",
        "\n",
        "61 out of 85 columns contain missing values, ranging from 0.32% to 99.76%. From the bar chart, it can be seen that the missing values of most columns are less than  20%, and the 6 columns at the top are outliers. Thus, they are removed from our dataset.\n",
        "\n",
        "The columns removed from the dataset includes:\n",
        "\n",
        "'ALTER_HH', 'GEBURTSJAHR', 'KBA05_BAUMAX', 'KK_KUNDENTYP', 'AGER_TYP',\n",
        "       'TITEL_KZ'"
      ]
    },
    {
      "metadata": {
        "id": "lYmap_u0vFJ4",
        "colab_type": "text"
      },
      "cell_type": "markdown",
      "source": [
        "#### Step 1.1.3: Assess Missing Data in Each Row\n",
        "\n",
        "Now, you'll perform a similar assessment for the rows of the dataset. How much data is missing in each row? As with the columns, you should see some groups of points that have a very different numbers of missing values. \n",
        "\n",
        "Divide the data into two subsets: \n",
        "- one for data points that are **above** some threshold for missing values, and \n",
        "- a second subset for points **below** that threshold.\n",
        "\n",
        "In order to know what to do with the outlier rows, we should see if the distribution of data values on columns that are not missing data (or are missing very little data) are **similar** or different* **bold text** between the two groups*. Select at least **five** of these columns and compare the distribution of values.\n",
        "- You can use seaborn's [`countplot()`](https://seaborn.pydata.org/generated/seaborn.countplot.html) function to create a bar chart of code frequencies and matplotlib's [`subplot()`](https://matplotlib.org/api/_as_gen/matplotlib.pyplot.subplot.html) function to put bar charts for the two subplots side by side.\n",
        "- To reduce repeated code, you might want to write a function that can perform this comparison, taking as one of its arguments a column to be compared.\n",
        "\n",
        "Depending on what you observe in your comparison, this will have implications on how you approach your conclusions later in the analysis. If the distributions of non-missing features look similar between the data with many missing values and the data with few or no missing values, then we could argue that simply dropping those points from the analysis won't present a major issue. On the other hand, if the data with many missing values looks very different from the data with few or no missing values, then we should make a note on those data as special. We'll revisit these data later on. **Either way, you should continue your analysis for now using just the subset of the data with few or no missing values.**"
      ]
    },
    {
      "metadata": {
        "id": "TkjIuBwyvFJ5",
        "colab_type": "code",
        "colab": {}
      },
      "cell_type": "code",
      "source": [
        "# How much data is missing in each row of the dataset?\n",
        "missing_r = df_new.isnull().sum(axis=1)\n"
      ],
      "execution_count": 0,
      "outputs": []
    },
    {
      "metadata": {
        "id": "T0YDUNpzPeRP",
        "colab_type": "code",
        "outputId": "97913e67-c4da-4e80-bf75-f2df89be674a",
        "colab": {
          "base_uri": "https://localhost:8080/",
          "height": 518
        }
      },
      "cell_type": "code",
      "source": [
        "# Visualise\n",
        "missing_r[missing_r > 0].plot(kind='hist', bins=40, figsize=(10,8), color=my_color[0])\n",
        "plt.title('Missing Value in Rows')\n",
        "plt.ylabel('Counts')\n",
        "plt.xlabel('Number of Missing Values')\n",
        "plt.show()"
      ],
      "execution_count": 163,
      "outputs": [
        {
          "output_type": "display_data",
          "data": {
            "image/png": "[encoded data removed]",
            "text/plain": [
              "<Figure size 720x576 with 1 Axes>"
            ]
          },
          "metadata": {
            "tags": []
          }
        }
      ]
    },
    {
      "metadata": {
        "id": "zkbGVdtnvFJ7",
        "colab_type": "code",
        "colab": {}
      },
      "cell_type": "code",
      "source": [
        "# Divide the data into two subsets: 10 missing values\n",
        "\n",
        "df = df_new[missing_r <= 10]\n",
        "\n",
        "df_more_missing = df_new[missing_r > 10]\n"
      ],
      "execution_count": 0,
      "outputs": []
    },
    {
      "metadata": {
        "id": "xztKE99MU63l",
        "colab_type": "code",
        "colab": {}
      },
      "cell_type": "code",
      "source": [
        "def plot_comparison(df1, df2, n):\n",
        "  \n",
        "  cols = df1.columns.tolist()\n",
        "  \n",
        "  # Randomly reorder column names\n",
        "  shuffle(cols) # shuffle works in place, and returns None\n",
        "  \n",
        "  for i in range(1, n+1):\n",
        "    plt.figure(i, figsize=(12, 4))\n",
        "    \n",
        "    #subplot(nrows, ncols, index)\n",
        "    plt.subplot(1, 2, 1)\n",
        "    sns.countplot(x = df1[cols[i]], color = my_color[0], edgecolor='.9')\n",
        "    plt.title(cols[i] + \"(Data Kept)\")\n",
        "\n",
        "    plt.subplot(1, 2, 2)\n",
        "    sns.countplot(x = df2[cols[i]], color = my_color[1], edgecolor='.9')\n",
        "    plt.title(cols[i] + \"(Data Rejected)\")\n",
        "    \n",
        "    plt.subplots_adjust(wspace = 0.5)\n"
      ],
      "execution_count": 0,
      "outputs": []
    },
    {
      "metadata": {
        "id": "4AaTTDo7YqnW",
        "colab_type": "code",
        "outputId": "4c9a91e1-cc79-4240-98b7-ceb44fdb33d7",
        "colab": {
          "base_uri": "https://localhost:8080/",
          "height": 1466
        }
      },
      "cell_type": "code",
      "source": [
        "plot_comparison(df, df_more_missing, 5)"
      ],
      "execution_count": 166,
      "outputs": [
        {
          "output_type": "stream",
          "text": [
            "/usr/local/lib/python3.6/dist-packages/seaborn/categorical.py:1428: FutureWarning: remove_na is deprecated and is a private function. Do not use.\n",
            "  stat_data = remove_na(group_data)\n"
          ],
          "name": "stderr"
        },
        {
          "output_type": "display_data",
          "data": {
            "image/png": "[encoded data removed]",
            "text/plain": [
              "<Figure size 864x288 with 2 Axes>"
            ]
          },
          "metadata": {
            "tags": []
          }
        },
        {
          "output_type": "display_data",
          "data": {
            "image/png": "[encoded data removed]",
            "text/plain": [
              "<Figure size 864x288 with 2 Axes>"
            ]
          },
          "metadata": {
            "tags": []
          }
        },
        {
          "output_type": "display_data",
          "data": {
            "image/png": "[encoded data removed]",
            "text/plain": [
              "<Figure size 864x288 with 2 Axes>"
            ]
          },
          "metadata": {
            "tags": []
          }
        },
        {
          "output_type": "display_data",
          "data": {
            "image/png": "[encoded data removed]",
            "text/plain": [
              "<Figure size 864x288 with 2 Axes>"
            ]
          },
          "metadata": {
            "tags": []
          }
        },
        {
          "output_type": "display_data",
          "data": {
            "image/png": "[encoded data removed]",
            "text/plain": [
              "<Figure size 864x288 with 2 Axes>"
            ]
          },
          "metadata": {
            "tags": []
          }
        }
      ]
    },
    {
      "metadata": {
        "id": "B5KbUNCYvFKA",
        "colab_type": "text"
      },
      "cell_type": "markdown",
      "source": [
        "#### Discussion 1.1.3: Assess Missing Data in Each Row\n",
        "\n",
        "The distribution of some columns shows a significant difference between the two sub-datasets - with or without more than 10 missing values. Removing these column outliers could improve the effiency of our data."
      ]
    },
    {
      "metadata": {
        "id": "g6ad1MGNvFKB",
        "colab_type": "text"
      },
      "cell_type": "markdown",
      "source": [
        "### Step 1.2: Select and Re-Encode Features\n",
        "\n",
        "Since the unsupervised learning techniques to be used will only work on data that is encoded **numerically**, you need to make a few encoding changes or additional assumptions to be able to make progress. \n",
        "\n",
        "In addition, while almost all of the values in the dataset are encoded using numbers, not all of them represent numeric values. Check the **third** column of the feature summary (`feat_info`) for a summary of types of measurement.\n",
        "- For **numeric** and **interval** data, these features can be kept without changes.\n",
        "- Most of the variables in the dataset are **ordinal** in nature. While ordinal values may technically be non-linear in spacing, make the simplifying assumption that the ordinal variables can be treated as being interval in nature (that is, kept without any changes).\n",
        "- Special handling may be necessary for the remaining two variable types: **categorical**, and '**mixed**'.\n",
        "\n",
        "In the first two parts of this sub-step, you will perform an investigation of the categorical and mixed-type features and make a decision on each of them, whether you will keep, drop, or re-encode each. Then, in the last part, you will create a new data frame with only the selected and engineered columns.\n"
      ]
    },
    {
      "metadata": {
        "id": "27Uh6jY2vFKC",
        "colab_type": "code",
        "outputId": "99c85ff6-9493-47f7-b1e6-3f5ca23093ce",
        "colab": {
          "base_uri": "https://localhost:8080/",
          "height": 101
        }
      },
      "cell_type": "code",
      "source": [
        "# How many features are there of each data type?\n",
        "feat_info['type'].value_counts()\n"
      ],
      "execution_count": 167,
      "outputs": [
        {
          "output_type": "execute_result",
          "data": {
            "text/plain": [
              "ordinal        49\n",
              "categorical    18\n",
              "numeric         6\n",
              "mixed           6\n",
              "Name: type, dtype: int64"
            ]
          },
          "metadata": {
            "tags": []
          },
          "execution_count": 167
        }
      ]
    },
    {
      "metadata": {
        "id": "FPnXZT9EvFKF",
        "colab_type": "text"
      },
      "cell_type": "markdown",
      "source": [
        "#### Step 1.2.1: Re-Encode Categorical Features\n",
        "\n",
        "For **categorical** data, you would ordinarily need to encode the levels as **dummy** variables. Depending on the number of categories, perform one of the following:\n",
        "- For binary (**two-level**) categoricals that take numeric values, you can keep them without needing to do anything.\n",
        "- There is one binary variable that takes on** non-numeric** values. For this one, you need to **re-encode** the values as numbers or create a dummy variable.\n",
        "- For **multi-level** categoricals (three or more values), you can choose to encode the values using multiple **dummy** variables (e.g. via [OneHotEncoder](http://scikit-learn.org/stable/modules/generated/sklearn.preprocessing.OneHotEncoder.html)), or (to keep things straightforward) just drop them from the analysis. \n",
        "\n",
        "As always, document your choices in the Discussion section."
      ]
    },
    {
      "metadata": {
        "id": "WYYjFGlZS7Km",
        "colab_type": "text"
      },
      "cell_type": "markdown",
      "source": [
        "##### Step 1.2.1.1\n",
        "\n",
        "Assess categorical variables: which are binary, which are multi-level, and which one needs to be re-encoded?"
      ]
    },
    {
      "metadata": {
        "id": "ZgXzC1f9vFKG",
        "colab_type": "code",
        "colab": {}
      },
      "cell_type": "code",
      "source": [
        "# Put Categorical Features into a list\n",
        "feat_cate = feat_info.query('type == \"categorical\"').index.tolist()"
      ],
      "execution_count": 0,
      "outputs": []
    },
    {
      "metadata": {
        "id": "_5fNIIAVMuK4",
        "colab_type": "code",
        "colab": {}
      },
      "cell_type": "code",
      "source": [
        "# build a df to show levels & types\n",
        "feat_cate_df = pd.DataFrame(index = feat_cate, columns = ['levels', 'type'])\n",
        "\n",
        "for feature in feat_cate:\n",
        "  \n",
        "  # number of levels\n",
        "  levels = df[feature].value_counts().shape[0]\n",
        "  \n",
        "  # types\n",
        "  feat_type = df[feature].dtypes\n",
        "  \n",
        "  # fill the df\n",
        "  feat_cate_df.loc[feature] = [levels, feat_type]"
      ],
      "execution_count": 0,
      "outputs": []
    },
    {
      "metadata": {
        "id": "lR2dnpcaOCVY",
        "colab_type": "code",
        "outputId": "24f8b370-11b5-4d02-fe63-95321e3e882b",
        "colab": {
          "base_uri": "https://localhost:8080/",
          "height": 580
        }
      },
      "cell_type": "code",
      "source": [
        "feat_cate_df.sort_values('levels')"
      ],
      "execution_count": 170,
      "outputs": [
        {
          "output_type": "execute_result",
          "data": {
            "text/html": [
              "<div>\n",
              "<style scoped>\n",
              "    .dataframe tbody tr th:only-of-type {\n",
              "        vertical-align: middle;\n",
              "    }\n",
              "\n",
              "    .dataframe tbody tr th {\n",
              "        vertical-align: top;\n",
              "    }\n",
              "\n",
              "    .dataframe thead th {\n",
              "        text-align: right;\n",
              "    }\n",
              "</style>\n",
              "<table border=\"1\" class=\"dataframe\">\n",
              "  <thead>\n",
              "    <tr style=\"text-align: right;\">\n",
              "      <th></th>\n",
              "      <th>levels</th>\n",
              "      <th>type</th>\n",
              "    </tr>\n",
              "  </thead>\n",
              "  <tbody>\n",
              "    <tr>\n",
              "      <th>ANREDE_KZ</th>\n",
              "      <td>2</td>\n",
              "      <td>float64</td>\n",
              "    </tr>\n",
              "    <tr>\n",
              "      <th>OST_WEST_KZ</th>\n",
              "      <td>2</td>\n",
              "      <td>object</td>\n",
              "    </tr>\n",
              "    <tr>\n",
              "      <th>VERS_TYP</th>\n",
              "      <td>2</td>\n",
              "      <td>float64</td>\n",
              "    </tr>\n",
              "    <tr>\n",
              "      <th>SOHO_KZ</th>\n",
              "      <td>2</td>\n",
              "      <td>float64</td>\n",
              "    </tr>\n",
              "    <tr>\n",
              "      <th>GREEN_AVANTGARDE</th>\n",
              "      <td>2</td>\n",
              "      <td>int64</td>\n",
              "    </tr>\n",
              "    <tr>\n",
              "      <th>NATIONALITAET_KZ</th>\n",
              "      <td>3</td>\n",
              "      <td>float64</td>\n",
              "    </tr>\n",
              "    <tr>\n",
              "      <th>SHOPPER_TYP</th>\n",
              "      <td>4</td>\n",
              "      <td>float64</td>\n",
              "    </tr>\n",
              "    <tr>\n",
              "      <th>LP_STATUS_GROB</th>\n",
              "      <td>5</td>\n",
              "      <td>float64</td>\n",
              "    </tr>\n",
              "    <tr>\n",
              "      <th>LP_FAMILIE_GROB</th>\n",
              "      <td>5</td>\n",
              "      <td>float64</td>\n",
              "    </tr>\n",
              "    <tr>\n",
              "      <th>FINANZTYP</th>\n",
              "      <td>6</td>\n",
              "      <td>float64</td>\n",
              "    </tr>\n",
              "    <tr>\n",
              "      <th>ZABEOTYP</th>\n",
              "      <td>6</td>\n",
              "      <td>float64</td>\n",
              "    </tr>\n",
              "    <tr>\n",
              "      <th>CJT_GESAMTTYP</th>\n",
              "      <td>6</td>\n",
              "      <td>float64</td>\n",
              "    </tr>\n",
              "    <tr>\n",
              "      <th>GEBAEUDETYP</th>\n",
              "      <td>7</td>\n",
              "      <td>float64</td>\n",
              "    </tr>\n",
              "    <tr>\n",
              "      <th>CAMEO_DEUG_2015</th>\n",
              "      <td>9</td>\n",
              "      <td>object</td>\n",
              "    </tr>\n",
              "    <tr>\n",
              "      <th>LP_STATUS_FEIN</th>\n",
              "      <td>10</td>\n",
              "      <td>float64</td>\n",
              "    </tr>\n",
              "    <tr>\n",
              "      <th>LP_FAMILIE_FEIN</th>\n",
              "      <td>11</td>\n",
              "      <td>float64</td>\n",
              "    </tr>\n",
              "    <tr>\n",
              "      <th>GFK_URLAUBERTYP</th>\n",
              "      <td>12</td>\n",
              "      <td>float64</td>\n",
              "    </tr>\n",
              "    <tr>\n",
              "      <th>CAMEO_DEU_2015</th>\n",
              "      <td>44</td>\n",
              "      <td>object</td>\n",
              "    </tr>\n",
              "  </tbody>\n",
              "</table>\n",
              "</div>"
            ],
            "text/plain": [
              "                 levels     type\n",
              "ANREDE_KZ             2  float64\n",
              "OST_WEST_KZ           2   object\n",
              "VERS_TYP              2  float64\n",
              "SOHO_KZ               2  float64\n",
              "GREEN_AVANTGARDE      2    int64\n",
              "NATIONALITAET_KZ      3  float64\n",
              "SHOPPER_TYP           4  float64\n",
              "LP_STATUS_GROB        5  float64\n",
              "LP_FAMILIE_GROB       5  float64\n",
              "FINANZTYP             6  float64\n",
              "ZABEOTYP              6  float64\n",
              "CJT_GESAMTTYP         6  float64\n",
              "GEBAEUDETYP           7  float64\n",
              "CAMEO_DEUG_2015       9   object\n",
              "LP_STATUS_FEIN       10  float64\n",
              "LP_FAMILIE_FEIN      11  float64\n",
              "GFK_URLAUBERTYP      12  float64\n",
              "CAMEO_DEU_2015       44   object"
            ]
          },
          "metadata": {
            "tags": []
          },
          "execution_count": 170
        }
      ]
    },
    {
      "metadata": {
        "id": "UbhZCknNTKXC",
        "colab_type": "text"
      },
      "cell_type": "markdown",
      "source": [
        "##### Step 1.2.1.2\n",
        "Re-encode categorical variable(s) to be kept in the analysis."
      ]
    },
    {
      "metadata": {
        "id": "ZdWV5IoTvzij",
        "colab_type": "text"
      },
      "cell_type": "markdown",
      "source": [
        "**Re-Encode Non-Numeric Binary Variable**\n",
        "\n",
        "3.6. `OST_WEST_KZ` -- \n",
        "Building location via former East / West Germany (GDR / FRG)\n",
        "\n",
        "- O: East (GDR)\n",
        "- W: West (FRG)"
      ]
    },
    {
      "metadata": {
        "id": "iuYMjKEiS07U",
        "colab_type": "code",
        "colab": {
          "base_uri": "https://localhost:8080/",
          "height": 118
        },
        "outputId": "ba7a0a46-6fa4-474d-e46b-ad5063b7b542"
      },
      "cell_type": "code",
      "source": [
        "# Re-encode 'OST_WEST_KZ': 2-level obj\n",
        "# O: East (GDR)\n",
        "# W: West (FRG)\n",
        "\n",
        "df['OST_WEST_KZ'] = df['OST_WEST_KZ'].map({'O': 0, 'W': 1})"
      ],
      "execution_count": 171,
      "outputs": [
        {
          "output_type": "stream",
          "text": [
            "/usr/local/lib/python3.6/dist-packages/ipykernel_launcher.py:2: SettingWithCopyWarning: \n",
            "A value is trying to be set on a copy of a slice from a DataFrame.\n",
            "Try using .loc[row_indexer,col_indexer] = value instead\n",
            "\n",
            "See the caveats in the documentation: http://pandas.pydata.org/pandas-docs/stable/indexing.html#indexing-view-versus-copy\n",
            "  \n"
          ],
          "name": "stderr"
        }
      ]
    },
    {
      "metadata": {
        "id": "KagQyLol_fMi",
        "colab_type": "code",
        "outputId": "65c3ae5c-3ec2-4212-e443-da602a253b4c",
        "colab": {
          "base_uri": "https://localhost:8080/",
          "height": 67
        }
      },
      "cell_type": "code",
      "source": [
        "df['OST_WEST_KZ'].value_counts()"
      ],
      "execution_count": 172,
      "outputs": [
        {
          "output_type": "execute_result",
          "data": {
            "text/plain": [
              "1    614719\n",
              "0    165434\n",
              "Name: OST_WEST_KZ, dtype: int64"
            ]
          },
          "metadata": {
            "tags": []
          },
          "execution_count": 172
        }
      ]
    },
    {
      "metadata": {
        "id": "_XU62bvmxC57",
        "colab_type": "text"
      },
      "cell_type": "markdown",
      "source": [
        "**Simplify**\n",
        "\n",
        "'GEBAEUDETYP'  has been simplified into 3 categories: \n",
        "- 1 = residential, \n",
        "- 2 = mixed usage, \n",
        "- 3 = commercial,\n",
        "\n",
        "and then put into dummy variables.\n",
        "\n",
        "The original 'GEBAEUDETYP' is:\n",
        "\n",
        "3.3. `GEBAEUDETYP` -- Type of building (residential vs. commercial)\n",
        "-  1: residential building\n",
        "-  2: residential building buildings without actually known household\n",
        "-  3: mixed (=residential and company) building\n",
        "-  4: mixed building without actually known household or company\n",
        "-  5: company building w/o known company\n",
        "-  6: mixed building without actually known household\n",
        "-  7: company building\n",
        "-  8: mixed building without actually known compan"
      ]
    },
    {
      "metadata": {
        "id": "w6SbSW4rxATx",
        "colab_type": "code",
        "colab": {
          "base_uri": "https://localhost:8080/",
          "height": 118
        },
        "outputId": "ac0b55b2-ee77-4ae0-a0ba-dfd5820b82e2"
      },
      "cell_type": "code",
      "source": [
        "# Simplify 'GEBAEUDETYP' Type of building use into 3 categories; 1 = residential, 2 = mixed usage, 3 = commercial\n",
        "df['GEBAEUDETYP'] = df['GEBAEUDETYP'].map({1:1,2:1,3:2,4:2,5:3,6:2,7:3,8:2})"
      ],
      "execution_count": 173,
      "outputs": [
        {
          "output_type": "stream",
          "text": [
            "/usr/local/lib/python3.6/dist-packages/ipykernel_launcher.py:1: SettingWithCopyWarning: \n",
            "A value is trying to be set on a copy of a slice from a DataFrame.\n",
            "Try using .loc[row_indexer,col_indexer] = value instead\n",
            "\n",
            "See the caveats in the documentation: http://pandas.pydata.org/pandas-docs/stable/indexing.html#indexing-view-versus-copy\n",
            "  \"\"\"Entry point for launching an IPython kernel.\n"
          ],
          "name": "stderr"
        }
      ]
    },
    {
      "metadata": {
        "id": "lZj29G_xz-A1",
        "colab_type": "code",
        "colab": {
          "base_uri": "https://localhost:8080/",
          "height": 84
        },
        "outputId": "31c4757e-427b-49b9-c4ef-877bbb380b08"
      },
      "cell_type": "code",
      "source": [
        "df['GEBAEUDETYP'].value_counts()"
      ],
      "execution_count": 174,
      "outputs": [
        {
          "output_type": "execute_result",
          "data": {
            "text/plain": [
              "1    451603\n",
              "2    328549\n",
              "3         1\n",
              "Name: GEBAEUDETYP, dtype: int64"
            ]
          },
          "metadata": {
            "tags": []
          },
          "execution_count": 174
        }
      ]
    },
    {
      "metadata": {
        "id": "LWQ8HkCKvna4",
        "colab_type": "text"
      },
      "cell_type": "markdown",
      "source": [
        "**One-Hot-Encoding**\n",
        "\n",
        "The following 7 columns have been put into dummy variables.\n",
        "\n",
        "1.14. `LP_FAMILIE_GROB` --\n",
        "Family type, rough scale\n",
        "\n",
        "- 1: single (maps to 1 in fine scale)\n",
        "- 2: couple (maps to 2 in fine scale)\n",
        "- 3: single parent (maps to 3-5 in fine scale)\n",
        "- 4: family (maps to 6-8 in fine scale)\n",
        "- 5: multiperson household (maps to 9-11 in fine scale)\n",
        "\n",
        "1.16. `LP_STATUS_GROB` -- Social status, rough scale\n",
        "\n",
        "- 1: low-income earners (maps to 1-2 in fine scale)\n",
        "- 2: average earners (maps to 3-5 in fine scale)\n",
        "- 3: independents (maps to 6-7 in fine scale)\n",
        "- 4: houseowners (maps to 8-9 in fine scale)\n",
        "- 5: top earners (maps to 10 in fine scale)\n",
        "\n",
        "1.17. `NATIONALITAET_KZ` -- Nationality based on given name analysis\n",
        "-  1: German-sounding\n",
        "-  2: foreign-sounding\n",
        "-  3: assimilated names\n",
        "\n",
        "1.21. `SHOPPER_TYP` -- Shopper typology\n",
        "-  0: external supplied hedonists\n",
        "-  1: Shopping-stressed\n",
        "-  2: family-shopper\n",
        "-  3: demanding shopper\n",
        "\n",
        "1.4. `CJT_GESAMTTYP` -- \n",
        "Customer-Journey-Typology: preferred information and buying channels for consumer\n",
        "\n",
        "- 1: Advertising- and Consumptionminimalist\n",
        "- 2: Advertising- and Consumptiontraditionalist\n",
        "- 3: advertisinginterested Store-shopper\n",
        "- 4: advertisinginterested Online-shopper\n",
        "- 5: Advertising- and Cross-Channel-Enthusiast\n",
        "- 6: Advertising-Enthusiast with restricted Cross-Channel-Behaviour\n",
        "\n",
        "\n",
        "1.6. `FINANZTYP` -- Most descriptive financial type for individual\n",
        "-  1: low financial interest (MINIMALIST)\n",
        "-  2: money-saver (SPARER)\n",
        "-  3: home ownership (HAUSBAUER)\n",
        "-  4: be prepared (VORSORGER)\n",
        "-  5: investor (ANLEGER)\n",
        "-  6: inconspicuous (UNAUFFAELLIGER)\n",
        "\n",
        "4.1.` CAMEO_DEUG_2015`\n",
        "German CAMEO: Wealth / Life Stage Typology, rough scale\n",
        "\n",
        "- 1: upper class\n",
        "- 2: upper middleclass\n",
        "- 3: established middleclass\n",
        "- 4: consumption-oriented middleclass\n",
        "- 5: active middleclass\n",
        "- 6: low-consumption middleclass\n",
        "- 7: lower middleclass\n",
        "- 8: working class\n",
        "- 9: urban working class\n"
      ]
    },
    {
      "metadata": {
        "id": "3gJyY1oOzZ5o",
        "colab_type": "code",
        "colab": {}
      },
      "cell_type": "code",
      "source": [
        "df = pd.get_dummies(data = df, columns=['LP_FAMILIE_GROB', \n",
        "                                        'LP_STATUS_GROB', \n",
        "                                        'CJT_GESAMTTYP', \n",
        "                                        'CAMEO_DEUG_2015',\n",
        "                                        'NATIONALITAET_KZ',\n",
        "                                        'SHOPPER_TYP',\n",
        "                                        'FINANZTYP',\n",
        "                                        'GEBAEUDETYP'])"
      ],
      "execution_count": 0,
      "outputs": []
    },
    {
      "metadata": {
        "id": "vDIIKBKh_orB",
        "colab_type": "code",
        "outputId": "5044516f-1830-4dd4-b2ca-1a9ea3b8319f",
        "colab": {
          "base_uri": "https://localhost:8080/",
          "height": 34
        }
      },
      "cell_type": "code",
      "source": [
        "df.shape"
      ],
      "execution_count": 176,
      "outputs": [
        {
          "output_type": "execute_result",
          "data": {
            "text/plain": [
              "(780153, 112)"
            ]
          },
          "metadata": {
            "tags": []
          },
          "execution_count": 176
        }
      ]
    },
    {
      "metadata": {
        "id": "-0IuGNrNthg8",
        "colab_type": "text"
      },
      "cell_type": "markdown",
      "source": [
        "**Drop Columns: **\n",
        "\n",
        "The columns contains information that is  less important or similar to others are removed: \n",
        "\n",
        "- ZABEOTYP -- Energy consumption typology \n",
        "- LP_STATUS_FEIN (Similar as 1.16. LP_STATUS_GROB)\n",
        "- LP_FAMILIE_FEIN -- Family type, fine scale (Similar as 1.14 LP_FAMILIE_GROB)\n",
        "- GFK_URLAUBERTYP -- Vacation habits\n",
        "- CAMEO_DEU_2015 -- Wealth / Life  (44 levels are too much)\n"
      ]
    },
    {
      "metadata": {
        "id": "Bqcv8D12x66L",
        "colab_type": "code",
        "colab": {}
      },
      "cell_type": "code",
      "source": [
        "df.drop(columns = ['ZABEOTYP', \n",
        "                   'LP_STATUS_FEIN',\n",
        "                   'GFK_URLAUBERTYP', \n",
        "                   'LP_FAMILIE_FEIN', \n",
        "                   'CAMEO_DEU_2015' ], \n",
        "        inplace = True)"
      ],
      "execution_count": 0,
      "outputs": []
    },
    {
      "metadata": {
        "id": "M4kD7JFWKryO",
        "colab_type": "code",
        "outputId": "b507125a-e76e-4ab8-e94e-4d2e305d1dcc",
        "colab": {
          "base_uri": "https://localhost:8080/",
          "height": 34
        }
      },
      "cell_type": "code",
      "source": [
        "df.shape"
      ],
      "execution_count": 178,
      "outputs": [
        {
          "output_type": "execute_result",
          "data": {
            "text/plain": [
              "(780153, 107)"
            ]
          },
          "metadata": {
            "tags": []
          },
          "execution_count": 178
        }
      ]
    },
    {
      "metadata": {
        "id": "-yp_n4XBvFKL",
        "colab_type": "text"
      },
      "cell_type": "markdown",
      "source": [
        "#### Discussion 1.2.1: Re-Encode Categorical Features\n",
        "\n",
        "1. The non-numeric binary variable, `OST_WEST_KZ`,  has been re-encoded by 0 and 1.\n",
        "\n",
        "2. `GEBAEUDETYP` has been simplified into 3 categories, and then put into dummy variables.\n",
        "\n",
        "3. The follwing columns have been directly put into dummy variables:\n",
        "\n",
        " - `LP_FAMILIE_GROB`\n",
        " - `LP_STATUS_GROB` \n",
        " - `NATIONALITAET_KZ`\n",
        " -  `SHOPPER_TYP`\n",
        " - `CJT_GESAMTTYP`\n",
        " - `FINANZTYP`\n",
        " - ` CAMEO_DEUG_2015`\n",
        "\n",
        "4. The following columns are removed as the information they contains is  less important or similar to others: \n",
        "\n",
        " - `ZABEOTYP`\n",
        " - `LP_STATUS_FEIN`\n",
        " - `LP_FAMILIE_FEIN`\n",
        " - `GFK_URLAUBERTYP`\n",
        " - `CAMEO_DEU_2015`"
      ]
    },
    {
      "metadata": {
        "id": "5HYBCBa7vFKM",
        "colab_type": "text"
      },
      "cell_type": "markdown",
      "source": [
        "#### Step 1.2.2: Engineer Mixed-Type Features\n",
        "\n",
        "There are a handful of features that are marked as \"mixed\" in the feature summary that require special treatment in order to be included in the analysis. There are two in particular that deserve attention:"
      ]
    },
    {
      "metadata": {
        "id": "nwkdSLk6Wt-s",
        "colab_type": "code",
        "outputId": "ca062080-80f8-4845-d071-f6be2658847e",
        "colab": {
          "base_uri": "https://localhost:8080/",
          "height": 254
        }
      },
      "cell_type": "code",
      "source": [
        "feat_info.query('type == \"mixed\"')"
      ],
      "execution_count": 179,
      "outputs": [
        {
          "output_type": "execute_result",
          "data": {
            "text/html": [
              "<div>\n",
              "<style scoped>\n",
              "    .dataframe tbody tr th:only-of-type {\n",
              "        vertical-align: middle;\n",
              "    }\n",
              "\n",
              "    .dataframe tbody tr th {\n",
              "        vertical-align: top;\n",
              "    }\n",
              "\n",
              "    .dataframe thead th {\n",
              "        text-align: right;\n",
              "    }\n",
              "</style>\n",
              "<table border=\"1\" class=\"dataframe\">\n",
              "  <thead>\n",
              "    <tr style=\"text-align: right;\">\n",
              "      <th></th>\n",
              "      <th>information_level</th>\n",
              "      <th>type</th>\n",
              "      <th>missing_or_unknown</th>\n",
              "    </tr>\n",
              "    <tr>\n",
              "      <th>attribute</th>\n",
              "      <th></th>\n",
              "      <th></th>\n",
              "      <th></th>\n",
              "    </tr>\n",
              "  </thead>\n",
              "  <tbody>\n",
              "    <tr>\n",
              "      <th>LP_LEBENSPHASE_FEIN</th>\n",
              "      <td>person</td>\n",
              "      <td>mixed</td>\n",
              "      <td>[0]</td>\n",
              "    </tr>\n",
              "    <tr>\n",
              "      <th>LP_LEBENSPHASE_GROB</th>\n",
              "      <td>person</td>\n",
              "      <td>mixed</td>\n",
              "      <td>[0]</td>\n",
              "    </tr>\n",
              "    <tr>\n",
              "      <th>PRAEGENDE_JUGENDJAHRE</th>\n",
              "      <td>person</td>\n",
              "      <td>mixed</td>\n",
              "      <td>[-1, 0]</td>\n",
              "    </tr>\n",
              "    <tr>\n",
              "      <th>WOHNLAGE</th>\n",
              "      <td>building</td>\n",
              "      <td>mixed</td>\n",
              "      <td>[-1]</td>\n",
              "    </tr>\n",
              "    <tr>\n",
              "      <th>CAMEO_INTL_2015</th>\n",
              "      <td>microcell_rr4</td>\n",
              "      <td>mixed</td>\n",
              "      <td>[-1, XX]</td>\n",
              "    </tr>\n",
              "    <tr>\n",
              "      <th>PLZ8_BAUMAX</th>\n",
              "      <td>macrocell_plz8</td>\n",
              "      <td>mixed</td>\n",
              "      <td>[-1, 0]</td>\n",
              "    </tr>\n",
              "  </tbody>\n",
              "</table>\n",
              "</div>"
            ],
            "text/plain": [
              "                      information_level   type missing_or_unknown\n",
              "attribute                                                        \n",
              "LP_LEBENSPHASE_FEIN              person  mixed                [0]\n",
              "LP_LEBENSPHASE_GROB              person  mixed                [0]\n",
              "PRAEGENDE_JUGENDJAHRE            person  mixed            [-1, 0]\n",
              "WOHNLAGE                       building  mixed               [-1]\n",
              "CAMEO_INTL_2015           microcell_rr4  mixed           [-1, XX]\n",
              "PLZ8_BAUMAX              macrocell_plz8  mixed            [-1, 0]"
            ]
          },
          "metadata": {
            "tags": []
          },
          "execution_count": 179
        }
      ]
    },
    {
      "metadata": {
        "id": "DaC78_eRJp3B",
        "colab_type": "text"
      },
      "cell_type": "markdown",
      "source": [
        "##### Step 1.2.2.1 PRAEGENDE_JUGENDJAHRE\n",
        "\"`PRAEGENDE_JUGENDJAHRE`\" combines information on three dimensions: **generation** by decade, **movement** (mainstream vs. avantgarde), and **nation** (east vs. west). While there aren't enough levels to disentangle east from west, you should create two new variables to capture the other two dimensions: an interval-type variable for decade, and a binary variable for movement.\n",
        "\n",
        "1.18. **PRAEGENDE_JUGENDJAHRE**\n",
        "Dominating movement of person's youth (avantgarde vs. mainstream; east vs. west)\n",
        "\n",
        "- 1: 40s - war years (Mainstream, E+W)\n",
        "- 2: 40s - reconstruction years (Avantgarde, E+W)\n",
        "- 3: 50s - economic miracle (Mainstream, E+W)\n",
        "- 4: 50s - milk bar / Individualisation (Avantgarde, E+W)\n",
        "- 5: 60s - economic miracle (Mainstream, E+W)\n",
        "- 6: 60s - generation 68 / student protestors (Avantgarde, W)\n",
        "- 7: 60s - opponents to the building of the Wall (Avantgarde, E)\n",
        "- 8: 70s - family orientation (Mainstream, E+W)\n",
        "- 9: 70s - peace movement (Avantgarde, E+W)\n",
        "- 10: 80s - Generation Golf (Mainstream, W)\n",
        "- 11: 80s - ecological awareness (Avantgarde, W)\n",
        "- 12: 80s - FDJ / communist party youth organisation (Mainstream, E)\n",
        "- 13: 80s - Swords into ploughshares (Avantgarde, E)\n",
        "- 14: 90s - digital media kids (Mainstream, E+W)\n",
        "- 15: 90s - ecological awareness (Avantgarde, E+W)"
      ]
    },
    {
      "metadata": {
        "id": "bDSnLuSmVIOG",
        "colab_type": "text"
      },
      "cell_type": "markdown",
      "source": [
        "New column\n",
        "\n",
        "**DECADE**\n",
        "- 1: 40s\n",
        "- 2: 50s\n",
        "- 3: 60s\n",
        "- 4: 70s\n",
        "- 5: 80s\n",
        "- 6: 90s"
      ]
    },
    {
      "metadata": {
        "id": "tJRbqG4FNmPK",
        "colab_type": "code",
        "colab": {}
      },
      "cell_type": "code",
      "source": [
        "#1 decade\n",
        "\n",
        "df['DECADE'] = df['PRAEGENDE_JUGENDJAHRE'].map({1:1,2:1,3:2,4:2,5:3,6:3,7:3,8:4,9:4,10:5,11:5,12:5,13:5,14:6,15:6})"
      ],
      "execution_count": 0,
      "outputs": []
    },
    {
      "metadata": {
        "id": "tNi1AKd5Py45",
        "colab_type": "code",
        "outputId": "1b7f50e4-b1f2-4fcd-983a-1245bf150a94",
        "colab": {
          "base_uri": "https://localhost:8080/",
          "height": 134
        }
      },
      "cell_type": "code",
      "source": [
        "df['DECADE'].value_counts()"
      ],
      "execution_count": 181,
      "outputs": [
        {
          "output_type": "execute_result",
          "data": {
            "text/plain": [
              "6.0    219439\n",
              "4.0    171875\n",
              "5.0    148118\n",
              "3.0    113126\n",
              "2.0     73441\n",
              "1.0     27680\n",
              "Name: DECADE, dtype: int64"
            ]
          },
          "metadata": {
            "tags": []
          },
          "execution_count": 181
        }
      ]
    },
    {
      "metadata": {
        "id": "-Vco93pTVa5N",
        "colab_type": "text"
      },
      "cell_type": "markdown",
      "source": [
        "New column:\n",
        "\n",
        "**MOVEMENT**\n",
        "\n",
        "- 0: Mainstream\n",
        "- 1: Avantgarde"
      ]
    },
    {
      "metadata": {
        "id": "oyDHz1l-P9w5",
        "colab_type": "code",
        "colab": {}
      },
      "cell_type": "code",
      "source": [
        "#2 movement\n",
        "\n",
        "movement = []\n",
        "\n",
        "for x in df['PRAEGENDE_JUGENDJAHRE']:\n",
        "  if x in [1,3,5,8,10,12,14]:\n",
        "    movement.append(0)\n",
        "  elif x in [2,4,6,7,9,11,13,15]:\n",
        "    movement.append(1)\n",
        "  else:\n",
        "    movement.append(np.nan)\n",
        "\n",
        "df['MOVEMENT'] = movement"
      ],
      "execution_count": 0,
      "outputs": []
    },
    {
      "metadata": {
        "id": "CXBohLzoNiE8",
        "colab_type": "code",
        "outputId": "2bba009b-e594-4841-b5be-21799bea09ce",
        "colab": {
          "base_uri": "https://localhost:8080/",
          "height": 67
        }
      },
      "cell_type": "code",
      "source": [
        "df['MOVEMENT'].value_counts()"
      ],
      "execution_count": 183,
      "outputs": [
        {
          "output_type": "execute_result",
          "data": {
            "text/plain": [
              "0.0    581988\n",
              "1.0    171691\n",
              "Name: MOVEMENT, dtype: int64"
            ]
          },
          "metadata": {
            "tags": []
          },
          "execution_count": 183
        }
      ]
    },
    {
      "metadata": {
        "id": "Slz4ycWRQ0YZ",
        "colab_type": "code",
        "colab": {}
      },
      "cell_type": "code",
      "source": [
        "df.drop(columns = ['PRAEGENDE_JUGENDJAHRE'], inplace = True)"
      ],
      "execution_count": 0,
      "outputs": []
    },
    {
      "metadata": {
        "id": "Q6WNdcatRMQ3",
        "colab_type": "code",
        "outputId": "aa52d063-8612-4b41-9e44-32ce091fd51e",
        "colab": {
          "base_uri": "https://localhost:8080/",
          "height": 34
        }
      },
      "cell_type": "code",
      "source": [
        "df.shape"
      ],
      "execution_count": 185,
      "outputs": [
        {
          "output_type": "execute_result",
          "data": {
            "text/plain": [
              "(780153, 108)"
            ]
          },
          "metadata": {
            "tags": []
          },
          "execution_count": 185
        }
      ]
    },
    {
      "metadata": {
        "id": "J9hu5OtNRTjX",
        "colab_type": "text"
      },
      "cell_type": "markdown",
      "source": [
        "##### Step 1.2.2.1 CAMEO_INTL_2015\n",
        " \"`CAMEO_INTL_2015`\" combines information on two axes: **wealth** and **life stage**. Break up the two-digit codes by their 'tens'-place and 'ones'-place digits into two new ordinal variables (which, for the purposes of this project, is equivalent to just treating them as their raw numeric values).\n",
        "\n",
        "4.3. CAMEO_INTL_2015\n",
        "German CAMEO: Wealth / Life Stage Typology, mapped to international code\n",
        "\n",
        "- 11: Wealthy Households - Pre-Family Couples & Singles\n",
        "- 12: Wealthy Households - Young Couples With Children\n",
        "- 13: Wealthy Households - Families With School Age Children\n",
        "- 14: Wealthy Households - Older Families & Mature Couples\n",
        "- 15: Wealthy Households - Elders In Retirement\n",
        "- 21: Prosperous Households - Pre-Family Couples & Singles\n",
        "- 22: Prosperous Households - Young Couples With Children\n",
        "- 23: Prosperous Households - Families With School Age Children\n",
        "- 24: Prosperous Households - Older Families & Mature Couples\n",
        "- 25: Prosperous Households - Elders In Retirement\n",
        "- 31: Comfortable Households - Pre-Family Couples & Singles\n",
        "- 32: Comfortable Households - Young Couples With Children\n",
        "- 33: Comfortable Households - Families With School Age Children\n",
        "- 34: Comfortable Households - Older Families & Mature Couples\n",
        "- 35: Comfortable Households - Elders In Retirement\n",
        "- 41: Less Affluent Households - Pre-Family Couples & Singles\n",
        "- 42: Less Affluent Households - Young Couples With Children\n",
        "- 43: Less Affluent Households - Families With School Age Children\n",
        "- 44: Less Affluent Households - Older Families & Mature Couples\n",
        "- 45: Less Affluent Households - Elders In Retirement\n",
        "- 51: Poorer Households - Pre-Family Couples & Singles\n",
        "- 52: Poorer Households - Young Couples With Children\n",
        "- 53: Poorer Households - Families With School Age Children\n",
        "- 54: Poorer Households - Older Families & Mature Couples\n",
        "- 55: Poorer Households - Elders In Retirement"
      ]
    },
    {
      "metadata": {
        "id": "dzrMCvVPvFKQ",
        "colab_type": "code",
        "colab": {
          "base_uri": "https://localhost:8080/",
          "height": 386
        },
        "outputId": "d49de8f6-9d84-44c0-d10e-b708f1961e7f"
      },
      "cell_type": "code",
      "source": [
        "# Investigate \"CAMEO_INTL_2015\" and engineer two new variables.\n",
        "\n",
        "df['CAMEO_INTL_2015'].value_counts()"
      ],
      "execution_count": 186,
      "outputs": [
        {
          "output_type": "execute_result",
          "data": {
            "text/plain": [
              "51    132853\n",
              "41     91071\n",
              "24     89200\n",
              "14     61422\n",
              "43     55836\n",
              "54     45004\n",
              "25     38860\n",
              "22     32235\n",
              "45     25771\n",
              "13     25659\n",
              "23     24280\n",
              "55     23609\n",
              "52     20388\n",
              "34     18237\n",
              "31     17853\n",
              "15     16735\n",
              "44     14593\n",
              "12     12890\n",
              "35     10212\n",
              "32     10153\n",
              "33      9636\n",
              "Name: CAMEO_INTL_2015, dtype: int64"
            ]
          },
          "metadata": {
            "tags": []
          },
          "execution_count": 186
        }
      ]
    },
    {
      "metadata": {
        "id": "ZS0b7KlzU15H",
        "colab_type": "text"
      },
      "cell_type": "markdown",
      "source": [
        "New column:\n",
        "\n",
        "**WEALTH**\n",
        "- 1: Poorer Households\n",
        "- 2: Less Affluent Households\n",
        "- 3:Comfortable Households\n",
        "- 4: Prosperous Households \n",
        "- 5: Wealthy Households"
      ]
    },
    {
      "metadata": {
        "id": "8JWn2zFaShb0",
        "colab_type": "code",
        "colab": {}
      },
      "cell_type": "code",
      "source": [
        "#1 wealth\n",
        "\n",
        "wealth = []\n",
        "\n",
        "for x in df['CAMEO_INTL_2015']:\n",
        "  \n",
        "  x = float(x)\n",
        "  \n",
        "  if 10 < x < 16:\n",
        "    wealth.append(5)\n",
        "  elif 20 < x < 26:\n",
        "    wealth.append(4)\n",
        "  elif 30 < x < 36:\n",
        "    wealth.append(3)\n",
        "  elif 40 < x < 46:\n",
        "    wealth.append(2)\n",
        "  elif 50 < x < 56:\n",
        "    wealth.append(1)\n",
        "  else:\n",
        "    wealth.append(np.nan)\n",
        "    \n",
        "df[\"WEALTH\"] = wealth"
      ],
      "execution_count": 0,
      "outputs": []
    },
    {
      "metadata": {
        "id": "H7F1nkWtToiQ",
        "colab_type": "code",
        "outputId": "8d113620-7cdc-4a6e-9a23-ddeea96adee4",
        "colab": {
          "base_uri": "https://localhost:8080/",
          "height": 118
        }
      },
      "cell_type": "code",
      "source": [
        "df[\"WEALTH\"].value_counts()"
      ],
      "execution_count": 191,
      "outputs": [
        {
          "output_type": "execute_result",
          "data": {
            "text/plain": [
              "1.0    221854\n",
              "2.0    187271\n",
              "4.0    184575\n",
              "5.0    116706\n",
              "3.0     66091\n",
              "Name: WEALTH, dtype: int64"
            ]
          },
          "metadata": {
            "tags": []
          },
          "execution_count": 191
        }
      ]
    },
    {
      "metadata": {
        "id": "6yWUdmALUqep",
        "colab_type": "text"
      },
      "cell_type": "markdown",
      "source": [
        "New column:\n",
        "\n",
        "**LIFE_STAGE**\n",
        "\n",
        "- 1: Pre-Family Couples & Singles\n",
        "- 2: Young Couples With Children\n",
        "- 3: Families With School Age Children\n",
        "- 4: Older Families & Mature Couples\n",
        "- 5: Elders In Retirement"
      ]
    },
    {
      "metadata": {
        "id": "bSfck7l8TzeR",
        "colab_type": "code",
        "colab": {}
      },
      "cell_type": "code",
      "source": [
        "#2 life stage\n",
        "life_stage = []\n",
        "\n",
        "for x in df['CAMEO_INTL_2015']:\n",
        "  \n",
        "  x = float(x)\n",
        "  \n",
        "  if x % 10 == 1:\n",
        "    life_stage.append(1)\n",
        "  elif x % 10 == 2:\n",
        "    life_stage.append(2)\n",
        "  elif x % 10 == 3:\n",
        "    life_stage.append(3)\n",
        "  elif x % 10 == 4:\n",
        "    life_stage.append(4)\n",
        "  elif x % 10 == 5:\n",
        "    life_stage.append(5)\n",
        "  else:\n",
        "    life_stage.append(np.nan)\n",
        "\n",
        "df['LIFE_STAGE'] = life_stage"
      ],
      "execution_count": 0,
      "outputs": []
    },
    {
      "metadata": {
        "id": "DzA_YJSIWDU0",
        "colab_type": "code",
        "outputId": "957afb3f-319f-456e-d970-e19fa4ea9282",
        "colab": {
          "base_uri": "https://localhost:8080/",
          "height": 118
        }
      },
      "cell_type": "code",
      "source": [
        "df['LIFE_STAGE'].value_counts()"
      ],
      "execution_count": 194,
      "outputs": [
        {
          "output_type": "execute_result",
          "data": {
            "text/plain": [
              "1.0    241777\n",
              "4.0    228456\n",
              "3.0    115411\n",
              "5.0    115187\n",
              "2.0     75666\n",
              "Name: LIFE_STAGE, dtype: int64"
            ]
          },
          "metadata": {
            "tags": []
          },
          "execution_count": 194
        }
      ]
    },
    {
      "metadata": {
        "id": "N529eY4yWGwm",
        "colab_type": "code",
        "colab": {}
      },
      "cell_type": "code",
      "source": [
        "df.drop(columns = ['CAMEO_INTL_2015'], inplace = True)"
      ],
      "execution_count": 0,
      "outputs": []
    },
    {
      "metadata": {
        "id": "2r-v-0n6WRf1",
        "colab_type": "code",
        "outputId": "fc0eb7ae-0c6a-4c50-9362-98d6e88cb3f2",
        "colab": {
          "base_uri": "https://localhost:8080/",
          "height": 34
        }
      },
      "cell_type": "code",
      "source": [
        "df.shape"
      ],
      "execution_count": 196,
      "outputs": [
        {
          "output_type": "execute_result",
          "data": {
            "text/plain": [
              "(780153, 109)"
            ]
          },
          "metadata": {
            "tags": []
          },
          "execution_count": 196
        }
      ]
    },
    {
      "metadata": {
        "id": "9ZmT7B_DYi2K",
        "colab_type": "text"
      },
      "cell_type": "markdown",
      "source": [
        "##### Step 1.2.2.3 WOHNLAGE\n",
        " \"`WOHNLAGE`\" combines information on two axes: **neighbourhood quality** and **rural flag**. \n",
        "\n",
        "3.7. WOHNLAGE\n",
        "Neighborhood quality (or rural flag)\n",
        "\n",
        "- 0: no score calculated\n",
        "- 1: very good neighborhood\n",
        "- 2: good neighborhood\n",
        "- 3: average neighborhood\n",
        "- 4: poor neighborhood\n",
        "- 5: very poor neighborhood\n",
        "- 7: rural neighborhood\n",
        "- 8: new building in rural neighborhood"
      ]
    },
    {
      "metadata": {
        "id": "cvHmgmQpZeBw",
        "colab_type": "text"
      },
      "cell_type": "markdown",
      "source": [
        "New columns:\n",
        "\n",
        "RURAL:\n",
        "- 0: urban\n",
        "- 1: rural"
      ]
    },
    {
      "metadata": {
        "id": "S1gVCaYRZc98",
        "colab_type": "code",
        "colab": {}
      },
      "cell_type": "code",
      "source": [
        "df['RURAL'] = df['WOHNLAGE'].map({0:0,1:0,2:0,3:0,4:0,5:0,7:1,8:1})"
      ],
      "execution_count": 0,
      "outputs": []
    },
    {
      "metadata": {
        "id": "CUOEod04Zw23",
        "colab_type": "code",
        "outputId": "a73ea5e8-ab64-4b54-e70f-f5d359ed8c11",
        "colab": {
          "base_uri": "https://localhost:8080/",
          "height": 67
        }
      },
      "cell_type": "code",
      "source": [
        "df['RURAL'].value_counts()"
      ],
      "execution_count": 198,
      "outputs": [
        {
          "output_type": "execute_result",
          "data": {
            "text/plain": [
              "0    598005\n",
              "1    182148\n",
              "Name: RURAL, dtype: int64"
            ]
          },
          "metadata": {
            "tags": []
          },
          "execution_count": 198
        }
      ]
    },
    {
      "metadata": {
        "id": "gI1izfqEZ2U7",
        "colab_type": "text"
      },
      "cell_type": "markdown",
      "source": [
        "New columns:\n",
        "\n",
        "NEIGHBOUR_QLT\n",
        "\n",
        "- 0: no score calculated\n",
        "- 1: very good neighborhood\n",
        "- 2: good neighborhood\n",
        "- 3: average neighborhood\n",
        "- 4: poor neighborhood\n",
        "- 5: very poor neighborhood"
      ]
    },
    {
      "metadata": {
        "id": "saB3j3xraFk_",
        "colab_type": "code",
        "colab": {}
      },
      "cell_type": "code",
      "source": [
        "df['NEIGHBOUR_QLT'] = df['WOHNLAGE'].map({0:0,1:1,2:2,3:3,4:4,5:5,7:0,8:0})"
      ],
      "execution_count": 0,
      "outputs": []
    },
    {
      "metadata": {
        "id": "tRuFItnAaUMH",
        "colab_type": "code",
        "outputId": "7e943530-97b5-47d7-97f2-423718d5f62d",
        "colab": {
          "base_uri": "https://localhost:8080/",
          "height": 134
        }
      },
      "cell_type": "code",
      "source": [
        "df['NEIGHBOUR_QLT'].value_counts()"
      ],
      "execution_count": 200,
      "outputs": [
        {
          "output_type": "execute_result",
          "data": {
            "text/plain": [
              "3    246155\n",
              "0    185102\n",
              "4    134022\n",
              "2     98784\n",
              "5     72899\n",
              "1     43191\n",
              "Name: NEIGHBOUR_QLT, dtype: int64"
            ]
          },
          "metadata": {
            "tags": []
          },
          "execution_count": 200
        }
      ]
    },
    {
      "metadata": {
        "id": "fJ6Ua4NpaXvd",
        "colab_type": "code",
        "colab": {}
      },
      "cell_type": "code",
      "source": [
        "df.drop('NEIGHBOUR_QLT', axis = 1, inplace = True)"
      ],
      "execution_count": 0,
      "outputs": []
    },
    {
      "metadata": {
        "id": "i7VzLKVxadho",
        "colab_type": "code",
        "outputId": "e3f33fad-3b5e-4fac-9f93-565abbeee083",
        "colab": {
          "base_uri": "https://localhost:8080/",
          "height": 34
        }
      },
      "cell_type": "code",
      "source": [
        "df.shape"
      ],
      "execution_count": 202,
      "outputs": [
        {
          "output_type": "execute_result",
          "data": {
            "text/plain": [
              "(780153, 110)"
            ]
          },
          "metadata": {
            "tags": []
          },
          "execution_count": 202
        }
      ]
    },
    {
      "metadata": {
        "id": "idDISrkMbgvH",
        "colab_type": "text"
      },
      "cell_type": "markdown",
      "source": [
        " ##### Step 1.2.2.4 Drop other mixed columns\n",
        " \n",
        "-  `LP_LEBENSPHASE_FEIN` and\n",
        " \n",
        "-  `LP_LEBENSPHASE_GROB`\n",
        " \n",
        "are dropped as the information they provide has already been included in other features.\n",
        "\n",
        "- `PLZ8_BAUMAX` \n",
        "\n",
        "has been removed as this scale is ordinal from 1-4 with size of housing buildings, but 5 indicates business buildings."
      ]
    },
    {
      "metadata": {
        "id": "IJd5i_pgb4x0",
        "colab_type": "code",
        "colab": {}
      },
      "cell_type": "code",
      "source": [
        "df.drop(['LP_LEBENSPHASE_FEIN', 'LP_LEBENSPHASE_GROB', 'PLZ8_BAUMAX'], axis = 1, inplace = True )"
      ],
      "execution_count": 0,
      "outputs": []
    },
    {
      "metadata": {
        "id": "60XPJKLIcLKr",
        "colab_type": "code",
        "outputId": "d4612e28-0ca0-46ee-f625-d5d40f2013d7",
        "colab": {
          "base_uri": "https://localhost:8080/",
          "height": 34
        }
      },
      "cell_type": "code",
      "source": [
        "df.shape"
      ],
      "execution_count": 204,
      "outputs": [
        {
          "output_type": "execute_result",
          "data": {
            "text/plain": [
              "(780153, 107)"
            ]
          },
          "metadata": {
            "tags": []
          },
          "execution_count": 204
        }
      ]
    },
    {
      "metadata": {
        "colab_type": "code",
        "id": "EwiVs4uC7ZRL",
        "colab": {}
      },
      "cell_type": "code",
      "source": [
        "df.to_csv('data/azdias_new', index = False)"
      ],
      "execution_count": 0,
      "outputs": []
    },
    {
      "metadata": {
        "id": "YSvswnc8vFKW",
        "colab_type": "text"
      },
      "cell_type": "markdown",
      "source": [
        "#### Discussion 1.2.2: Engineer Mixed-Type Features\n",
        "\n",
        "The  mixed columns 'PRAEGENDE_JUGENDJAHRE'  has been separated into 2 new columns: \n",
        "- DECADE, \n",
        "- MOVEMENT,\n",
        "\n",
        "while  'CAMEO_INTL_2015' becomes another 2:\n",
        "- WEALTH, \n",
        "- LIFE_STAGE,\n",
        "\n",
        "and 'NEIGHBOUR_QLT' has been divided into:\n",
        "\n",
        "- 'RURAL',\n",
        "- 'NEIGHBOUR_QLT'.\n",
        "\n",
        "The original columns `PRAEGENDE_JUGENDJAHRE`, `CAMEO_INTL_2015`  and  `WOHNLAGE` have been removed from the dataset.\n",
        "\n",
        "\n",
        "The other 3 columns `LP_LEBENSPHASE_FEIN`, `LP_LEBENSPHASE_GROB` and `PLZ8_BAUMAX`\twere dropped as the information they provide has already been included in other features."
      ]
    },
    {
      "metadata": {
        "id": "XthNNYnAvFKZ",
        "colab_type": "text"
      },
      "cell_type": "markdown",
      "source": [
        "#### Step 1.2.3: Complete Feature Selection\n",
        "\n",
        "In order to finish this step up, you need to make sure that your data frame now only has the columns that you want to keep. To summarize, the dataframe should consist of the following:\n",
        "- All numeric, interval, and ordinal type columns from the original dataset.\n",
        "- Binary categorical features (all numerically-encoded).\n",
        "- Engineered features from other multi-level categorical features and mixed features.\n",
        "\n",
        "Make sure that for any new columns that you have engineered, that you've excluded the original columns from the final dataset. Otherwise, their values will interfere with the analysis later on the project. For example, you should not keep \"PRAEGENDE_JUGENDJAHRE\", since its values won't be useful for the algorithm: only the values derived from it in the engineered features you created should be retained. As a reminder, your data should only be from **the subset with few or no missing values**."
      ]
    },
    {
      "metadata": {
        "id": "Bm4hxdIuvFKh",
        "colab_type": "text"
      },
      "cell_type": "markdown",
      "source": [
        "### Step 1.3: Create a Cleaning Function\n",
        "\n",
        "Even though you've finished cleaning up the general population demographics data, it's important to look ahead to the future and realize that you'll need to perform the same cleaning steps on the customer demographics data. In this substep, complete the function below to execute the main **feature selection**, **encoding**, and **re-engineering** steps you performed above. Then, when it comes to looking at the customer data in Step 3, you can just run this function on that DataFrame to get the trimmed dataset in a single step."
      ]
    },
    {
      "metadata": {
        "id": "rsM_yYzjvFKh",
        "colab_type": "code",
        "colab": {}
      },
      "cell_type": "code",
      "source": [
        "def clean_data(df, feat_info):\n",
        "    \"\"\"\n",
        "    Perform feature trimming, re-encoding, and engineering for demographics\n",
        "    data\n",
        "    \n",
        "    INPUT: Demographics DataFrame\n",
        "    OUTPUT: Trimmed and cleaned demographics DataFrame\n",
        "    \"\"\"\n",
        " \n",
        "    # 1: Assess Missing Data\n",
        "  \n",
        "    # 1.1 Convert Missing Value Codes to NaNs\n",
        "    df = convert_missing_value(df, feat_info)\n",
        "    \n",
        "    # 1.2 Assess Missing Data in Each Column\n",
        "    df = drop_missing_col(df)\n",
        "    \n",
        "    # 1.3: Assess Missing Data in Each Row\n",
        "    df = drop_missing_row(df)\n",
        "\n",
        "    \n",
        "    # 2: Select and Re-Encode Features\n",
        "    cols = df.columns.tolist()\n",
        "    \n",
        "    # 2.1: Re-Encode Categorical Features\n",
        "    df = encode_cate_feat(df, cols)\n",
        "    \n",
        "    # 2.2: Engineer Mixed-Type Features\n",
        "    df = encode_mixed_feat(df, cols)\n",
        "    \n",
        "    # save\n",
        "    df.to_csv('data/customer_new.csv', index = False)\n",
        "\n",
        "    # Return the cleaned dataframe.\n",
        "    return df"
      ],
      "execution_count": 0,
      "outputs": []
    },
    {
      "metadata": {
        "id": "OjqWC_3tufyB",
        "colab_type": "code",
        "colab": {}
      },
      "cell_type": "code",
      "source": [
        "# 1.1.1 Convert Missing Value Codes to NaNs\n",
        "def convert_missing_value(df, feat_info):\n",
        "  \n",
        "  # turn missing_or_unknown to list \n",
        "  feat_info['missing_or_unknown'] = feat_info['missing_or_unknown'].apply(lambda x: x[1:-1].split(','))\n",
        "  \n",
        "  # Identify missing or unknown data values and convert them to NaNs.\n",
        "  for attrib, missing_values in zip(feat_info.index, feat_info['missing_or_unknown']):\n",
        "      if missing_values[0] != '':\n",
        "          for value in missing_values:\n",
        "              if value.isnumeric() or value.lstrip('-').isnumeric():\n",
        "                  value = int(value)\n",
        "              df.loc[df[attrib] == value, attrib] = np.nan\n",
        "  \n",
        "  return df"
      ],
      "execution_count": 0,
      "outputs": []
    },
    {
      "metadata": {
        "id": "VQLs5V4HugA_",
        "colab_type": "code",
        "colab": {}
      },
      "cell_type": "code",
      "source": [
        "# 1.1.2 Assess Missing Data in Each Column\n",
        "\n",
        "def drop_missing_col(df):\n",
        "\n",
        "  missing_20 = ['ALTER_HH', 'GEBURTSJAHR', 'KBA05_BAUMAX', 'KK_KUNDENTYP', 'AGER_TYP', 'TITEL_KZ']\n",
        "  \n",
        "  # Drop columns that have been removed from genenral population data \n",
        "  # which contain 20% missing values\n",
        "  \n",
        "  for col in missing_20:\n",
        "    df.drop(col, axis = 1, inplace = True)\n",
        "  \n",
        "  return df"
      ],
      "execution_count": 0,
      "outputs": []
    },
    {
      "metadata": {
        "id": "XswdIGfxugL1",
        "colab_type": "code",
        "colab": {}
      },
      "cell_type": "code",
      "source": [
        "# 1.1.3: Assess Missing Data in Each Row\n",
        "\n",
        "def drop_missing_row(df):\n",
        "  \n",
        "  # Calculate the number of missing values of each row\n",
        "  missing_r = df.isnull().sum(axis=1)\n",
        "  \n",
        "  # Drop rows that contain more than 5 missing values\n",
        "  df_new = df[missing_r <= 5]\n",
        "  \n",
        "  return df_new"
      ],
      "execution_count": 0,
      "outputs": []
    },
    {
      "metadata": {
        "id": "kToafu1Suvhe",
        "colab_type": "code",
        "colab": {}
      },
      "cell_type": "code",
      "source": [
        "#1.2.1: Re-Encode Categorical Features\n",
        "\n",
        "def encode_cate_feat(df, cols):\n",
        "  \n",
        "  #1 re-encode 2-level feature\n",
        "  if 'OST_WEST_KZ' in cols:\n",
        "    df['OST_WEST_KZ'] = df['OST_WEST_KZ'].map({'O': 0, 'W': 1})\n",
        "    \n",
        "  #2 simplify\n",
        "  df['GEBAEUDETYP'] = df['GEBAEUDETYP'].map({1:1,2:1,3:2,4:2,5:3,6:2,7:3,8:2})\n",
        "    \n",
        "  #3 re-encode multi-level features\n",
        "  dummies = ['LP_FAMILIE_GROB', 'LP_STATUS_GROB', 'CJT_GESAMTTYP', \n",
        "             'CAMEO_DEUG_2015', 'NATIONALITAET_KZ','SHOPPER_TYP',\n",
        "             'FINANZTYP', 'GEBAEUDETYP']\n",
        "  for dummy in dummies:\n",
        "    if dummy in cols:\n",
        "      df = pd.get_dummies(data = df, columns=[dummy])\n",
        "  \n",
        "  #4 drop features\n",
        "  drop_fs = ['ZABEOTYP', 'LP_STATUS_FEIN', 'GFK_URLAUBERTYP', 'LP_FAMILIE_FEIN', 'CAMEO_DEU_2015' ]\n",
        "  for drop_f in drop_fs:\n",
        "    if drop_f in cols:\n",
        "      df.drop(drop_f, axis = 1,  inplace = True)\n",
        "      \n",
        "  return df"
      ],
      "execution_count": 0,
      "outputs": []
    },
    {
      "metadata": {
        "id": "hYbRQ50-uvlB",
        "colab_type": "code",
        "colab": {}
      },
      "cell_type": "code",
      "source": [
        "# 1.2.2: Engineer Mixed-Type Features\n",
        "\n",
        "def encode_mixed_feat(df, cols):\n",
        "  \n",
        "  #Column 1\n",
        "  if 'PRAEGENDE_JUGENDJAHRE' in cols:\n",
        "    #1 decade\n",
        "    df['DECADE'] = df['PRAEGENDE_JUGENDJAHRE'].map({1:1,2:1,3:2,4:2,5:3,6:3,7:3,8:4,9:4,10:5,11:5,12:5,13:5,14:6,15:6})\n",
        "    \n",
        "    #2 movement\n",
        "    movement = []\n",
        "\n",
        "    for x in df['PRAEGENDE_JUGENDJAHRE']:\n",
        "      if x in [1,3,5,8,10,12,14]:\n",
        "        movement.append(0)\n",
        "      elif x in [2,4,6,7,9,11,13,15]:\n",
        "        movement.append(1)\n",
        "      else:\n",
        "        movement.append(np.nan)\n",
        "\n",
        "    df['MOVEMENT'] = movement\n",
        "    \n",
        "    # drop original column\n",
        "    df.drop(columns = ['PRAEGENDE_JUGENDJAHRE'], inplace = True)\n",
        "    \n",
        "  \n",
        "  #Column2\n",
        "  if 'CAMEO_INTL_2015' in cols:\n",
        "\n",
        "    wealth, life_stage = [], []\n",
        "\n",
        "    #1 wealth\n",
        "    for x in df['CAMEO_INTL_2015']:\n",
        "      \n",
        "      x = float(x)\n",
        "      \n",
        "      if 10 < x < 16:\n",
        "        wealth.append(5)\n",
        "      elif 20 < x < 26:\n",
        "        wealth.append(4)\n",
        "      elif 30 < x < 36:\n",
        "        wealth.append(3)\n",
        "      elif 40 < x < 46:\n",
        "        wealth.append(2)\n",
        "      elif 50 < x < 56:\n",
        "        wealth.append(1)\n",
        "      else:\n",
        "        wealth.append(np.nan)\n",
        "\n",
        "    df[\"WEALTH\"] = wealth\n",
        "    \n",
        "    #2 life stage\n",
        "    for x in df['CAMEO_INTL_2015']:\n",
        "      \n",
        "      x = float(x)\n",
        "      \n",
        "      if x % 10 == 1:\n",
        "        life_stage.append(1)\n",
        "      elif x % 10 == 2:\n",
        "        life_stage.append(2)\n",
        "      elif x % 10 == 3:\n",
        "        life_stage.append(3)\n",
        "      elif x % 10 == 4:\n",
        "        life_stage.append(4)\n",
        "      elif x % 10 == 5:\n",
        "        life_stage.append(5)\n",
        "      else:\n",
        "        life_stage.append(np.nan)\n",
        "\n",
        "    df['LIFE_STAGE'] = life_stage\n",
        "    \n",
        "    #drop\n",
        "    df.drop(columns = ['CAMEO_INTL_2015'], inplace = True)\n",
        "    \n",
        "  #Column3\n",
        "  if 'WOHNLAGE' in cols:\n",
        "    df['RURAL'] = df['WOHNLAGE'].map({0:0,1:0,2:0,3:0,4:0,5:0,7:1,8:1})\n",
        "    df['NEIGHBOUR_QLT'] = df['WOHNLAGE'].map({0:0,1:1,2:2,3:3,4:4,5:5,7:0,8:0})\n",
        "    df.drop('NEIGHBOUR_QLT', axis = 1, inplace = True)\n",
        "    \n",
        "  #Drop Column 456\n",
        "  drop_fs = ['LP_LEBENSPHASE_FEIN', 'LP_LEBENSPHASE_GROB', 'PLZ8_BAUMAX'] \n",
        "  for drop_f in drop_fs:\n",
        "    if drop_f in cols:\n",
        "      df.drop(drop_f, axis = 1, inplace = True )\n",
        "      \n",
        "  return df"
      ],
      "execution_count": 0,
      "outputs": []
    },
    {
      "metadata": {
        "id": "subkCDoskEZA",
        "colab_type": "code",
        "colab": {}
      },
      "cell_type": "code",
      "source": [
        "def load_feature_info(path):\n",
        "  # Load in the feature summary file.\n",
        "  feat_info = pd.read_csv(path, sep = ';')\n",
        "  feat_info.set_index('attribute', inplace=True)\n",
        "  \n",
        "  return feat_info"
      ],
      "execution_count": 0,
      "outputs": []
    },
    {
      "metadata": {
        "id": "CkWE97sEkHDo",
        "colab_type": "code",
        "colab": {}
      },
      "cell_type": "code",
      "source": [
        "feat_info = load_feature_info('data/AZDIAS_Feature_Summary.csv')\n",
        "df = pd.read_csv('data/Udacity_CUSTOMERS_Subset.csv', sep = ';')\n"
      ],
      "execution_count": 0,
      "outputs": []
    },
    {
      "metadata": {
        "id": "k6-weY8jDYGT",
        "colab_type": "code",
        "colab": {}
      },
      "cell_type": "code",
      "source": [
        "clean_data(df, feat_info)"
      ],
      "execution_count": 0,
      "outputs": []
    },
    {
      "metadata": {
        "id": "euQ6GPvn8wru",
        "colab_type": "code",
        "colab": {}
      },
      "cell_type": "code",
      "source": [
        "feat_info['missing_or_unknown'] = feat_info['missing_or_unknown'].apply(lambda x: x[1:-1].split(','))"
      ],
      "execution_count": 0,
      "outputs": []
    },
    {
      "metadata": {
        "id": "nCIjStHVvFKk",
        "colab_type": "text"
      },
      "cell_type": "markdown",
      "source": [
        "## Step 2: Feature Transformation\n"
      ]
    },
    {
      "metadata": {
        "id": "72zFLNV69P7g",
        "colab_type": "text"
      },
      "cell_type": "markdown",
      "source": [
        "### Step 2.1: Apply Feature Scaling\n",
        "\n",
        "Before we apply dimensionality reduction techniques to the data, we need to perform feature scaling so that the principal component vectors are not influenced by the natural differences in scale for features. Starting from this part of the project, you'll want to keep an eye on the [API reference page for sklearn](http://scikit-learn.org/stable/modules/classes.html) to help you navigate to all of the classes and functions that you'll need. In this substep, you'll need to check the following:\n",
        "\n",
        "- sklearn requires that data **not have missing values** in order for its estimators to work properly. So, before applying the scaler to your data, make sure that you've cleaned the DataFrame of the remaining missing values. This can be as simple as just removing all data points with missing data, or applying an [Imputer](http://scikit-learn.org/stable/modules/generated/sklearn.preprocessing.Imputer.html) to replace all missing values. You might also try a more complicated procedure where you temporarily remove missing values in order to compute the scaling parameters before re-introducing those missing values and applying imputation. Think about how much missing data you have and what possible effects each approach might have on your analysis, and justify your decision in the discussion section below.\n",
        "- For the actual scaling function, a [StandardScaler](http://scikit-learn.org/stable/modules/generated/sklearn.preprocessing.StandardScaler.html) instance is suggested, scaling each feature to mean 0 and standard deviation 1.\n",
        "- For these classes, you can make use of the `.fit_transform()` method to both fit a procedure to the data as well as apply the transformation to the data at the same time. Don't forget to keep the fit sklearn objects handy, since you'll be applying them to the customer demographics data towards the end of the project."
      ]
    },
    {
      "metadata": {
        "id": "BNQ909lk8uWY",
        "colab_type": "code",
        "colab": {}
      },
      "cell_type": "code",
      "source": [
        "df = pd.read_csv('data/azdias_new.csv')\n",
        "\n",
        "cols = df.columns.tolist()"
      ],
      "execution_count": 0,
      "outputs": []
    },
    {
      "metadata": {
        "id": "vMtb2OWOAz1M",
        "colab_type": "code",
        "colab": {}
      },
      "cell_type": "code",
      "source": [
        "# Impute Nan by mode\n",
        "imputer = Imputer(strategy = 'most_frequent', axis = 0) # axis=0 impute along columns.\n",
        "data = imputer.fit_transform(df)\n",
        "\n",
        "# Apply feature scaling to the general population demographics data.\n",
        "scaler = StandardScaler()\n",
        "data = scaler.fit_transform(data)\n",
        "\n",
        "# Convert data to df\n",
        "df = pd.DataFrame(data, columns = cols)"
      ],
      "execution_count": 0,
      "outputs": []
    },
    {
      "metadata": {
        "id": "bB6AA07Emn_M",
        "colab_type": "code",
        "colab": {}
      },
      "cell_type": "code",
      "source": [
        "# exactly same as the code cell above - used for customer data later\n",
        "def transform_data(df, cols):\n",
        "  # Impute Nan by mode\n",
        "  imputer = Imputer(strategy = 'most_frequent', axis = 0) # axis=0 impute along columns.\n",
        "  data = imputer.fit_transform(df)\n",
        "  \n",
        "  # Apply feature scaling to the general population demographics data.\n",
        "  scaler = StandardScaler()\n",
        "  data = scaler.fit_transform(data)\n",
        "  \n",
        "  # Convert data to df\n",
        "  df = pd.DataFrame(data, columns = cols)\n",
        "  \n",
        "  return df"
      ],
      "execution_count": 0,
      "outputs": []
    },
    {
      "metadata": {
        "colab_type": "code",
        "id": "3gl7cu2elGxL",
        "colab": {}
      },
      "cell_type": "code",
      "source": [
        "#df.to_csv('data/azdias_new3.csv', index = False)"
      ],
      "execution_count": 0,
      "outputs": []
    },
    {
      "metadata": {
        "id": "1aSkdeJQvFKp",
        "colab_type": "text"
      },
      "cell_type": "markdown",
      "source": [
        "### Discussion 2.1: Apply Feature Scaling\n",
        "\n",
        "As the majority of the features are categorical or ordinal, I chose mode instead of mean or median as imputing method.\n",
        "\n",
        "StandardScale has been used for normalising."
      ]
    },
    {
      "metadata": {
        "id": "EQ1EVk-AvFKq",
        "colab_type": "text"
      },
      "cell_type": "markdown",
      "source": [
        "### Step 2.2: Perform Dimensionality Reduction\n",
        "\n",
        "On your scaled data, you are now ready to apply dimensionality reduction techniques.\n",
        "\n",
        "- Use sklearn's [PCA](http://scikit-learn.org/stable/modules/generated/sklearn.decomposition.PCA.html) class to apply principal component analysis on the data, thus finding the vectors of maximal variance in the data. To start, you should not set any parameters (so all components are computed) or set a number of components that is at least half the number of features (so there's enough features to see the general trend in variability).\n",
        "- Check out the ratio of variance explained by each principal component as well as the cumulative variance explained. Try plotting the cumulative or sequential values using matplotlib's [`plot()`](https://matplotlib.org/api/_as_gen/matplotlib.pyplot.plot.html) function. Based on what you find, select a value for the number of transformed features you'll retain for the clustering part of the project.\n",
        "- Once you've made a choice for the number of components to keep, make sure you re-fit a PCA instance to perform the decided-on transformation."
      ]
    },
    {
      "metadata": {
        "id": "9V5hsE4vvFKr",
        "colab_type": "code",
        "colab": {}
      },
      "cell_type": "code",
      "source": [
        "# define PCA function\n",
        "def do_pca(n_components, data):\n",
        "    '''\n",
        "    Transforms data using PCA to create n_components, \n",
        "    and provides back the results of the transformation.\n",
        "\n",
        "    INPUT: n_components - int - the number of principal components to create\n",
        "           data - the data you would like to transform\n",
        "\n",
        "    OUTPUT: pca - the pca object created after fitting the data\n",
        "            X_pca - the transformed X matrix with new number of components\n",
        "    '''\n",
        "    #X = StandardScaler().fit_transform(data)\n",
        "    \n",
        "    pca = PCA(n_components)\n",
        "    X_pca = pca.fit_transform(data)\n",
        "    return pca, X_pca\n",
        "\n",
        "# This code cell is retrived from Udacity classroom"
      ],
      "execution_count": 0,
      "outputs": []
    },
    {
      "metadata": {
        "id": "ArYIT8HEvFKu",
        "colab_type": "code",
        "colab": {}
      },
      "cell_type": "code",
      "source": [
        "# plot 1\n",
        "\n",
        "# Investigate the variance accounted for by each principal component.\n",
        "def scree_plot(pca):\n",
        "    '''\n",
        "    Creates a scree plot associated with the principal components \n",
        "    \n",
        "    INPUT: pca - the result of instantian of PCA in scikit learn\n",
        "            \n",
        "    OUTPUT:\n",
        "            None\n",
        "    '''\n",
        "    num_components=len(pca.explained_variance_ratio_)\n",
        "    ind = np.arange(num_components)\n",
        "    vals = pca.explained_variance_ratio_\n",
        " \n",
        "    plt.figure(figsize=(10, 6))\n",
        "    ax = plt.subplot(111)\n",
        "    cumvals = np.cumsum(vals)\n",
        "    ax.bar(ind, vals)\n",
        "    ax.plot(ind, cumvals)\n",
        "    #for i in range(num_components):\n",
        "    #    ax.annotate(r\"%s%%\" % ((str(vals[i]*100)[:4])), (ind[i]+0.2, vals[i]), va=\"bottom\", ha=\"center\", fontsize=12)\n",
        " \n",
        "    ax.xaxis.set_tick_params(width=0)\n",
        "    ax.yaxis.set_tick_params(width=2, length=12)\n",
        " \n",
        "    ax.set_xlabel(\"Principal Component\")\n",
        "    ax.set_ylabel(\"Variance Explained (%)\")\n",
        "    plt.title('Explained Variance Per Principal Component')\n",
        "\n",
        "    \n",
        "# This code cell is retrived from Udacity classroom"
      ],
      "execution_count": 0,
      "outputs": []
    },
    {
      "metadata": {
        "id": "iK1iG0ZtZ9B9",
        "colab_type": "code",
        "colab": {}
      },
      "cell_type": "code",
      "source": [
        "# plot 2\n",
        "\n",
        "# draw percentage of variance captured by each principal component\n",
        "def plot_single_p(pca):\n",
        "  \n",
        "  # calculate percentage\n",
        "  p_pca = pca.explained_variance_ratio_.tolist()\n",
        "  \n",
        "  # to df\n",
        "  p_pca = pd.DataFrame(p_pca, columns = ['Percentage'])\n",
        "  \n",
        "  # draw\n",
        "  fig, ax = plt.subplots(figsize = (16, 8))\n",
        "  sns.set(style=\"whitegrid\")\n",
        "  sns.barplot(x=p_pca.index, y=\"Percentage\", data=p_pca, ax=ax)"
      ],
      "execution_count": 0,
      "outputs": []
    },
    {
      "metadata": {
        "id": "GifTjrctTJBj",
        "colab_type": "code",
        "colab": {}
      },
      "cell_type": "code",
      "source": [
        "# Calculate cumulative percentage of variance captured by number of principal components\n",
        "def calculate_cumulative_p(pca):\n",
        "  \n",
        "  # calculate percentage of variance captured by each principal component\n",
        "  p = pca.explained_variance_ratio_.tolist()\n",
        "  \n",
        "  p_list = []\n",
        "\n",
        "  for i in range(1, len(p)+1):\n",
        "    p_sum = np.sum(p[:i])\n",
        "\n",
        "    p_list.append(p_sum)\n",
        "\n",
        "  return(p_list)"
      ],
      "execution_count": 0,
      "outputs": []
    },
    {
      "metadata": {
        "id": "aIkoffX3c0Jn",
        "colab_type": "code",
        "colab": {}
      },
      "cell_type": "code",
      "source": [
        "# plot 3\n",
        "\n",
        "# draw cumulative percentage of variance\n",
        "def plot_cumulative_p(pca):\n",
        "  \n",
        "  #calculate\n",
        "  p_list = calculate_cumulative_p(pca)\n",
        "  \n",
        "  # print\n",
        "  p = round(p_list[-1], 2) * 100\n",
        "  print(f\"The largest cumulative percentage is {p}% in this case.\")\n",
        "  \n",
        "  # to df\n",
        "  p_list = pd.DataFrame(p_list, columns = ['Cumulative Percentage'])\n",
        "\n",
        "  # draw\n",
        "  fig, ax = plt.subplots(figsize = (16, 8))\n",
        "  sns.set(style=\"whitegrid\")\n",
        "  sns.barplot(x = p_list.index, \n",
        "              y = \"Cumulative Percentage\", \n",
        "              data = p_list, \n",
        "              ax = ax)\n",
        "  \n"
      ],
      "execution_count": 0,
      "outputs": []
    },
    {
      "metadata": {
        "id": "-qmxgstW7Bap",
        "colab_type": "code",
        "colab": {}
      },
      "cell_type": "code",
      "source": [
        "# Apply PCA to the data.\n",
        "pca, X_pca = do_pca(df.shape[1], df)"
      ],
      "execution_count": 0,
      "outputs": []
    },
    {
      "metadata": {
        "id": "OrXlCQ6y7Blv",
        "colab_type": "code",
        "outputId": "438d65d0-d6d0-49ae-fb2f-42a2c9b0708f",
        "colab": {
          "base_uri": "https://localhost:8080/",
          "height": 403
        }
      },
      "cell_type": "code",
      "source": [
        "scree_plot(pca)"
      ],
      "execution_count": 0,
      "outputs": [
        {
          "output_type": "display_data",
          "data": {
            "image/png": "[encoded data removed]",
            "text/plain": [
              "<Figure size 720x432 with 1 Axes>"
            ]
          },
          "metadata": {
            "tags": []
          }
        }
      ]
    },
    {
      "metadata": {
        "id": "SHbP7CyK7kvB",
        "colab_type": "code",
        "outputId": "94b1b548-160d-4a73-93a8-2c2fc7bcdada",
        "colab": {
          "base_uri": "https://localhost:8080/",
          "height": 517
        }
      },
      "cell_type": "code",
      "source": [
        "plot_single_p(pca)"
      ],
      "execution_count": 0,
      "outputs": [
        {
          "output_type": "stream",
          "text": [
            "/usr/local/lib/python3.6/dist-packages/seaborn/categorical.py:1428: FutureWarning: remove_na is deprecated and is a private function. Do not use.\n",
            "  stat_data = remove_na(group_data)\n"
          ],
          "name": "stderr"
        },
        {
          "output_type": "display_data",
          "data": {
            "image/png": "[encoded data removed]",
            "text/plain": [
              "<Figure size 1152x576 with 1 Axes>"
            ]
          },
          "metadata": {
            "tags": []
          }
        }
      ]
    },
    {
      "metadata": {
        "id": "RS2UzvAMdX2r",
        "colab_type": "code",
        "outputId": "3205d377-e5cd-43b7-c0ad-ddf237ac7299",
        "colab": {
          "base_uri": "https://localhost:8080/",
          "height": 534
        }
      },
      "cell_type": "code",
      "source": [
        "plot_cumulative_p(pca)"
      ],
      "execution_count": 0,
      "outputs": [
        {
          "output_type": "stream",
          "text": [
            "The largest cumulative percentage is 100.0% in this case.\n"
          ],
          "name": "stdout"
        },
        {
          "output_type": "stream",
          "text": [
            "/usr/local/lib/python3.6/dist-packages/seaborn/categorical.py:1428: FutureWarning: remove_na is deprecated and is a private function. Do not use.\n",
            "  stat_data = remove_na(group_data)\n"
          ],
          "name": "stderr"
        },
        {
          "output_type": "display_data",
          "data": {
            "image/png": "[encoded data removed]",
            "text/plain": [
              "<Figure size 1152x576 with 1 Axes>"
            ]
          },
          "metadata": {
            "tags": []
          }
        }
      ]
    },
    {
      "metadata": {
        "id": "N9rDI37qvFKx",
        "colab_type": "code",
        "colab": {}
      },
      "cell_type": "code",
      "source": [
        "# Re-apply PCA to the data while selecting for number of components to retain.\n",
        "pca, X_pca = do_pca(31, df)"
      ],
      "execution_count": 0,
      "outputs": []
    },
    {
      "metadata": {
        "id": "VjjtgQtiiG04",
        "colab_type": "code",
        "colab": {}
      },
      "cell_type": "code",
      "source": [
        "X_pca = pd.DataFrame(X_pca) #(695553, 31)\n",
        "#X_pca.to_csv('data/x_pca.csv', index = False)"
      ],
      "execution_count": 0,
      "outputs": []
    },
    {
      "metadata": {
        "id": "wHinjU4FeA2q",
        "colab_type": "code",
        "outputId": "de9283f0-0274-446f-d180-dcf0af2ebdda",
        "colab": {
          "base_uri": "https://localhost:8080/",
          "height": 517
        }
      },
      "cell_type": "code",
      "source": [
        "plot_single_p(pca)"
      ],
      "execution_count": 0,
      "outputs": [
        {
          "output_type": "stream",
          "text": [
            "/usr/local/lib/python3.6/dist-packages/seaborn/categorical.py:1428: FutureWarning: remove_na is deprecated and is a private function. Do not use.\n",
            "  stat_data = remove_na(group_data)\n"
          ],
          "name": "stderr"
        },
        {
          "output_type": "display_data",
          "data": {
            "image/png": "[encoded data removed]",
            "text/plain": [
              "<Figure size 1152x576 with 1 Axes>"
            ]
          },
          "metadata": {
            "tags": []
          }
        }
      ]
    },
    {
      "metadata": {
        "id": "N2gTsZKmeDf-",
        "colab_type": "code",
        "outputId": "ccf31a31-ebe2-40a1-8ac5-429b83671369",
        "colab": {
          "base_uri": "https://localhost:8080/",
          "height": 534
        }
      },
      "cell_type": "code",
      "source": [
        "plot_cumulative_p(pca)"
      ],
      "execution_count": 0,
      "outputs": [
        {
          "output_type": "stream",
          "text": [
            "The largest cumulative percentage is 80.0% in this case.\n"
          ],
          "name": "stdout"
        },
        {
          "output_type": "stream",
          "text": [
            "/usr/local/lib/python3.6/dist-packages/seaborn/categorical.py:1428: FutureWarning: remove_na is deprecated and is a private function. Do not use.\n",
            "  stat_data = remove_na(group_data)\n"
          ],
          "name": "stderr"
        },
        {
          "output_type": "display_data",
          "data": {
            "image/png": "[encoded data removed]",
            "text/plain": [
              "<Figure size 1152x576 with 1 Axes>"
            ]
          },
          "metadata": {
            "tags": []
          }
        }
      ]
    },
    {
      "metadata": {
        "id": "pWeuVSPrvFK2",
        "colab_type": "text"
      },
      "cell_type": "markdown",
      "source": [
        "### Discussion 2.2: Perform Dimensionality Reduction\n",
        "\n",
        "How many principal components / transformed features are you retaining for the next step of the analysis?\n",
        "\n",
        "- I kept 31 principal components for furture analysis. The cumulative percentage variance contributed by them reaches 80.0%."
      ]
    },
    {
      "metadata": {
        "id": "2T2O6gVQvFK3",
        "colab_type": "text"
      },
      "cell_type": "markdown",
      "source": [
        "### Step 2.3: Interpret Principal Components\n",
        "\n",
        "Now that we have our transformed principal components, it's a nice idea to check out the **weight** of each variable on the first few components to see if they can be interpreted in some fashion.\n",
        "\n",
        "As a reminder, each principal component is **a unit vector** that points in the direction of highest **variance** (after accounting for the variance captured by earlier principal components). The further a weight is from zero, the more the principal component is in the direction of the corresponding feature. If two features have large weights of the **same sign** (both positive or both negative), then increases in one tend expect to be associated with increases in the other. To contrast, features with **different signs** can be expected to show **a negative correlation**: increases in one variable should result in a decrease in the other.\n",
        "\n",
        "- To investigate the features, you should map each **weight** to their corresponding feature name, then **sort** the features according to weight. The most interesting features for each principal component, then, will be those at the beginning and end of the sorted list. Use the data dictionary document to help you understand these most prominent features, their relationships, and what a **positive or negative** value on the principal component might indicate.\n",
        "- You should investigate and interpret **feature associations** from the** first three principal components** in this substep. To help facilitate this, you should write a **function** that you can call at any time to print the** sorted list of feature weights**, for the *i*-th principal component. This might come in handy in the next step of the project, when you interpret the tendencies of the discovered clusters."
      ]
    },
    {
      "metadata": {
        "id": "9sILeQrb8MZY",
        "colab_type": "code",
        "colab": {}
      },
      "cell_type": "code",
      "source": [
        "# Map weights for principal components to corresponding feature names\n",
        "\n",
        "def create_weight_df(pca, cols):\n",
        "  '''\n",
        "  To build a dataframe containing weights & variance of pca\n",
        "  \n",
        "  cols - column names of df (general population)\n",
        "  '''\n",
        "\n",
        "  weights = pca.components_.tolist()\n",
        "  variance = pca.explained_variance_ratio_.tolist()\n",
        "\n",
        "  df = pd.DataFrame(weights, columns = cols)\n",
        "  df['variance'] = variance\n",
        "\n",
        "  return df"
      ],
      "execution_count": 0,
      "outputs": []
    },
    {
      "metadata": {
        "id": "Cr6Xa7D9-WC2",
        "colab_type": "code",
        "outputId": "a95b61be-df2c-4077-b9a3-477e3f4665af",
        "colab": {
          "base_uri": "https://localhost:8080/",
          "height": 185
        }
      },
      "cell_type": "code",
      "source": [
        "weight_df = create_weight_df(pca, cols)\n",
        "weight_df.head(3)"
      ],
      "execution_count": 0,
      "outputs": [
        {
          "output_type": "execute_result",
          "data": {
            "text/html": [
              "<div>\n",
              "<style scoped>\n",
              "    .dataframe tbody tr th:only-of-type {\n",
              "        vertical-align: middle;\n",
              "    }\n",
              "\n",
              "    .dataframe tbody tr th {\n",
              "        vertical-align: top;\n",
              "    }\n",
              "\n",
              "    .dataframe thead th {\n",
              "        text-align: right;\n",
              "    }\n",
              "</style>\n",
              "<table border=\"1\" class=\"dataframe\">\n",
              "  <thead>\n",
              "    <tr style=\"text-align: right;\">\n",
              "      <th></th>\n",
              "      <th>ALTERSKATEGORIE_GROB</th>\n",
              "      <th>FINANZ_MINIMALIST</th>\n",
              "      <th>FINANZ_VORSORGER</th>\n",
              "      <th>FINANZ_HAUSBAUER</th>\n",
              "      <th>GREEN_AVANTGARDE</th>\n",
              "      <th>LP_STATUS_FEIN</th>\n",
              "      <th>RETOURTYP_BK_S</th>\n",
              "      <th>SEMIO_SOZ</th>\n",
              "      <th>SEMIO_FAM</th>\n",
              "      <th>SEMIO_REL</th>\n",
              "      <th>...</th>\n",
              "      <th>CAMEO_DEUG_2015_6.0</th>\n",
              "      <th>CAMEO_DEUG_2015_7.0</th>\n",
              "      <th>CAMEO_DEUG_2015_8.0</th>\n",
              "      <th>CAMEO_DEUG_2015_9.0</th>\n",
              "      <th>DECADE</th>\n",
              "      <th>MOVEMENT</th>\n",
              "      <th>WEALTH</th>\n",
              "      <th>LIFE_STAGE</th>\n",
              "      <th>RURAL</th>\n",
              "      <th>variance</th>\n",
              "    </tr>\n",
              "  </thead>\n",
              "  <tbody>\n",
              "    <tr>\n",
              "      <th>0</th>\n",
              "      <td>-0.108053</td>\n",
              "      <td>-0.233493</td>\n",
              "      <td>-0.079578</td>\n",
              "      <td>0.056970</td>\n",
              "      <td>-0.145883</td>\n",
              "      <td>-0.277261</td>\n",
              "      <td>-0.012007</td>\n",
              "      <td>0.051383</td>\n",
              "      <td>0.083914</td>\n",
              "      <td>0.131543</td>\n",
              "      <td>...</td>\n",
              "      <td>-0.000785</td>\n",
              "      <td>0.044812</td>\n",
              "      <td>0.119849</td>\n",
              "      <td>0.150317</td>\n",
              "      <td>0.114876</td>\n",
              "      <td>-0.145883</td>\n",
              "      <td>-0.244413</td>\n",
              "      <td>-0.150560</td>\n",
              "      <td>-0.151767</td>\n",
              "      <td>0.121914</td>\n",
              "    </tr>\n",
              "    <tr>\n",
              "      <th>1</th>\n",
              "      <td>0.263793</td>\n",
              "      <td>-0.005901</td>\n",
              "      <td>0.169820</td>\n",
              "      <td>0.049222</td>\n",
              "      <td>-0.022695</td>\n",
              "      <td>-0.059807</td>\n",
              "      <td>0.180815</td>\n",
              "      <td>-0.145569</td>\n",
              "      <td>-0.243574</td>\n",
              "      <td>-0.283959</td>\n",
              "      <td>...</td>\n",
              "      <td>0.015062</td>\n",
              "      <td>0.015380</td>\n",
              "      <td>0.052894</td>\n",
              "      <td>0.029743</td>\n",
              "      <td>-0.236819</td>\n",
              "      <td>-0.022695</td>\n",
              "      <td>-0.083908</td>\n",
              "      <td>-0.006533</td>\n",
              "      <td>-0.070428</td>\n",
              "      <td>0.083040</td>\n",
              "    </tr>\n",
              "    <tr>\n",
              "      <th>2</th>\n",
              "      <td>-0.140536</td>\n",
              "      <td>-0.116268</td>\n",
              "      <td>-0.105729</td>\n",
              "      <td>0.053033</td>\n",
              "      <td>-0.021944</td>\n",
              "      <td>-0.010241</td>\n",
              "      <td>-0.146116</td>\n",
              "      <td>-0.290000</td>\n",
              "      <td>-0.262504</td>\n",
              "      <td>0.023882</td>\n",
              "      <td>...</td>\n",
              "      <td>-0.002169</td>\n",
              "      <td>-0.007056</td>\n",
              "      <td>-0.029619</td>\n",
              "      <td>-0.041575</td>\n",
              "      <td>0.140897</td>\n",
              "      <td>-0.021944</td>\n",
              "      <td>0.061318</td>\n",
              "      <td>0.029572</td>\n",
              "      <td>0.023858</td>\n",
              "      <td>0.064992</td>\n",
              "    </tr>\n",
              "  </tbody>\n",
              "</table>\n",
              "<p>3 rows × 72 columns</p>\n",
              "</div>"
            ],
            "text/plain": [
              "   ALTERSKATEGORIE_GROB  FINANZ_MINIMALIST  FINANZ_VORSORGER  \\\n",
              "0             -0.108053          -0.233493         -0.079578   \n",
              "1              0.263793          -0.005901          0.169820   \n",
              "2             -0.140536          -0.116268         -0.105729   \n",
              "\n",
              "   FINANZ_HAUSBAUER  GREEN_AVANTGARDE  LP_STATUS_FEIN  RETOURTYP_BK_S  \\\n",
              "0          0.056970         -0.145883       -0.277261       -0.012007   \n",
              "1          0.049222         -0.022695       -0.059807        0.180815   \n",
              "2          0.053033         -0.021944       -0.010241       -0.146116   \n",
              "\n",
              "   SEMIO_SOZ  SEMIO_FAM  SEMIO_REL    ...     CAMEO_DEUG_2015_6.0  \\\n",
              "0   0.051383   0.083914   0.131543    ...               -0.000785   \n",
              "1  -0.145569  -0.243574  -0.283959    ...                0.015062   \n",
              "2  -0.290000  -0.262504   0.023882    ...               -0.002169   \n",
              "\n",
              "   CAMEO_DEUG_2015_7.0  CAMEO_DEUG_2015_8.0  CAMEO_DEUG_2015_9.0    DECADE  \\\n",
              "0             0.044812             0.119849             0.150317  0.114876   \n",
              "1             0.015380             0.052894             0.029743 -0.236819   \n",
              "2            -0.007056            -0.029619            -0.041575  0.140897   \n",
              "\n",
              "   MOVEMENT    WEALTH  LIFE_STAGE     RURAL  variance  \n",
              "0 -0.145883 -0.244413   -0.150560 -0.151767  0.121914  \n",
              "1 -0.022695 -0.083908   -0.006533 -0.070428  0.083040  \n",
              "2 -0.021944  0.061318    0.029572  0.023858  0.064992  \n",
              "\n",
              "[3 rows x 72 columns]"
            ]
          },
          "metadata": {
            "tags": []
          },
          "execution_count": 27
        }
      ]
    },
    {
      "metadata": {
        "id": "IBvIiBWODcIq",
        "colab_type": "code",
        "colab": {}
      },
      "cell_type": "code",
      "source": [
        "def show_weight_pca(df, i, n):\n",
        "  '''\n",
        "  To print sorted list of feature weights \n",
        "  of a principle component.\n",
        "  \n",
        "  df - weight dataframe\n",
        "  \n",
        "  i - the [i] th principle component\n",
        "  \n",
        "  n - number of features\n",
        "  \n",
        "  '''\n",
        "  negative = df.loc[i-1].sort_values()[:n]\n",
        "  positive = df.loc[i-1].sort_values(ascending = False)[:n]\n",
        "  \n",
        "  variance = round(df.loc[i-1]['variance'], 4)\n",
        "  \n",
        "  print('-' * 32)\n",
        "  print(f'Principal Component {i}')\n",
        "  print('-' * 32)\n",
        "  print(positive)\n",
        "  print('-' * 32)\n",
        "  print(negative)\n",
        "  print('-' * 32)\n",
        "  print(f'Variance = {variance}')\n",
        "  print('\\n')\n",
        "  "
      ],
      "execution_count": 0,
      "outputs": []
    },
    {
      "metadata": {
        "id": "N7E6xTZnE-Ly",
        "colab_type": "code",
        "outputId": "bbdde1a5-c901-4089-e73a-3ddd2e8594be",
        "colab": {
          "base_uri": "https://localhost:8080/",
          "height": 1025
        }
      },
      "cell_type": "code",
      "source": [
        "# print feature weights of the first 3 principal components\n",
        "\n",
        "for i in range(1, 4):\n",
        "  show_weight_pca(weight_df, i, 5)"
      ],
      "execution_count": 0,
      "outputs": [
        {
          "output_type": "stream",
          "text": [
            "--------------------------------\n",
            "Principal Component 1\n",
            "--------------------------------\n",
            "LP_STATUS_GROB_1.0    0.261493\n",
            "ORTSGR_KLS9           0.204096\n",
            "HH_EINKOMMEN_SCORE    0.201359\n",
            "EWDICHTE              0.157874\n",
            "PLZ8_ANTG2            0.156444\n",
            "Name: 0, dtype: float64\n",
            "--------------------------------\n",
            "LP_STATUS_FEIN      -0.277261\n",
            "MOBI_REGIO          -0.249377\n",
            "WEALTH              -0.244413\n",
            "FINANZ_MINIMALIST   -0.233493\n",
            "KONSUMNAEHE         -0.176066\n",
            "Name: 0, dtype: float64\n",
            "--------------------------------\n",
            "Variance = 0.1219\n",
            "\n",
            "\n",
            "--------------------------------\n",
            "Principal Component 2\n",
            "--------------------------------\n",
            "SEMIO_ERL               0.270816\n",
            "ALTERSKATEGORIE_GROB    0.263793\n",
            "SEMIO_LUST              0.254132\n",
            "RETOURTYP_BK_S          0.180815\n",
            "FINANZ_VORSORGER        0.169820\n",
            "Name: 1, dtype: float64\n",
            "--------------------------------\n",
            "SEMIO_REL       -0.283959\n",
            "SEMIO_PFLICHT   -0.263217\n",
            "SEMIO_TRADV     -0.247329\n",
            "SEMIO_FAM       -0.243574\n",
            "DECADE          -0.236819\n",
            "Name: 1, dtype: float64\n",
            "--------------------------------\n",
            "Variance = 0.083\n",
            "\n",
            "\n",
            "--------------------------------\n",
            "Principal Component 3\n",
            "--------------------------------\n",
            "SEMIO_KAEM     0.378157\n",
            "SEMIO_DOM      0.355328\n",
            "SEMIO_KRIT     0.278643\n",
            "SEMIO_RAT      0.259794\n",
            "SEMIO_TRADV    0.147823\n",
            "Name: 2, dtype: float64\n",
            "--------------------------------\n",
            "SEMIO_VERT       -0.386043\n",
            "SEMIO_SOZ        -0.290000\n",
            "SEMIO_FAM        -0.262504\n",
            "SEMIO_KULT       -0.231823\n",
            "RETOURTYP_BK_S   -0.146116\n",
            "Name: 2, dtype: float64\n",
            "--------------------------------\n",
            "Variance = 0.065\n",
            "\n",
            "\n"
          ],
          "name": "stdout"
        }
      ]
    },
    {
      "metadata": {
        "id": "n1fe8HslvFLB",
        "colab_type": "text"
      },
      "cell_type": "markdown",
      "source": [
        "### Discussion 2.3: Interpret Principal Components\n",
        "\n",
        "Can we interpret positive and negative values from them in a meaningful way?\n",
        "\n",
        "- In principle component 1, `HH_EINKOMMEN_SCORE` with positive weight is on the opposite side of `WEALTH` with negative weight. If a household is richer, `HH_EINKOMMEN_SCORE` becomes lower, while `WEALTH` higher.\n",
        "\n",
        " - `HH_EINKOMMEN_SCORE`: Estimated household net income (1-highest, 6-lowest)\n",
        " - `WEALTH`: household wealth (1-poorer, 5-wealthy)\n",
        "\n",
        "- In principle component 1,  both `LP_STATUS_FEIN` and `WEALTH` have negative weight. It can be seen that they have similar scoring methods - low score for poor people and high score for rich people.\n",
        "\n",
        " - `LP_STATUS_FEIN` - Social status, fine scale (1- typical low-income earners, 10: top earners)\n",
        " - `WEALTH`: household wealth (1-poorer, 5-wealthy)"
      ]
    },
    {
      "metadata": {
        "id": "ceGmXFhFvFLC",
        "colab_type": "text"
      },
      "cell_type": "markdown",
      "source": [
        "## Step 3: Clustering\n",
        "\n"
      ]
    },
    {
      "metadata": {
        "id": "sDGb3sPvljTU",
        "colab_type": "text"
      },
      "cell_type": "markdown",
      "source": [
        "### Step 3.1: Apply Clustering to General Population\n",
        "\n",
        "You've assessed and cleaned the demographics data, then scaled and transformed them. Now, it's time to see how the data clusters in the principal components space. In this substep, you will apply** k-means clustering** to the dataset and use the average within-cluster distances from each point to their assigned cluster's centroid to decide on a number of clusters to keep.\n",
        "\n",
        "- Use sklearn's [KMeans](http://scikit-learn.org/stable/modules/generated/sklearn.cluster.KMeans.html#sklearn.cluster.KMeans) class to perform k-means clustering on the **PCA-transformed data**.\n",
        "- Then, compute the **average difference** from each point to its assigned cluster's center. \n",
        "\n",
        " - **Hint**: The KMeans object's `.score()` method might be useful here, but note that in sklearn, scores tend to be defined so that larger is better. Try applying it to a **small**, toy dataset, or use an internet search to help your understanding.\n",
        " \n",
        "- Perform the above two steps for a number of **different cluster counts**. You can then see how the average distance decreases with an increasing number of clusters. However, each additional cluster provides a smaller net benefit. Use this fact to select a final number of clusters in which to group the data. \n",
        "\n",
        " - **Warning**: because of the large size of the dataset, it can take a long time for the algorithm to resolve. The more clusters to fit, the longer the algorithm will take. You should test for cluster counts through** at least 10 **clusters to get the full picture, but you **shouldn't **need to test for a number of clusters above about **30**.\n",
        " \n",
        "- Once you've selected a final number of clusters to use, **re-fit** a KMeans instance to perform the clustering operation. Make sure that you also obtain the cluster assignments for the general demographics data, since you'll be using them in the final Step 3.3."
      ]
    },
    {
      "metadata": {
        "id": "-zKpQgJNjjPq",
        "colab_type": "code",
        "colab": {}
      },
      "cell_type": "code",
      "source": [
        "X_pca = pd.read_csv('data/x_pca.csv') #X_pca - the transformed X matrix with 31 components"
      ],
      "execution_count": 0,
      "outputs": []
    },
    {
      "metadata": {
        "id": "TsL6o7NdUWR1",
        "colab_type": "code",
        "colab": {}
      },
      "cell_type": "code",
      "source": [
        "def get_kmeans_score(data, center):\n",
        "    '''\n",
        "    returns the kmeans score regarding SSE for points to centers\n",
        "    INPUT:\n",
        "        data - the dataset you want to fit kmeans to\n",
        "        center - the number of centers you want (the k value)\n",
        "    OUTPUT:\n",
        "        score - the SSE score for the kmeans model fit to the data\n",
        "    '''\n",
        "    #instantiate kmeans\n",
        "    kmeans = KMeans(n_clusters = center)\n",
        "\n",
        "    # Then fit the model to your data using the fit method\n",
        "    model = kmeans.fit(data)\n",
        "    \n",
        "    # Obtain a score related to the model fit\n",
        "    score = np.abs(model.score(data))\n",
        "    \n",
        "    return score"
      ],
      "execution_count": 0,
      "outputs": []
    },
    {
      "metadata": {
        "id": "4GYCN7KzVbPH",
        "colab_type": "code",
        "colab": {}
      },
      "cell_type": "code",
      "source": [
        "# Over a number of different cluster counts,\n",
        "    # run k-means clustering on the data and\n",
        "    # compute the average within-cluster distances.\n",
        "\n",
        "\n",
        "scores = []\n",
        "centers = list(range(1,30,2))\n",
        "\n",
        "for center in centers:\n",
        "  #print(center)\n",
        "  score = get_kmeans_score(X_pca, center) \n",
        "  scores.append(score)"
      ],
      "execution_count": 0,
      "outputs": []
    },
    {
      "metadata": {
        "id": "MH4wk7dWaD41",
        "colab_type": "code",
        "outputId": "afb5c363-7404-4729-f74c-ee29a8677c7e",
        "colab": {
          "base_uri": "https://localhost:8080/",
          "height": 491
        }
      },
      "cell_type": "code",
      "source": [
        "# show scores in df\n",
        "\n",
        "scores_df = pd.DataFrame(data = {'centroid': centers, 'score': scores})\n",
        "scores_df"
      ],
      "execution_count": 0,
      "outputs": [
        {
          "output_type": "execute_result",
          "data": {
            "text/html": [
              "<div>\n",
              "<style scoped>\n",
              "    .dataframe tbody tr th:only-of-type {\n",
              "        vertical-align: middle;\n",
              "    }\n",
              "\n",
              "    .dataframe tbody tr th {\n",
              "        vertical-align: top;\n",
              "    }\n",
              "\n",
              "    .dataframe thead th {\n",
              "        text-align: right;\n",
              "    }\n",
              "</style>\n",
              "<table border=\"1\" class=\"dataframe\">\n",
              "  <thead>\n",
              "    <tr style=\"text-align: right;\">\n",
              "      <th></th>\n",
              "      <th>centroid</th>\n",
              "      <th>score</th>\n",
              "    </tr>\n",
              "  </thead>\n",
              "  <tbody>\n",
              "    <tr>\n",
              "      <th>0</th>\n",
              "      <td>1</td>\n",
              "      <td>3.954473e+07</td>\n",
              "    </tr>\n",
              "    <tr>\n",
              "      <th>1</th>\n",
              "      <td>3</td>\n",
              "      <td>3.286782e+07</td>\n",
              "    </tr>\n",
              "    <tr>\n",
              "      <th>2</th>\n",
              "      <td>5</td>\n",
              "      <td>2.998774e+07</td>\n",
              "    </tr>\n",
              "    <tr>\n",
              "      <th>3</th>\n",
              "      <td>7</td>\n",
              "      <td>2.838247e+07</td>\n",
              "    </tr>\n",
              "    <tr>\n",
              "      <th>4</th>\n",
              "      <td>9</td>\n",
              "      <td>2.735236e+07</td>\n",
              "    </tr>\n",
              "    <tr>\n",
              "      <th>5</th>\n",
              "      <td>11</td>\n",
              "      <td>2.656309e+07</td>\n",
              "    </tr>\n",
              "    <tr>\n",
              "      <th>6</th>\n",
              "      <td>13</td>\n",
              "      <td>2.581582e+07</td>\n",
              "    </tr>\n",
              "    <tr>\n",
              "      <th>7</th>\n",
              "      <td>15</td>\n",
              "      <td>2.523873e+07</td>\n",
              "    </tr>\n",
              "    <tr>\n",
              "      <th>8</th>\n",
              "      <td>17</td>\n",
              "      <td>2.476606e+07</td>\n",
              "    </tr>\n",
              "    <tr>\n",
              "      <th>9</th>\n",
              "      <td>19</td>\n",
              "      <td>2.420208e+07</td>\n",
              "    </tr>\n",
              "    <tr>\n",
              "      <th>10</th>\n",
              "      <td>21</td>\n",
              "      <td>2.389223e+07</td>\n",
              "    </tr>\n",
              "    <tr>\n",
              "      <th>11</th>\n",
              "      <td>23</td>\n",
              "      <td>2.348207e+07</td>\n",
              "    </tr>\n",
              "    <tr>\n",
              "      <th>12</th>\n",
              "      <td>25</td>\n",
              "      <td>2.313435e+07</td>\n",
              "    </tr>\n",
              "    <tr>\n",
              "      <th>13</th>\n",
              "      <td>27</td>\n",
              "      <td>2.299507e+07</td>\n",
              "    </tr>\n",
              "    <tr>\n",
              "      <th>14</th>\n",
              "      <td>29</td>\n",
              "      <td>2.273741e+07</td>\n",
              "    </tr>\n",
              "  </tbody>\n",
              "</table>\n",
              "</div>"
            ],
            "text/plain": [
              "    centroid         score\n",
              "0          1  3.954473e+07\n",
              "1          3  3.286782e+07\n",
              "2          5  2.998774e+07\n",
              "3          7  2.838247e+07\n",
              "4          9  2.735236e+07\n",
              "5         11  2.656309e+07\n",
              "6         13  2.581582e+07\n",
              "7         15  2.523873e+07\n",
              "8         17  2.476606e+07\n",
              "9         19  2.420208e+07\n",
              "10        21  2.389223e+07\n",
              "11        23  2.348207e+07\n",
              "12        25  2.313435e+07\n",
              "13        27  2.299507e+07\n",
              "14        29  2.273741e+07"
            ]
          },
          "metadata": {
            "tags": []
          },
          "execution_count": 75
        }
      ]
    },
    {
      "metadata": {
        "id": "PsrvNCYebMvl",
        "colab_type": "code",
        "colab": {}
      },
      "cell_type": "code",
      "source": [
        "scores_df.to_csv('data/kmeans_score.csv', index = False)"
      ],
      "execution_count": 0,
      "outputs": []
    },
    {
      "metadata": {
        "id": "21ROkOdjbfBH",
        "colab_type": "code",
        "colab": {}
      },
      "cell_type": "code",
      "source": [
        "# Investigate the change in within-cluster distance across number of clusters.\n",
        "# HINT: Use matplotlib's plot function to visualize this relationship.\n",
        "\n",
        "def plot_kmeans_scores(centers, scores):\n",
        "  plt.plot(centers, scores, \n",
        "           linestyle='--', marker='o', \n",
        "           color=my_color[0])\n",
        "  \n",
        "  plt.xlabel('K-centroids', fontsize = 12)\n",
        "  plt.ylabel('Score - Sum of Squared Errors', fontsize = 12)\n",
        "  plt.title('Relationship between \\nSum of Squared Errors v.s. \\nNumber of Centroids', size = 14)"
      ],
      "execution_count": 0,
      "outputs": []
    },
    {
      "metadata": {
        "id": "_b4y0CCleymc",
        "colab_type": "code",
        "outputId": "d581e556-e230-4e71-fa6f-658757b49ff9",
        "colab": {
          "base_uri": "https://localhost:8080/",
          "height": 331
        }
      },
      "cell_type": "code",
      "source": [
        "plot_kmeans_scores(centers, scores)"
      ],
      "execution_count": 0,
      "outputs": [
        {
          "output_type": "display_data",
          "data": {
            "image/png": "[encoded data removed]",
            "text/plain": [
              "<Figure size 432x288 with 1 Axes>"
            ]
          },
          "metadata": {
            "tags": []
          }
        }
      ]
    },
    {
      "metadata": {
        "id": "cboH8CEjvFLI",
        "colab_type": "code",
        "colab": {}
      },
      "cell_type": "code",
      "source": [
        "# Re-fit the k-means model with the selected number of clusters and obtain\n",
        "# cluster predictions for the general population demographics data.\n",
        "\n",
        "\n",
        "#fit_predict - Compute cluster centers and predict cluster index for each sample.\n",
        "kmeans_5 = KMeans(n_clusters = 5)\n",
        "general_predict = kmeans_5.fit_predict(X_pca)"
      ],
      "execution_count": 0,
      "outputs": []
    },
    {
      "metadata": {
        "id": "hI44GlRavFLK",
        "colab_type": "text"
      },
      "cell_type": "markdown",
      "source": [
        "### Discussion 3.1: Apply Clustering to General Population\n",
        "\n",
        " Into how many clusters have you decided to segment the population?\n",
        " \n",
        " - From the plot, it is clear that the 'elbow' is at 5. Thus, I chose 5 as the number of clusters."
      ]
    },
    {
      "metadata": {
        "id": "A-fJAXn8vFLL",
        "colab_type": "text"
      },
      "cell_type": "markdown",
      "source": [
        "### Step 3.2: Apply All Steps to the Customer Data\n",
        "\n",
        "Now that you have clusters and cluster centers for the general population, it's time to see how the customer data maps on to those clusters. Take care to not confuse this for re-fitting all of the models to the customer data. Instead, you're going to use the fits from the general population to clean, transform, and cluster the customer data. In the last step of the project, you will interpret how the general population fits apply to the customer data.\n",
        "\n",
        "- Don't forget when loading in the customers data, that it is semicolon (`;`) delimited.\n",
        "- Apply the same feature wrangling, selection, and engineering steps to the customer demographics using the `clean_data()` function you created earlier. (You can assume that the customer demographics data has similar meaning behind missing data patterns as the general demographics data.)\n",
        "- Use the **sklearn** objects from the general demographics data, and apply their transformations to the customers data. That is, you should not be using a `.fit()` or `.fit_transform()` method to re-fit the old objects, nor should you be creating new sklearn objects! Carry the data through the feature scaling, PCA, and clustering steps, obtaining cluster assignments for all of the data in the customer demographics data."
      ]
    },
    {
      "metadata": {
        "id": "-nAp_v2evFLM",
        "colab_type": "code",
        "colab": {}
      },
      "cell_type": "code",
      "source": [
        "# cleaned customer data\n",
        "df = pd.read_csv('data/customer_new.csv')\n",
        "\n",
        "cols = df.columns.tolist()"
      ],
      "execution_count": 0,
      "outputs": []
    },
    {
      "metadata": {
        "id": "wY3sE78DoRey",
        "colab_type": "code",
        "outputId": "4ed3874c-ec54-4a42-940b-41ad09f3c1cc",
        "colab": {
          "base_uri": "https://localhost:8080/",
          "height": 70
        }
      },
      "cell_type": "code",
      "source": [
        "#Impute Nan by mode\n",
        "#Apply feature scaling: StandardScaler()\n",
        "\n",
        "df = transform_data(df, cols)"
      ],
      "execution_count": 0,
      "outputs": [
        {
          "output_type": "stream",
          "text": [
            "/usr/local/lib/python3.6/dist-packages/sklearn/utils/deprecation.py:58: DeprecationWarning: Class Imputer is deprecated; Imputer was deprecated in version 0.20 and will be removed in 0.22. Import impute.SimpleImputer from sklearn instead.\n",
            "  warnings.warn(msg, category=DeprecationWarning)\n"
          ],
          "name": "stderr"
        }
      ]
    },
    {
      "metadata": {
        "id": "oRgFEYv7ojkg",
        "colab_type": "code",
        "colab": {}
      },
      "cell_type": "code",
      "source": [
        "#transform the customers data using pca object (115420, 31)\n",
        "df = pca.transform(df)"
      ],
      "execution_count": 0,
      "outputs": []
    },
    {
      "metadata": {
        "id": "sP5DM-NevFLO",
        "colab_type": "code",
        "colab": {}
      },
      "cell_type": "code",
      "source": [
        "# Apply clustering from the general\n",
        "# demographics onto the customer data, \n",
        "# obtaining cluster predictions for the\n",
        "# customer demographics data.\n",
        "\n",
        "customer_predict = kmeans_5.predict(df)\n"
      ],
      "execution_count": 0,
      "outputs": []
    },
    {
      "metadata": {
        "id": "2lLNEd_jvFLQ",
        "colab_type": "text"
      },
      "cell_type": "markdown",
      "source": [
        "### Step 3.3: Compare Customer Data to Demographics Data\n",
        "\n",
        "At this point, you have **clustered data** based on demographics of the general population of Germany, and seen how the customer data for a mail-order sales company maps onto those demographic clusters. In this final substep, you will compare the two cluster distributions to see where the strongest customer base for the company is.\n",
        "\n",
        "Consider the proportion of persons in each cluster for the general population, and the proportions for the customers. If we think the company's customer base to be **universal**, then the cluster assignment proportions should be fairly **similar** between the two. \n",
        "\n",
        "- If there are **only particular** segments of the population that are interested in the company's products, then we should see a mismatch from one to the other.\n",
        "\n",
        "- If there is a **higher proportion** of persons in a cluster for the **customer** data compared to the general population, then that suggests the people in that cluster to be a **target** audience for the company.\n",
        " - e.g. 5% of persons are assigned to a cluster for the general population, but 15% of the customer data is closest to that cluster's centroid\n",
        "\n",
        "- On the other hand, the proportion of the data in a cluster being **larger** in the **general** population than the customer data suggests that group of persons to be** outside of the target **demographics.\n",
        " - e.g. only 2% of customers closest to a population centroid that captures 6% of the data\n",
        "\n",
        "Take a look at the following points in this step:\n",
        "\n",
        "- Compute the proportion of data points in each cluster for the general population and the customer data. Visualizations will be useful here: both for the individual dataset proportions, but also to visualize the **ratios** in cluster representation between groups. Seaborn's [`countplot()`](https://seaborn.pydata.org/generated/seaborn.countplot.html) or [`barplot()`](https://seaborn.pydata.org/generated/seaborn.barplot.html) function could be handy.\n",
        "  - Recall the analysis you performed in step 1.1.3 of the project, where you separated out certain data points from the dataset if they had more than a specified threshold of missing values. If you found that this group was qualitatively different from the main bulk of the data, you should treat this as an additional data cluster in this analysis. Make sure that you account for the number of data points in this subset, for both the general population and customer datasets, when making your computations!\n",
        "- Which cluster or clusters are **overrepresented** in the customer dataset compared to the general population? Select at least one such cluster and infer what kind of people might be represented by that cluster. \n",
        " - Use the principal component interpretations from step 2.3 or look at additional components to help you make this inference. \n",
        "\n",
        " - Alternatively, you can use the `.inverse_transform()` method of the **PCA** and **StandardScaler** objects to transform centroids back to the** original data** space and interpret the retrieved values directly.\n",
        "- Perform a similar investigation for the **underrepresented** clusters. Which cluster or clusters are underrepresented in the customer dataset compared to the general population, and what kinds of people are typified by these clusters?"
      ]
    },
    {
      "metadata": {
        "id": "FRc0yc2UuIEc",
        "colab_type": "code",
        "colab": {}
      },
      "cell_type": "code",
      "source": [
        "def build_cluster_df(prediction):\n",
        "  '''\n",
        "  To convert kmeans prediction result (array) to a dataframe\n",
        "  '''\n",
        "  x = np.array(prediction)\n",
        "  cluster, counts = np.unique(x, return_counts=True)\n",
        "  \n",
        "  df = pd.DataFrame({'Cluster': cluster, 'Counts': counts})\n",
        "  \n",
        "  return df"
      ],
      "execution_count": 0,
      "outputs": []
    },
    {
      "metadata": {
        "id": "k1QcyPQVvxxJ",
        "colab_type": "code",
        "colab": {}
      },
      "cell_type": "code",
      "source": [
        "# Compare the proportion of data in each cluster for the customer data to the\n",
        "# proportion of data in each cluster for the general population.\n",
        "\n",
        "def concat_cluster_df(predict1, predict2):\n",
        "  '''\n",
        "  To compare 2 predictions - genenral vs customer\n",
        "  '''\n",
        "  df1 = build_cluster_df(predict1)\n",
        "  df2 = build_cluster_df(predict2)\n",
        "  \n",
        "  df = pd.concat([df1, df2], axis=1, join='outer', ignore_index=True, keys='Cluster')\n",
        "  \n",
        "  df.drop([2], axis = 1, inplace = True)\n",
        "  \n",
        "  df.rename(columns = {0: 'Cluster', 1: 'General', 3: 'Customer'}, inplace = True)\n",
        "  \n",
        "  df['General_Proportion'] = round(df['General'] / df['General'].sum() * 100, 2)\n",
        "  df['Customer_Proportion'] = round(df['Customer'] / df['Customer'].sum() * 100, 2)\n",
        "  \n",
        "  return df"
      ],
      "execution_count": 0,
      "outputs": []
    },
    {
      "metadata": {
        "id": "o9tBCww8x589",
        "colab_type": "code",
        "outputId": "50a778c1-f4f5-4ab8-dfff-544f2d7d2c90",
        "colab": {
          "base_uri": "https://localhost:8080/",
          "height": 195
        }
      },
      "cell_type": "code",
      "source": [
        "df = concat_cluster_df(general_predict, customer_predict)\n",
        "df"
      ],
      "execution_count": 0,
      "outputs": [
        {
          "output_type": "execute_result",
          "data": {
            "text/html": [
              "<div>\n",
              "<style scoped>\n",
              "    .dataframe tbody tr th:only-of-type {\n",
              "        vertical-align: middle;\n",
              "    }\n",
              "\n",
              "    .dataframe tbody tr th {\n",
              "        vertical-align: top;\n",
              "    }\n",
              "\n",
              "    .dataframe thead th {\n",
              "        text-align: right;\n",
              "    }\n",
              "</style>\n",
              "<table border=\"1\" class=\"dataframe\">\n",
              "  <thead>\n",
              "    <tr style=\"text-align: right;\">\n",
              "      <th></th>\n",
              "      <th>Cluster</th>\n",
              "      <th>General</th>\n",
              "      <th>Customer</th>\n",
              "      <th>General_Proportion</th>\n",
              "      <th>Customer_Proportion</th>\n",
              "    </tr>\n",
              "  </thead>\n",
              "  <tbody>\n",
              "    <tr>\n",
              "      <th>0</th>\n",
              "      <td>0</td>\n",
              "      <td>160323</td>\n",
              "      <td>29609</td>\n",
              "      <td>23.05</td>\n",
              "      <td>25.65</td>\n",
              "    </tr>\n",
              "    <tr>\n",
              "      <th>1</th>\n",
              "      <td>1</td>\n",
              "      <td>119791</td>\n",
              "      <td>9601</td>\n",
              "      <td>17.22</td>\n",
              "      <td>8.32</td>\n",
              "    </tr>\n",
              "    <tr>\n",
              "      <th>2</th>\n",
              "      <td>2</td>\n",
              "      <td>207193</td>\n",
              "      <td>31533</td>\n",
              "      <td>29.79</td>\n",
              "      <td>27.32</td>\n",
              "    </tr>\n",
              "    <tr>\n",
              "      <th>3</th>\n",
              "      <td>3</td>\n",
              "      <td>96249</td>\n",
              "      <td>10863</td>\n",
              "      <td>13.84</td>\n",
              "      <td>9.41</td>\n",
              "    </tr>\n",
              "    <tr>\n",
              "      <th>4</th>\n",
              "      <td>4</td>\n",
              "      <td>111997</td>\n",
              "      <td>33814</td>\n",
              "      <td>16.10</td>\n",
              "      <td>29.30</td>\n",
              "    </tr>\n",
              "  </tbody>\n",
              "</table>\n",
              "</div>"
            ],
            "text/plain": [
              "   Cluster  General  Customer  General_Proportion  Customer_Proportion\n",
              "0        0   160323     29609               23.05                25.65\n",
              "1        1   119791      9601               17.22                 8.32\n",
              "2        2   207193     31533               29.79                27.32\n",
              "3        3    96249     10863               13.84                 9.41\n",
              "4        4   111997     33814               16.10                29.30"
            ]
          },
          "metadata": {
            "tags": []
          },
          "execution_count": 46
        }
      ]
    },
    {
      "metadata": {
        "id": "1ZYr4pqa5SKJ",
        "colab_type": "code",
        "outputId": "e31d101a-a614-4ba6-8ba0-f9a18ffe2d5c",
        "colab": {
          "base_uri": "https://localhost:8080/",
          "height": 533
        }
      },
      "cell_type": "code",
      "source": [
        "# Draw a plot\n",
        "\n",
        "barWidth = 0.3\n",
        "r1 = np.arange(df.shape[0])\n",
        "r2 = [x + barWidth for x in r1]\n",
        "\n",
        "plt.figure(figsize=(12,8))\n",
        "\n",
        "plt.bar(r1, df['General_Proportion'], width = barWidth, color = my_color[0], edgecolor = 'black', capsize=12, label='General Population')\n",
        " \n",
        "# Create cyan bars\n",
        "plt.bar(r2, df['Customer_Proportion'], width = barWidth, color = my_color[1], edgecolor = 'black',  capsize=12, label='Customers')\n",
        " \n",
        "# general layout\n",
        "plt.xlabel('Cluster', fontsize = 12)\n",
        "plt.ylabel('Percentage (%)', fontsize = 12)\n",
        "plt.title(\"Comparing Proportion of People in Each Cluster\", size = 14)\n",
        "plt.legend()\n"
      ],
      "execution_count": 0,
      "outputs": [
        {
          "output_type": "execute_result",
          "data": {
            "text/plain": [
              "<matplotlib.legend.Legend at 0x7fc11758e390>"
            ]
          },
          "metadata": {
            "tags": []
          },
          "execution_count": 60
        },
        {
          "output_type": "display_data",
          "data": {
            "image/png": "[encoded data removed]",
            "text/plain": [
              "<Figure size 864x576 with 1 Axes>"
            ]
          },
          "metadata": {
            "tags": []
          }
        }
      ]
    },
    {
      "metadata": {
        "id": "Vg9G8egiMhAF",
        "colab_type": "code",
        "colab": {}
      },
      "cell_type": "code",
      "source": [
        "def inverse_cluster(i, cols):\n",
        "  '''\n",
        "  cols - 71 column names of cleaned data\n",
        "  '''\n",
        "  # inverse transform to its original score\n",
        "  cluster = kmeans_5.cluster_centers_[i]\n",
        "  cluster = pca.inverse_transform(cluster)\n",
        "  cluster = scaler.inverse_transform(cluster)\n",
        "  \n",
        "  # to dataframe\n",
        "  df = pd.DataFrame({'Score': cluster}, index = cols)\n",
        "  \n",
        "  return df"
      ],
      "execution_count": 0,
      "outputs": []
    },
    {
      "metadata": {
        "id": "8udKE9mhNGJX",
        "colab_type": "code",
        "colab": {}
      },
      "cell_type": "code",
      "source": [
        "# top 5 important positive / negative features of principle component #1 \n",
        "pc_1_posi = [\n",
        "    'LP_STATUS_GROB_1.0', \n",
        "    'ORTSGR_KLS9',\n",
        "    'HH_EINKOMMEN_SCORE',\n",
        "    'EWDICHTE',\n",
        "    'PLZ8_ANTG2'    \n",
        "]\n",
        "\n",
        "pc_1_nega = [\n",
        "    'LP_STATUS_FEIN',\n",
        "    'MOBI_REGIO',\n",
        "    'WEALTH',\n",
        "    'FINANZ_MINIMALIST',\n",
        "    'KONSUMNAEHE'\n",
        "]"
      ],
      "execution_count": 0,
      "outputs": []
    },
    {
      "metadata": {
        "id": "_nVV5zltNKkC",
        "colab_type": "code",
        "colab": {}
      },
      "cell_type": "code",
      "source": [
        "def get_original_score_pc1(df):\n",
        "  \n",
        "  dict = {}\n",
        "\n",
        "  for col in pc_1_posi:\n",
        "    dict[col] = df.loc[col]['Score'].round()\n",
        "\n",
        "  for col in pc_1_nega:\n",
        "    dict[col] = df.loc[col]['Score'].round()\n",
        "\n",
        "\n",
        "  return dict"
      ],
      "execution_count": 0,
      "outputs": []
    },
    {
      "metadata": {
        "id": "bxtQOA1MNyCm",
        "colab_type": "code",
        "outputId": "f5febdb5-f3cc-4f56-b596-58005feeddc8",
        "colab": {
          "base_uri": "https://localhost:8080/",
          "height": 185
        }
      },
      "cell_type": "code",
      "source": [
        "# What kinds of people are part of a cluster that is overrepresented in the\n",
        "# customer data compared to the general population?\n",
        "\n",
        "# Cluster 4\n",
        "\n",
        "df = inverse_cluster(4, cols)\n",
        "df = get_original_score_pc1(df)\n",
        "\n",
        "df\n"
      ],
      "execution_count": 0,
      "outputs": [
        {
          "output_type": "execute_result",
          "data": {
            "text/plain": [
              "{'EWDICHTE': 4.0,\n",
              " 'FINANZ_MINIMALIST': 4.0,\n",
              " 'HH_EINKOMMEN_SCORE': 4.0,\n",
              " 'KONSUMNAEHE': 3.0,\n",
              " 'LP_STATUS_FEIN': 9.0,\n",
              " 'LP_STATUS_GROB_1.0': 0.0,\n",
              " 'MOBI_REGIO': 4.0,\n",
              " 'ORTSGR_KLS9': 5.0,\n",
              " 'PLZ8_ANTG2': 3.0,\n",
              " 'WEALTH': 4.0}"
            ]
          },
          "metadata": {
            "tags": []
          },
          "execution_count": 121
        }
      ]
    },
    {
      "metadata": {
        "id": "CKPIFT2iRIJf",
        "colab_type": "text"
      },
      "cell_type": "markdown",
      "source": [
        "The target people might have the following features.\n",
        "\n",
        "- They might\n",
        " - have low financial interest and average income, \n",
        " - be houseowners,\n",
        " - be prosperous households.\n",
        "- Their movement pattern is low movement.\n",
        "\n",
        "- Their building might be located in a 500 x 500m grid cell, and\n",
        "- their community might have 20,001 to 50,000 inhabitants.\n",
        "\n",
        "- They might have high share of 3-5 family homes in the PLZ8 region.\n",
        "\n",
        "- Their density of households per square kilometer might be 150 - 319."
      ]
    },
    {
      "metadata": {
        "id": "Hw4Yin7BvFLY",
        "colab_type": "code",
        "outputId": "1d591ff6-a184-40d8-8d34-0a88827707fb",
        "colab": {
          "base_uri": "https://localhost:8080/",
          "height": 185
        }
      },
      "cell_type": "code",
      "source": [
        "# What kinds of people are part of a cluster that is underrepresented in the\n",
        "# customer data compared to the general population?\n",
        "\n",
        "# Cluster 1\n",
        "\n",
        "df = inverse_cluster(1, cols)\n",
        "df = get_original_score_pc1(df)\n",
        "\n",
        "df"
      ],
      "execution_count": 0,
      "outputs": [
        {
          "output_type": "execute_result",
          "data": {
            "text/plain": [
              "{'EWDICHTE': 5.0,\n",
              " 'FINANZ_MINIMALIST': 3.0,\n",
              " 'HH_EINKOMMEN_SCORE': 5.0,\n",
              " 'KONSUMNAEHE': 3.0,\n",
              " 'LP_STATUS_FEIN': 3.0,\n",
              " 'LP_STATUS_GROB_1.0': 1.0,\n",
              " 'MOBI_REGIO': 3.0,\n",
              " 'ORTSGR_KLS9': 6.0,\n",
              " 'PLZ8_ANTG2': 3.0,\n",
              " 'WEALTH': 2.0}"
            ]
          },
          "metadata": {
            "tags": []
          },
          "execution_count": 122
        }
      ]
    },
    {
      "metadata": {
        "id": "PqNAr-Q8SMV7",
        "colab_type": "text"
      },
      "cell_type": "markdown",
      "source": [
        "The following persons might not belong to the company's target customers.\n",
        "\n",
        "- They might\n",
        "\n",
        " - have  lower income and average financial interest,\n",
        " - be aspiring low-income earners,\n",
        " - be less affluent households.\n",
        "\n",
        "- Their movement pattern might be middle movement.\n",
        "\n",
        "- Their building might be  located in a 500 x 500m grid cell.\n",
        "\n",
        "- Their community might have 50,001 to 100,000 inhabitants.\n",
        "\n",
        "- They might have high share of 3-5 family homes  in the PLZ8 region.\n"
      ]
    },
    {
      "metadata": {
        "id": "rlKlTILzvFLb",
        "colab_type": "text"
      },
      "cell_type": "markdown",
      "source": [
        "### Discussion 3.3: Compare Customer Data to Demographics Data\n",
        "\n",
        "Can we describe segments of the population that are relatively popular with the mail-order company, or relatively unpopular with the company?\n",
        "\n",
        "Yes. The cluster assignment proportions are fairly similar between the general population and the customers. "
      ]
    },
    {
      "metadata": {
        "id": "Wape6ECMvFLc",
        "colab_type": "text"
      },
      "cell_type": "markdown",
      "source": [
        "> Congratulations on making it this far in the project! Before you finish, make sure to check through the entire notebook from top to bottom to make sure that your analysis follows a logical flow and all of your findings are documented in **Discussion** cells. Once you've checked over all of your work, you should export the notebook as an HTML document to submit for evaluation. You can do this from the menu, navigating to **File -> Download as -> HTML (.html)**. You will submit both that document and this notebook for your project submission."
      ]
    },
    {
      "metadata": {
        "id": "ImUTQxn1vFLd",
        "colab_type": "code",
        "outputId": "acdd4707-92f1-4fdb-d7e6-eba887dac808",
        "colab": {
          "base_uri": "https://localhost:8080/",
          "height": 84
        }
      },
      "cell_type": "code",
      "source": [
        "# Convert into HTML\n",
        "!!jupyter nbconvert *.ipynb"
      ],
      "execution_count": 0,
      "outputs": [
        {
          "output_type": "execute_result",
          "data": {
            "text/plain": [
              "['[NbConvertApp] Converting notebook cleaning_function.ipynb to html',\n",
              " '[NbConvertApp] Writing 303752 bytes to cleaning_function.html',\n",
              " '[NbConvertApp] Converting notebook Identify_Customer_Segments.ipynb to html',\n",
              " '[NbConvertApp] Writing 889535 bytes to Identify_Customer_Segments.html']"
            ]
          },
          "metadata": {
            "tags": []
          },
          "execution_count": 123
        }
      ]
    }
  ]
}